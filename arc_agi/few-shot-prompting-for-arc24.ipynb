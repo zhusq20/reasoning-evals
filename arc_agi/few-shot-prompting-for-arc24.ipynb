{
 "cells": [
  {
   "cell_type": "markdown",
   "metadata": {},
   "source": [
    "# Few-shot prompting for ARC24 Challenge"
   ]
  },
  {
   "cell_type": "markdown",
   "metadata": {},
   "source": [
    "## Goal"
   ]
  },
  {
   "cell_type": "markdown",
   "metadata": {},
   "source": [
    "How far can we get by simply using few-shot prompting with LLMs?"
   ]
  },
  {
   "cell_type": "markdown",
   "metadata": {},
   "source": [
    "Questions to answer:\n",
    "\n",
    "- **What is the maximum context lenght that we can use at inference?** 61k tokens when using VLLM and phi-3\n",
    "- **What is the best way to encode the grids?** Use a minimal encoding to reduce token usage\n",
    "- **What is the effect of using a bigger number of examples?** Phi-3 does not benefit from using few-shot prompting\n",
    "- **Does giving a text description of the task helps?** Phi-3 does not benefit from including text description in the few-shot examples\n",
    "- **What is the best LLM for this task?** So far Llama 3 has been the only model capable of solving one test task."
   ]
  },
  {
   "cell_type": "markdown",
   "metadata": {},
   "source": [
    "## Results\n",
    "\n",
    "### Zero-shot baseline\n",
    "\n",
    "On a first step I have tried a very simple baseline where I give input grids to the assistant and\n",
    "the assistant replies with the output for each grid. This is done with all the train samples until\n",
    "we give the test input and use the response of the model as the prediction.\n",
    "In addition I also use data augmentations (flips and rotations) to make up to two predictions for each task.\n",
    "The data augmentation is also useful because sometimes the prediction of the model is invalid, so we have to make multiple predictions to have 2 valid responses.\n",
    "\n",
    "| train | evaluation | test |\n",
    "|-------|------------|------|\n",
    "| 6.40% | 2.50%      | 0%   |\n",
    "\n",
    "This approach is able to solve some of the train and evaluation task, but it does not solve any of the test tasks.\n",
    "\n",
    "### Few-shot results\n",
    "\n",
    "Using samples from the evaluation dataset I have evaluated the effect of using few-shot prompting. In this case\n",
    "I have changed the prompt style: the user shows input-output pairs to the assistant and then requests the assistant\n",
    "to predict the output given some input.\n",
    "\n",
    "| n shots | accuracy | correct_pixels | correct_size | unanswered |\n",
    "|---------|----------|----------------|--------------|------------|\n",
    "| 0       | 5.80%    | 55.10%         | 73.50%       | 17.40%     |\n",
    "| 1       | 4.50%    | 44.80%         | 61.00%       | 23.60%     |\n",
    "| 2       | 4.80%    | 37.70%         | 54.40%       | 29.80%     |\n",
    "| 4       | 2.50%    | 22.40%         | 33.10%       | 33.10%     |\n",
    "| 8       | 2.30%    | 23.10%         | 35.50%       | 36.80%     |\n",
    "\n",
    "The results show that Phi-3 does not benefit from few-shot prompting with ARC tasks. As we give more\n",
    "examples the results get worse.\n",
    "\n",
    "### Add reasoning\n",
    "\n",
    "I have manually described with text the transformation of some of the evaluation tasks. Then repeat\n",
    "the few-shot experiment but adding the reasoning before creating the grid.\n",
    "\n",
    "| uses reasoning | accuracy | correct_pixels | correct_size | unanswered |\n",
    "|----------------|----------|----------------|--------------|------------|\n",
    "| No             | 2.50%    | 22.40%         | 33.10%       | 33.10%     |\n",
    "| Yes            | 1%       | 19%            | 30.70%       | 42.50%     |\n",
    "\n",
    "The model does not understand the puzzles. The examples and reasoning are not useful\n",
    "\n",
    "### Different models, zero-shot\n",
    "\n",
    "Since the best results were obtained for the 0-shot setup, I could try using different models.\n",
    "I can make submissions without using compute time, so I could see if some of the models is able\n",
    "to solve some task from the test set.\n",
    "\n",
    "| model      | test |\n",
    "|------------|------|\n",
    "| Phi-3      | 0    |\n",
    "| Mistral 7b | 0    |\n",
    "| Llama 3 8b | 1    |\n",
    "| Llama 3.1 8b | 0    |\n",
    "\n",
    "Llama 3 is able to solve one of the tasks from the test set. To better compare the models I should\n",
    "evaluate them on the public data, but I don't have Kaggle compute available.\n",
    "\n",
    "## Conclusion\n",
    "\n",
    "Few-shot or zero-shot inference with current LLMs is not the way to solve the ARC challenge.\n",
    "The performance is very poor."
   ]
  },
  {
   "cell_type": "markdown",
   "metadata": {},
   "source": [
    "## References"
   ]
  },
  {
   "cell_type": "markdown",
   "metadata": {},
   "source": [
    "### Notebooks"
   ]
  },
  {
   "cell_type": "markdown",
   "metadata": {},
   "source": [
    "- https://www.kaggle.com/code/ironbar/2xvllm-with-code-interpreter\n",
    "- https://www.kaggle.com/code/ironbar/autobots-roll-out/notebook"
   ]
  },
  {
   "cell_type": "markdown",
   "metadata": {},
   "source": [
    "### Models"
   ]
  },
  {
   "cell_type": "markdown",
   "metadata": {},
   "source": [
    "- https://huggingface.co/microsoft/Phi-3-mini-128k-instruct\n",
    "- https://huggingface.co/blog/kv-cache-quantization\n",
    "- https://www.reddit.com/r/LocalLLaMA/comments/1e0kkgk/hardware_requirements_for_phi3_mini_and_phi3/\n",
    "- https://www.reddit.com/media?url=https%3A%2F%2Fpreview.redd.it%2Fmicrosoft-phi-3-3-8b-with-128k-context-released-on-hf-v0-h2xzg8vaigwc1.jpeg%3Fwidth%3D1734%26format%3Dpjpg%26auto%3Dwebp%26s%3Dec27de7bd97a90a4c44ff95c561ce8008ce7aed3\n",
    "- https://huggingface.co/docs/transformers/main/en/chat_templating"
   ]
  },
  {
   "cell_type": "markdown",
   "metadata": {},
   "source": [
    "> The Phi-3-Mini-128K-Instruct is a 3.8 billion-parameter, lightweight, state-of-the-art open model trained using the Phi-3 datasets. "
   ]
  },
  {
   "cell_type": "markdown",
   "metadata": {},
   "source": [
    "## Learnings"
   ]
  },
  {
   "cell_type": "markdown",
   "metadata": {},
   "source": [
    "### Phi-3 with transformers"
   ]
  },
  {
   "cell_type": "markdown",
   "metadata": {},
   "source": [
    "If I load the phi-3 model with `torch_dtype=\"auto\"` and `device_map=\"balanced\"` it uses 3.7 GB of GPU memory on each device. It is able to handle an input of 4000 tokens using 13.4/15 GB of memory.\n",
    "\n",
    "This is a very small context window compared to the 128k that the model is able to handle."
   ]
  },
  {
   "cell_type": "markdown",
   "metadata": {},
   "source": [
    "> ValueError: This model does not support the quantized cache. If you want your model to support quantized cache, please open an issue."
   ]
  },
  {
   "cell_type": "markdown",
   "metadata": {},
   "source": [
    "### Phi-3 with VLLM"
   ]
  },
  {
   "cell_type": "markdown",
   "metadata": {},
   "source": [
    "It works with `vllm=0.5.3.post1` and `vllm-0.5.1`"
   ]
  },
  {
   "cell_type": "markdown",
   "metadata": {},
   "source": [
    "I had to use `vllm-0.5.1` to make it work, other versions didn't worked so far. I was able to run VLLM with `Phi-3-mini-128k-instruct` and a context size of 61k by using `kv_cache_dtype='fp8_e5m2'`.\n",
    "\n",
    "That is far from the 128k context size of the model, but much better than the 4k tokens when using transformers. Futhermore this [plot](https://www.reddit.com/media?url=https%3A%2F%2Fpreview.redd.it%2Fmicrosoft-phi-3-3-8b-with-128k-context-released-on-hf-v0-h2xzg8vaigwc1.jpeg%3Fwidth%3D1734%26format%3Dpjpg%26auto%3Dwebp%26s%3Dec27de7bd97a90a4c44ff95c561ce8008ce7aed3) says that a context size bigger than 44k does not work well."
   ]
  },
  {
   "cell_type": "markdown",
   "metadata": {},
   "source": [
    "#### What didn't work"
   ]
  },
  {
   "cell_type": "markdown",
   "metadata": {},
   "source": [
    "I can makek it work with `vllm==0.4.3` and `Phi-3-mini-4k-instruct` with 4000 input tokens. However with `Phi-3-mini-128k-instruct` I get this error: \n",
    "\n",
    "```\n",
    "File /opt/conda/lib/python3.10/site-packages/vllm/config.py:1224, in _get_and_verify_max_len(hf_config, max_model_len, disable_sliding_window, sliding_window_len)\n",
    "   1217 if disable_sliding_window:\n",
    "   1218     # TODO(robertgshaw): Find a model that supports rope_scaling\n",
    "   1219     # with sliding window to see if this case should be allowed.\n",
    "   1220     raise NotImplementedError(\n",
    "   1221         \"Disabling sliding window is not supported for models \"\n",
    "   1222         \"with rope_scaling. Please raise an issue so we can \"\n",
    "   1223         \"investigate.\")\n",
    "-> 1224 assert \"factor\" in rope_scaling\n",
    "   1225 scaling_factor = rope_scaling[\"factor\"]\n",
    "   1226 if rope_scaling[\"type\"] == \"yarn\":\n",
    "\n",
    "AssertionError: \n",
    "```"
   ]
  },
  {
   "cell_type": "markdown",
   "metadata": {},
   "source": [
    "If I use `vllm-0.5.2` I get the same error for both models:\n",
    "\n",
    "```\n",
    "AttributeError: '_OpNamespace' '_C' object has no attribute 'rms_norm'\n",
    "```"
   ]
  },
  {
   "cell_type": "markdown",
   "metadata": {},
   "source": [
    "If I use `vllm-0.5.1` it works for the 4k model. The 128k model gives OOM error.\n",
    "\n",
    "I try then using `tensor_parallel_size=2` and get this error:\n",
    "\n",
    "```\n",
    "# `tensor_parallel_size=2` \n",
    "ValueError: The model's max seq len (64000) is larger than the maximum number of tokens that can be stored in KV cache (30528). Try increasing `gpu_memory_utilization` or decreasing `max_model_len` when initializing the engine.\n",
    "# `tensor_parallel_size=2` and kv_cache_dtype='fp8_e5m2',\n",
    "ValueError: The model's max seq len (64000) is larger than the maximum number of tokens that can be stored in KV cache (61072). Try increasing `gpu_memory_utilization` or decreasing `max_model_len` when initializing the engine.\n",
    "```"
   ]
  },
  {
   "cell_type": "markdown",
   "metadata": {},
   "source": [
    "#### Getting the same output as with transformers\n",
    "\n",
    "I have verified that if I apply the chat template before calling the model, and if I don't use kv cache quantization I get the [exact same response](https://www.kaggle.com/code/ironbar/phi-3-sample-code?scriptVersionId=188682799) to the default messages in the model documentation:\n",
    "\n",
    "```\n",
    " To solve the equation 2x + 3 = 7, follow these steps:\n",
    "\n",
    "1. Subtract 3 from both sides of the equation:\n",
    "   2x + 3 - 3 = 7 - 3\n",
    "   2x = 4\n",
    "\n",
    "2. Divide both sides of the equation by 2:\n",
    "   2x/2 = 4/2\n",
    "   x = 2\n",
    "\n",
    "So, the solution to the equation 2x + 3 = 7 is x = 2.\n",
    "```"
   ]
  },
  {
   "cell_type": "markdown",
   "metadata": {},
   "source": [
    "### First experiments"
   ]
  },
  {
   "cell_type": "markdown",
   "metadata": {},
   "source": [
    "Using a basic grid encoder already uses 8k tokens in the worst case. (`30x30x2x4=7200`)\n",
    "Thus an encoder that uses excel notation (A1, B2...) will use at least 3 times more tokens. "
   ]
  },
  {
   "cell_type": "markdown",
   "metadata": {},
   "source": [
    "## Configuration"
   ]
  },
  {
   "cell_type": "code",
   "execution_count": 4,
   "metadata": {
    "execution": {
     "iopub.execute_input": "2024-07-25T12:44:38.443685Z",
     "iopub.status.busy": "2024-07-25T12:44:38.443319Z",
     "iopub.status.idle": "2024-07-25T12:44:38.455939Z",
     "shell.execute_reply": "2024-07-25T12:44:38.455072Z",
     "shell.execute_reply.started": "2024-07-25T12:44:38.443639Z"
    },
    "trusted": true
   },
   "outputs": [],
   "source": [
    "class cfg:\n",
    "    # Model\n",
    "    #model_path = '/kaggle/input/phi-3/transformers/phi-3-mini-128k-instruct/1/Phi-3-mini-128k-instruct'\n",
    "    #model_path = '/kaggle/input/mistral/pytorch/7b-instruct-v0.1-hf/1'\n",
    "    #model_path = '/kaggle/input/llama-3/transformers/8b-chat-hf/1'\n",
    "    model_path = '/workspace/HuggingFace-Download-Accelerator/llama/models--meta-llama--Llama-3.1-8B-Instruct'\n",
    "    max_model_len = 8192 #61000 for phi-3\n",
    "    # Dataset\n",
    "    dataset_path = './arc-prize-2024/arc-agi_training_challenges.json'\n",
    "    #dataset_path = '/kaggle/input/arc-prize-2024/arc-agi_evaluation_challenges.json'\n",
    "    #dataset_path = '/kaggle/input/arc-prize-2024/arc-agi_test_challenges.json'\n",
    "    n_tasks = None # Optional parameter to limit the number of task in the inference, set it to None to use all the tasks\n",
    "    # Few-shot\n",
    "    few_shot_dataset_path = './arc-prize-2024/arc-agi_evaluation_challenges.json'\n",
    "    n_shots = 0\n",
    "    # Inference params\n",
    "    max_predictions_per_task = 2 # \n",
    "    sampling_params = dict(temperature=0.0, max_tokens=2000) # https://docs.vllm.ai/en/latest/dev/sampling_params.html"
   ]
  },
  {
   "cell_type": "code",
   "execution_count": 5,
   "metadata": {
    "execution": {
     "iopub.execute_input": "2024-07-25T12:44:38.457942Z",
     "iopub.status.busy": "2024-07-25T12:44:38.457608Z",
     "iopub.status.idle": "2024-07-25T12:44:38.468223Z",
     "shell.execute_reply": "2024-07-25T12:44:38.467449Z",
     "shell.execute_reply.started": "2024-07-25T12:44:38.457915Z"
    },
    "trusted": true
   },
   "outputs": [],
   "source": [
    "import os\n",
    "is_dry_run = cfg.dataset_path == './arc-prize-2024/arc-agi_test_challenges.json' and not os.getenv('KAGGLE_IS_COMPETITION_RERUN')\n",
    "if is_dry_run:\n",
    "    print('This is a dry run, no inference nor installation of packages will be done')"
   ]
  },
  {
   "cell_type": "markdown",
   "metadata": {},
   "source": [
    "## Install"
   ]
  },
  {
   "cell_type": "code",
   "execution_count": 7,
   "metadata": {
    "execution": {
     "iopub.execute_input": "2024-07-25T12:44:38.469917Z",
     "iopub.status.busy": "2024-07-25T12:44:38.469632Z",
     "iopub.status.idle": "2024-07-25T12:47:37.578142Z",
     "shell.execute_reply": "2024-07-25T12:47:37.577164Z",
     "shell.execute_reply.started": "2024-07-25T12:44:38.469895Z"
    },
    "trusted": true
   },
   "outputs": [
    {
     "name": "stderr",
     "output_type": "stream",
     "text": [
      "/workspace/miniconda3/envs/livecode/lib/python3.10/site-packages/tqdm/auto.py:21: TqdmWarning: IProgress not found. Please update jupyter and ipywidgets. See https://ipywidgets.readthedocs.io/en/stable/user_install.html\n",
      "  from .autonotebook import tqdm as notebook_tqdm\n",
      "2025-01-14 07:39:23,514\tINFO util.py:154 -- Missing packages: ['ipywidgets']. Run `pip install -U ipywidgets`, then restart the notebook server for rich notebook output.\n"
     ]
    }
   ],
   "source": [
    "# %%time\n",
    "# if not is_dry_run:\n",
    "#     try:\n",
    "#         import vllm\n",
    "#     except ImportError:\n",
    "#         !pip uninstall -q -y torch\n",
    "#         !pip install -q --no-index --find-links=/kaggle/input/making-wheels-of-necessary-packages-for-vllm vllm\n",
    "#     # model imports\n",
    "from vllm import LLM, SamplingParams\n",
    "from transformers import AutoTokenizer"
   ]
  },
  {
   "cell_type": "markdown",
   "metadata": {},
   "source": [
    "## Imports"
   ]
  },
  {
   "cell_type": "code",
   "execution_count": 8,
   "metadata": {
    "execution": {
     "iopub.execute_input": "2024-07-25T12:47:37.580433Z",
     "iopub.status.busy": "2024-07-25T12:47:37.579502Z",
     "iopub.status.idle": "2024-07-25T12:47:37.593969Z",
     "shell.execute_reply": "2024-07-25T12:47:37.593101Z",
     "shell.execute_reply.started": "2024-07-25T12:47:37.580394Z"
    },
    "trusted": true
   },
   "outputs": [],
   "source": [
    "from abc import ABC, abstractmethod\n",
    "import json\n",
    "import os\n",
    "from tqdm.auto import tqdm\n",
    "import numpy as np\n",
    "from itertools import islice, product\n",
    "import matplotlib.pyplot as plt\n",
    "from matplotlib import colors\n",
    "from termcolor import colored"
   ]
  },
  {
   "cell_type": "markdown",
   "metadata": {},
   "source": [
    "## Code"
   ]
  },
  {
   "cell_type": "markdown",
   "metadata": {},
   "source": [
    "## Grid encoding"
   ]
  },
  {
   "cell_type": "markdown",
   "metadata": {},
   "source": [
    "There are many ways to encode/format the grid as input to the LLM. In this section we are going to define several encoders so we can sistematically try them all."
   ]
  },
  {
   "cell_type": "code",
   "execution_count": 9,
   "metadata": {
    "execution": {
     "iopub.execute_input": "2024-07-25T12:47:37.598414Z",
     "iopub.status.busy": "2024-07-25T12:47:37.597874Z",
     "iopub.status.idle": "2024-07-25T12:47:37.604765Z",
     "shell.execute_reply": "2024-07-25T12:47:37.604051Z",
     "shell.execute_reply.started": "2024-07-25T12:47:37.598387Z"
    },
    "trusted": true
   },
   "outputs": [],
   "source": [
    "class GridEncoder(ABC):\n",
    "    @abstractmethod\n",
    "    def to_text(self, grid):\n",
    "        pass\n",
    "    \n",
    "    @abstractmethod\n",
    "    def to_grid(self, text):\n",
    "        pass"
   ]
  },
  {
   "cell_type": "code",
   "execution_count": 10,
   "metadata": {
    "execution": {
     "iopub.execute_input": "2024-07-25T12:47:37.606274Z",
     "iopub.status.busy": "2024-07-25T12:47:37.605939Z",
     "iopub.status.idle": "2024-07-25T12:47:37.625022Z",
     "shell.execute_reply": "2024-07-25T12:47:37.624359Z",
     "shell.execute_reply.started": "2024-07-25T12:47:37.606243Z"
    },
    "trusted": true
   },
   "outputs": [],
   "source": [
    "sample_grid = np.eye(3, dtype=int).tolist()\n",
    "\n",
    "def test_translator(translator):\n",
    "    assert sample_grid == translator.to_grid(translator.to_text(sample_grid))\n",
    "    print(translator.to_text(sample_grid))"
   ]
  },
  {
   "cell_type": "code",
   "execution_count": 11,
   "metadata": {
    "execution": {
     "iopub.execute_input": "2024-07-25T12:47:37.626348Z",
     "iopub.status.busy": "2024-07-25T12:47:37.626081Z",
     "iopub.status.idle": "2024-07-25T12:47:37.638177Z",
     "shell.execute_reply": "2024-07-25T12:47:37.637225Z",
     "shell.execute_reply.started": "2024-07-25T12:47:37.626325Z"
    },
    "trusted": true
   },
   "outputs": [
    {
     "name": "stdout",
     "output_type": "stream",
     "text": [
      "100\n",
      "010\n",
      "001\n"
     ]
    }
   ],
   "source": [
    "class MinimalGridEncoder(GridEncoder):\n",
    "    @staticmethod\n",
    "    def to_text(grid):\n",
    "        text = '\\n'.join([''.join([str(x) for x in line]) for line in grid])\n",
    "        return text\n",
    "    \n",
    "    @staticmethod\n",
    "    def to_grid(text):\n",
    "        lines = text.strip().splitlines()\n",
    "        grid = [[int(x) for x in line] for line in lines]\n",
    "        return grid\n",
    "        \n",
    "test_translator(MinimalGridEncoder())"
   ]
  },
  {
   "cell_type": "code",
   "execution_count": 12,
   "metadata": {
    "execution": {
     "iopub.execute_input": "2024-07-25T12:47:37.640056Z",
     "iopub.status.busy": "2024-07-25T12:47:37.639255Z",
     "iopub.status.idle": "2024-07-25T12:47:37.650586Z",
     "shell.execute_reply": "2024-07-25T12:47:37.649525Z",
     "shell.execute_reply.started": "2024-07-25T12:47:37.640031Z"
    },
    "trusted": true
   },
   "outputs": [
    {
     "name": "stdout",
     "output_type": "stream",
     "text": [
      "1|0|0\n",
      "0|1|0\n",
      "0|0|1\n"
     ]
    }
   ],
   "source": [
    "class GridWithSeparationEncoder(GridEncoder):\n",
    "    def __init__(self, split_symbol):\n",
    "        self.split_symbol = split_symbol\n",
    "\n",
    "    def to_text(self, grid):\n",
    "        text = '\\n'.join([self.split_symbol.join([str(x) for x in line]) for line in grid])\n",
    "        return text\n",
    "    \n",
    "    def to_grid(self, text):\n",
    "        lines = text.strip().splitlines()\n",
    "        grid = [[int(x) for x in line.split(self.split_symbol)] for line in lines]\n",
    "        return grid\n",
    "        \n",
    "test_translator(GridWithSeparationEncoder('|'))"
   ]
  },
  {
   "cell_type": "code",
   "execution_count": 13,
   "metadata": {
    "execution": {
     "iopub.execute_input": "2024-07-25T12:47:37.652177Z",
     "iopub.status.busy": "2024-07-25T12:47:37.651853Z",
     "iopub.status.idle": "2024-07-25T12:47:37.662924Z",
     "shell.execute_reply": "2024-07-25T12:47:37.662042Z",
     "shell.execute_reply.started": "2024-07-25T12:47:37.652148Z"
    },
    "trusted": true
   },
   "outputs": [
    {
     "name": "stdout",
     "output_type": "stream",
     "text": [
      "```grid\n",
      "100\n",
      "010\n",
      "001\n",
      "```\n",
      "```grid\n",
      "1|0|0\n",
      "0|1|0\n",
      "0|0|1\n",
      "```\n"
     ]
    }
   ],
   "source": [
    "class GridCodeBlockEncoder(GridEncoder):\n",
    "    def __init__(self, base_encoder):\n",
    "        self.encoder = base_encoder\n",
    "    \n",
    "    def to_text(self, grid):\n",
    "        text = f'```grid\\n{self.encoder.to_text(grid)}\\n```'\n",
    "        return text\n",
    "    \n",
    "    def to_grid(self, text):\n",
    "        grid_text = text.split('```grid\\n')[1].split('\\n```')[0]\n",
    "        grid = self.encoder.to_grid(grid_text)\n",
    "        return grid\n",
    "        \n",
    "test_translator(GridCodeBlockEncoder(MinimalGridEncoder()))\n",
    "\n",
    "test_translator(GridCodeBlockEncoder(GridWithSeparationEncoder('|')))"
   ]
  },
  {
   "cell_type": "markdown",
   "metadata": {},
   "source": [
    "### Prompting"
   ]
  },
  {
   "cell_type": "markdown",
   "metadata": {},
   "source": [
    "There are also many ways to build a prompt for the ARC challenge. The class that builds the prompt will receive a grid encoder as input, this way we can try different prompts with different grid encoders. \n",
    "The class that builds the prompts needs to be also capable of parsing the response from the model."
   ]
  },
  {
   "cell_type": "code",
   "execution_count": 14,
   "metadata": {
    "execution": {
     "iopub.execute_input": "2024-07-25T12:47:37.666495Z",
     "iopub.status.busy": "2024-07-25T12:47:37.666166Z",
     "iopub.status.idle": "2024-07-25T12:47:37.675036Z",
     "shell.execute_reply": "2024-07-25T12:47:37.674008Z",
     "shell.execute_reply.started": "2024-07-25T12:47:37.666471Z"
    },
    "trusted": true
   },
   "outputs": [],
   "source": [
    "class PromptCreator(ABC):\n",
    "    def __init__(self, grid_encoder: GridEncoder):\n",
    "        self.grid_encoder = grid_encoder\n",
    "    \n",
    "    @abstractmethod\n",
    "    def create_task_prompts(self, task):\n",
    "        pass\n",
    "    \n",
    "    @abstractmethod\n",
    "    def parse_response(self, text):\n",
    "        pass"
   ]
  },
  {
   "cell_type": "code",
   "execution_count": 15,
   "metadata": {
    "execution": {
     "iopub.execute_input": "2024-07-25T12:47:37.676691Z",
     "iopub.status.busy": "2024-07-25T12:47:37.676351Z",
     "iopub.status.idle": "2024-07-25T12:47:37.690391Z",
     "shell.execute_reply": "2024-07-25T12:47:37.689606Z",
     "shell.execute_reply.started": "2024-07-25T12:47:37.676641Z"
    },
    "trusted": true
   },
   "outputs": [],
   "source": [
    "class SimplePromptCreator(PromptCreator):\n",
    "\n",
    "    def create_task_prompts(self, task):\n",
    "        if cfg.model_path == '/kaggle/input/mistral/pytorch/7b-instruct-v0.1-hf/1':\n",
    "            # Mistral does not have system prompt\n",
    "            messages = []\n",
    "        else:\n",
    "            messages = [ \n",
    "                {\"role\": \"system\", \"content\": \"You are a helpful AI assistant. Your task is to answer to the user using always the same transformation of the user input.\"}, \n",
    "            ] \n",
    "        for sample in task['train']:\n",
    "            messages.append({\"role\": \"user\", \"content\": f\"Input:\\n{self.grid_encoder.to_text(sample['input'])}\"})\n",
    "            messages.append({\"role\": \"assistant\", \"content\": f\"Output:\\n{self.grid_encoder.to_text(sample['output'])}\"})\n",
    "\n",
    "        prompts = []\n",
    "        for test_sample in task['test']:\n",
    "            final_message = {\"role\": \"user\", \"content\": f\"Input:\\n{self.grid_encoder.to_text(test_sample['input'])}\"}\n",
    "            prompt = tokenizer.apply_chat_template(messages + [final_message],\n",
    "                                                   tokenize=False,\n",
    "                                                   add_generation_prompt=True)\n",
    "            prompts.append(prompt)\n",
    "        return prompts\n",
    "    \n",
    "    def parse_response(self, text):\n",
    "        grid_text = text.split('Output:\\n')[1]\n",
    "        return self.grid_encoder.to_grid(grid_text)"
   ]
  },
  {
   "cell_type": "code",
   "execution_count": 16,
   "metadata": {
    "execution": {
     "iopub.execute_input": "2024-07-25T12:47:37.692047Z",
     "iopub.status.busy": "2024-07-25T12:47:37.691737Z",
     "iopub.status.idle": "2024-07-25T12:47:37.703539Z",
     "shell.execute_reply": "2024-07-25T12:47:37.702264Z",
     "shell.execute_reply.started": "2024-07-25T12:47:37.692018Z"
    },
    "trusted": true
   },
   "outputs": [],
   "source": [
    "puzzle_explanations = {\n",
    "    '00576224': \"\"\"The pattern of the input is repeated to generate the output.\n",
    "\n",
    "1. The first two rows are obtained by simply repeating the 2x2 pattern 3 times along the cols axis.\n",
    "2. The following two rows are obtained by flipping the pattern horizontally and repeating it 3 times\n",
    "3. The final two rows are identical to the first ones, simply repeat the 2x2 pattern 3 times.\n",
    "\n",
    "Thus the output is 3 times bigger than the input (6x6 vs 2x2) because the pattern is repeated 3 times in the row and col axis.\"\"\",\n",
    "    '009d5c81': \"\"\"To create the output we have to copy the input with two modifications:\n",
    "\n",
    "1. The object with color 1 is removed and replaced with the background color 0\n",
    "2. The color of the other object (there are only two objects in the grid) is modified.\n",
    "  The new color of this object depends on the shape of the object of color 1. There is a mapping\n",
    "  between shapes and colors. Just look at the train examples for an object of the same shape\n",
    "  and see the color that is applied on the output.\"\"\",\n",
    "    '00dbd492': \"\"\"The input shows a square with color 2 that is empty except from a point in the center.\n",
    "The output is created by colorizing the inside of the square. The color is chosen depending on the size of the squares.\n",
    "The larger square is painted with 3, the medium with 4 and the small with 8.\"\"\",\n",
    "    '03560426': \"\"\"The input shows objects of different colors at the bottom of the grid.\n",
    "The output is created by moving the objects to the top left corner. The objects are moved from left to right order.\n",
    "The first object is placed at the top left corner, the second object is placed at the lower right corner of the first object,\n",
    "the third object is placed at the lower right corner of the second object and so on. There is oclusion between the objects,\n",
    "in those oclusions we see the rightmost object.\"\"\",\n",
    "    '0607ce86': \"\"\"This is a denoising task. The input shows the same object repeated many times, but there are noisy pixels in the grid.\n",
    "The output is created by removing all the noise in the grid. The background should be completely 0.\n",
    "The real object without noise can be guessed because there are many repetitions of the object, so we simply have to\n",
    "look at the majority pixel on each location.\"\"\",\n",
    "    '0692e18c': \"\"\"The ouptut is created following this steps.\n",
    "\n",
    "1. The input is upscaled x3. So if the input is 3x3 the output should be an upscaled version of the input 9x9\n",
    "2. We apply an AND function in a sliding window fashion over the output using the inverted input pattern (take the input and swicth the background color 0 with the other color and viceversa)\n",
    "    \"\"\",\n",
    "    '070dd51e': \"\"\"The output is created by simply drawing horizontal and vertical lines between cells with the same color.\n",
    "If there is an intersection between lines the vertical line will be shown.\"\"\",\n",
    "    '08573cc6': \"\"\"The output is created by drawing an spiral that starts at the cell with color 1.\n",
    "The colors of the spiral are taken from the first two cells of the grid, which will be removed in the output.\"\"\",\n",
    "    '0a2355a6': \"\"\"The output is created by copying the input and changing the color of the objects.\n",
    "The new color will be chosen depending on the number of holes of the object. There is a mapping between number of holes and color that can be observed from the input examples.\"\"\",\n",
    "}"
   ]
  },
  {
   "cell_type": "code",
   "execution_count": 17,
   "metadata": {
    "execution": {
     "iopub.execute_input": "2024-07-25T12:47:37.705714Z",
     "iopub.status.busy": "2024-07-25T12:47:37.705383Z",
     "iopub.status.idle": "2024-07-25T12:47:37.725654Z",
     "shell.execute_reply": "2024-07-25T12:47:37.72453Z",
     "shell.execute_reply.started": "2024-07-25T12:47:37.70568Z"
    },
    "trusted": true
   },
   "outputs": [],
   "source": [
    "class FewShotPromptCreator(PromptCreator):\n",
    "    task_description = \"\"\"You are a helpful AI assistant. Your job is to solve tasks from the Abstraction and Reasoning Challenge (ARC). \n",
    "The user will present you with sample input and output grids for each task. \n",
    "Your job will be to understand the transformation between the input and the output and apply it to the last input grid given by the user. \n",
    "The puzzle-like inputs and outputs present a grid where each square can be one of ten colors. A grid can be any height or width between 1x1 and 30x30.\n",
    "The background of the grid is typically colored with 0.\n",
    "The tasks from ARC are based on the following priors:\n",
    "\n",
    "- Objectness: Objects persist and cannot appear or disappear without reason. Objects can interact or not depending on the circumstances.\n",
    "- Goal-directed: Objects can be animate or inanimate. Some objects are \"agents\" - they have intentions and they pursue goals.\n",
    "- Numbers & counting: Objects can be counted or sorted by their shape, appearance, or movement using basic mathematics like addition, subtraction, and comparison.\n",
    "- Basic geometry & topology: Objects can be shapes like rectangles, triangles, and circles which can be mirrored, rotated, translated, deformed, combined, repeated, etc. Differences in distances can be detected.\n",
    "\n",
    "The transformations between input and output should be based on these priors.\n",
    "\"\"\"\n",
    "    def __init__(self, grid_encoder):\n",
    "        super().__init__(grid_encoder)\n",
    "        with open(cfg.few_shot_dataset_path, 'r') as f:\n",
    "            self.few_shot_tasks = json.load(f)\n",
    "        with open(cfg.few_shot_dataset_path.replace('challenges.json', 'solutions.json'), 'r') as f:\n",
    "            self.few_shot_solutions = json.load(f)\n",
    "        self.few_shot_tasks = {task_id: self.few_shot_tasks[task_id] for task_id in puzzle_explanations}\n",
    "        self.few_shot_solutions = {task_id: self.few_shot_solutions[task_id] for task_id in puzzle_explanations}\n",
    "        self.few_shot_task_ids = list(self.few_shot_tasks.keys())\n",
    "        self.n_shots = cfg.n_shots\n",
    "    \n",
    "    def create_task_prompts(self, task):\n",
    "        messages = [{\"role\": \"system\", \"content\": self.task_description}]\n",
    "        \n",
    "        for task_id in np.random.choice(self.few_shot_task_ids, self.n_shots):\n",
    "            few_shot_task = self.few_shot_tasks[task_id]\n",
    "            user_message = self.create_user_message_for_train_examples(few_shot_task)\n",
    "            for test_idx, test_sample in enumerate(few_shot_task['test']):\n",
    "                user_message += self.create_input_message('Test case', test_sample)\n",
    "                messages.append({\"role\": \"user\", \"content\": user_message})\n",
    "                user_message = ''\n",
    "                assistant_message = f'{puzzle_explanations[task_id]}\\n\\n' + self.create_output_message(self.few_shot_solutions[task_id][test_idx])\n",
    "                messages.append({\"role\": \"assistant\", \"content\": assistant_message})\n",
    "\n",
    "        user_message = self.create_user_message_for_train_examples(task)        \n",
    "        prompts = []\n",
    "        for test_sample in task['test']:\n",
    "            user_message += self.create_input_message('Test case', test_sample)\n",
    "            messages.append({\"role\": \"user\", \"content\": user_message})\n",
    "            prompt = tokenizer.apply_chat_template(messages,\n",
    "                                                   tokenize=False,\n",
    "                                                   add_generation_prompt=True)\n",
    "            prompts.append(prompt)\n",
    "        return prompts\n",
    "    \n",
    "    def create_user_message_for_train_examples(self, task):\n",
    "        user_message = \"Let's see if you can solve this simple ARC task. These are some input-output grid examples that define the task.\\n\"\n",
    "        for example_idx, sample in enumerate(task['train']):\n",
    "            user_message += self.create_input_message(f'Example {example_idx}', sample)\n",
    "            user_message += '\\n' + self.create_output_message(sample['output'])\n",
    "        return user_message\n",
    "\n",
    "    def create_input_message(self, title, sample):\n",
    "        return f\"\\n## {title}\\n\\n### Input\\n\\n{self.grid_encoder.to_text(sample['input'])}\\n\"\n",
    "    \n",
    "    def create_output_message(self, grid):\n",
    "        return f\"### Output\\n\\n{self.grid_encoder.to_text(grid)}\\n\"\n",
    "    \n",
    "    def parse_response(self, text):\n",
    "        return self.grid_encoder.to_grid(text)"
   ]
  },
  {
   "cell_type": "code",
   "execution_count": 18,
   "metadata": {
    "execution": {
     "iopub.execute_input": "2024-07-25T12:47:37.728896Z",
     "iopub.status.busy": "2024-07-25T12:47:37.727577Z",
     "iopub.status.idle": "2024-07-25T12:47:37.746911Z",
     "shell.execute_reply": "2024-07-25T12:47:37.745859Z",
     "shell.execute_reply.started": "2024-07-25T12:47:37.728868Z"
    },
    "trusted": true
   },
   "outputs": [],
   "source": [
    "def print_sample_prompt(data, prompt_creator):\n",
    "    prompts = [prompt_creator.create_task_prompts(task)[0] for task in data.values()]\n",
    "    prompts = sorted(prompts, key=lambda x: len(x))\n",
    "    pretty_print_prompt(prompts[0])\n",
    "    \n",
    "def pretty_print_prompt(text):\n",
    "    color = 'black'\n",
    "    attrs = None\n",
    "    for line in text.splitlines():\n",
    "        if line.startswith('<|assistant|>'):\n",
    "            color = 'blue'\n",
    "        elif line.startswith('<|user|>'):\n",
    "            color = 'black'\n",
    "        elif line.startswith('<|system|>'):\n",
    "            color = 'green'\n",
    "            \n",
    "        if line.startswith('<'):\n",
    "            attrs = ['bold']\n",
    "        else:\n",
    "            attrs = None\n",
    "        print(colored(line, color, attrs=attrs))"
   ]
  },
  {
   "cell_type": "code",
   "execution_count": 19,
   "metadata": {
    "execution": {
     "iopub.execute_input": "2024-07-25T12:47:37.749815Z",
     "iopub.status.busy": "2024-07-25T12:47:37.749164Z",
     "iopub.status.idle": "2024-07-25T12:47:37.763096Z",
     "shell.execute_reply": "2024-07-25T12:47:37.761958Z",
     "shell.execute_reply.started": "2024-07-25T12:47:37.749783Z"
    },
    "trusted": true
   },
   "outputs": [],
   "source": [
    "def plot_input_token_length_distribution(data, prompt_creator):\n",
    "    prompts = []\n",
    "    for task in data.values():\n",
    "        prompts.extend(prompt_creator.create_task_prompts(task))\n",
    "    token_length_distribution = [len(tokenizer.tokenize(prompt)) for prompt in tqdm(prompts)]\n",
    "    plt.title('Prompt token length distribution')\n",
    "    plt.hist(token_length_distribution)\n",
    "    plt.xlabel('n tokens')"
   ]
  },
  {
   "cell_type": "markdown",
   "metadata": {},
   "source": [
    "### Model"
   ]
  },
  {
   "cell_type": "code",
   "execution_count": 20,
   "metadata": {
    "execution": {
     "iopub.execute_input": "2024-07-25T12:47:37.76597Z",
     "iopub.status.busy": "2024-07-25T12:47:37.764166Z",
     "iopub.status.idle": "2024-07-25T12:48:26.880834Z",
     "shell.execute_reply": "2024-07-25T12:48:26.879628Z",
     "shell.execute_reply.started": "2024-07-25T12:47:37.765935Z"
    },
    "trusted": true
   },
   "outputs": [
    {
     "name": "stdout",
     "output_type": "stream",
     "text": [
      "WARNING 01-14 07:40:51 config.py:1563] Casting torch.bfloat16 to torch.float16.\n",
      "INFO 01-14 07:40:51 config.py:571] Using fp8 data type to store kv cache. It reduces the GPU memory footprint and boosts the performance. Meanwhile, it may cause accuracy drop without a proper scaling factor\n",
      "INFO 01-14 07:40:51 config.py:813] Defaulting to use mp for distributed inference\n",
      "INFO 01-14 07:40:51 llm_engine.py:184] Initializing an LLM engine (v0.5.5) with config: model='/workspace/HuggingFace-Download-Accelerator/llama/models--meta-llama--Llama-3.1-8B-Instruct', speculative_config=None, tokenizer='/workspace/HuggingFace-Download-Accelerator/llama/models--meta-llama--Llama-3.1-8B-Instruct', skip_tokenizer_init=False, tokenizer_mode=auto, revision=None, rope_scaling=None, rope_theta=None, tokenizer_revision=None, trust_remote_code=True, dtype=torch.float16, max_seq_len=8192, download_dir=None, load_format=LoadFormat.AUTO, tensor_parallel_size=2, pipeline_parallel_size=1, disable_custom_all_reduce=False, quantization=None, enforce_eager=True, kv_cache_dtype=fp8_e5m2, quantization_param_path=None, device_config=cuda, decoding_config=DecodingConfig(guided_decoding_backend='outlines'), observability_config=ObservabilityConfig(otlp_traces_endpoint=None, collect_model_forward_time=False, collect_model_execute_time=False), seed=0, served_model_name=/workspace/HuggingFace-Download-Accelerator/llama/models--meta-llama--Llama-3.1-8B-Instruct, use_v2_block_manager=False, enable_prefix_caching=False)\n",
      "WARNING 01-14 07:40:51 multiproc_gpu_executor.py:59] Reducing Torch parallelism from 255 threads to 1 to avoid unnecessary CPU contention. Set OMP_NUM_THREADS in the external environment to tune this value as needed.\n",
      "INFO 01-14 07:40:51 custom_cache_manager.py:17] Setting Triton cache manager to: vllm.triton_utils.custom_cache_manager:CustomCacheManager\n",
      "INFO 01-14 07:40:52 selector.py:227] Cannot use FlashAttention-2 backend for FP8 KV cache.\n",
      "INFO 01-14 07:40:52 selector.py:116] Using XFormers backend.\n",
      "\u001b[1;36m(VllmWorkerProcess pid=3240)\u001b[0;0m INFO 01-14 07:40:52 selector.py:227] Cannot use FlashAttention-2 backend for FP8 KV cache.\n",
      "\u001b[1;36m(VllmWorkerProcess pid=3240)\u001b[0;0m INFO 01-14 07:40:52 selector.py:116] Using XFormers backend.\n"
     ]
    },
    {
     "name": "stderr",
     "output_type": "stream",
     "text": [
      "\u001b[1;36m(VllmWorkerProcess pid=3240)\u001b[0;0m /workspace/miniconda3/envs/livecode/lib/python3.10/site-packages/xformers/ops/fmha/flash.py:211: FutureWarning: `torch.library.impl_abstract` was renamed to `torch.library.register_fake`. Please use that instead; we will remove `torch.library.impl_abstract` in a future version of PyTorch.\n",
      "\u001b[1;36m(VllmWorkerProcess pid=3240)\u001b[0;0m   @torch.library.impl_abstract(\"xformers_flash::flash_fwd\")\n",
      "\u001b[1;36m(VllmWorkerProcess pid=3240)\u001b[0;0m /workspace/miniconda3/envs/livecode/lib/python3.10/site-packages/xformers/ops/fmha/flash.py:344: FutureWarning: `torch.library.impl_abstract` was renamed to `torch.library.register_fake`. Please use that instead; we will remove `torch.library.impl_abstract` in a future version of PyTorch.\n",
      "\u001b[1;36m(VllmWorkerProcess pid=3240)\u001b[0;0m   @torch.library.impl_abstract(\"xformers_flash::flash_bwd\")\n",
      "/workspace/miniconda3/envs/livecode/lib/python3.10/site-packages/xformers/ops/fmha/flash.py:211: FutureWarning: `torch.library.impl_abstract` was renamed to `torch.library.register_fake`. Please use that instead; we will remove `torch.library.impl_abstract` in a future version of PyTorch.\n",
      "  @torch.library.impl_abstract(\"xformers_flash::flash_fwd\")\n",
      "/workspace/miniconda3/envs/livecode/lib/python3.10/site-packages/xformers/ops/fmha/flash.py:344: FutureWarning: `torch.library.impl_abstract` was renamed to `torch.library.register_fake`. Please use that instead; we will remove `torch.library.impl_abstract` in a future version of PyTorch.\n",
      "  @torch.library.impl_abstract(\"xformers_flash::flash_bwd\")\n"
     ]
    },
    {
     "name": "stdout",
     "output_type": "stream",
     "text": [
      "\u001b[1;36m(VllmWorkerProcess pid=3240)\u001b[0;0m INFO 01-14 07:40:58 multiproc_worker_utils.py:215] Worker ready; awaiting tasks\n",
      "INFO 01-14 07:40:59 utils.py:975] Found nccl from library libnccl.so.2\n",
      "INFO 01-14 07:40:59 pynccl.py:63] vLLM is using nccl==2.20.5\n",
      "\u001b[1;36m(VllmWorkerProcess pid=3240)\u001b[0;0m INFO 01-14 07:40:59 utils.py:975] Found nccl from library libnccl.so.2\n",
      "\u001b[1;36m(VllmWorkerProcess pid=3240)\u001b[0;0m INFO 01-14 07:40:59 pynccl.py:63] vLLM is using nccl==2.20.5\n",
      "INFO 01-14 07:40:59 custom_all_reduce_utils.py:203] generating GPU P2P access cache in /root/.cache/vllm/gpu_p2p_access_cache_for_0,1.json\n",
      "INFO 01-14 07:41:41 custom_all_reduce_utils.py:234] reading GPU P2P access cache from /root/.cache/vllm/gpu_p2p_access_cache_for_0,1.json\n",
      "\u001b[1;36m(VllmWorkerProcess pid=3240)\u001b[0;0m INFO 01-14 07:41:41 custom_all_reduce_utils.py:234] reading GPU P2P access cache from /root/.cache/vllm/gpu_p2p_access_cache_for_0,1.json\n",
      "INFO 01-14 07:41:41 shm_broadcast.py:235] vLLM message queue communication handle: Handle(connect_ip='127.0.0.1', local_reader_ranks=[1], buffer=<vllm.distributed.device_communicators.shm_broadcast.ShmRingBuffer object at 0x7f9d120457b0>, local_subscribe_port=59835, remote_subscribe_port=None)\n",
      "INFO 01-14 07:41:41 model_runner.py:879] Starting to load model /workspace/HuggingFace-Download-Accelerator/llama/models--meta-llama--Llama-3.1-8B-Instruct...\n",
      "\u001b[1;36m(VllmWorkerProcess pid=3240)\u001b[0;0m INFO 01-14 07:41:41 model_runner.py:879] Starting to load model /workspace/HuggingFace-Download-Accelerator/llama/models--meta-llama--Llama-3.1-8B-Instruct...\n",
      "\u001b[1;36m(VllmWorkerProcess pid=3240)\u001b[0;0m INFO 01-14 07:41:42 selector.py:227] Cannot use FlashAttention-2 backend for FP8 KV cache.\n",
      "\u001b[1;36m(VllmWorkerProcess pid=3240)\u001b[0;0m INFO 01-14 07:41:42 selector.py:116] Using XFormers backend.\n",
      "INFO 01-14 07:41:42 selector.py:227] Cannot use FlashAttention-2 backend for FP8 KV cache.\n",
      "INFO 01-14 07:41:42 selector.py:116] Using XFormers backend.\n"
     ]
    },
    {
     "name": "stderr",
     "output_type": "stream",
     "text": [
      "Loading safetensors checkpoint shards:   0% Completed | 0/4 [00:00<?, ?it/s]\n",
      "Loading safetensors checkpoint shards:  25% Completed | 1/4 [00:12<00:37, 12.42s/it]\n",
      "Loading safetensors checkpoint shards:  50% Completed | 2/4 [00:25<00:25, 12.92s/it]\n",
      "Loading safetensors checkpoint shards:  75% Completed | 3/4 [00:39<00:13, 13.52s/it]\n"
     ]
    },
    {
     "name": "stdout",
     "output_type": "stream",
     "text": [
      "\u001b[1;36m(VllmWorkerProcess pid=3240)\u001b[0;0m INFO 01-14 07:42:24 model_runner.py:890] Loading model weights took 7.5122 GB\n"
     ]
    },
    {
     "name": "stderr",
     "output_type": "stream",
     "text": [
      "Loading safetensors checkpoint shards: 100% Completed | 4/4 [00:42<00:00,  9.20s/it]\n",
      "Loading safetensors checkpoint shards: 100% Completed | 4/4 [00:42<00:00, 10.63s/it]\n",
      "\n"
     ]
    },
    {
     "name": "stdout",
     "output_type": "stream",
     "text": [
      "INFO 01-14 07:42:25 model_runner.py:890] Loading model weights took 7.5122 GB\n",
      "INFO 01-14 07:42:26 distributed_gpu_executor.py:56] # GPU blocks: 62062, # CPU blocks: 8192\n",
      "0: ['097', '950', '250', '036', '70', '40', '01', '490', '020', '00', '540', '780', '300', '790', '026', '048', '402', '012', '076', '037', '069', '007', '205', '850', '019', '082', '074', '404', '520', '350', '079', '407', '06', '960', '306', '805', '09', '056', '906', '061', '909', '700', '501', '605', '610', '047', '110', '660', '011', '02', '050', '930', '034', '087', '990', '908', '207', '705', '620', '509', '066', '760', '083', '095', '055', '063', '088', '302', '098', '072', '590', '305', '039', '508', '017', '505', '720', '608', '023', '600', '033', '035', '070', '180', '470', '370', '010', '08', '043', '052', '160', '021', '640', '202', '804', '890', '016', '904', '009', '650', '209', '014', '206', '105', '041', '506', '802', '201', '460', '702', '203', '730', '044', '046', '806', '604', '706', '204', '420', '190', '086', '10', '440', '710', '064', '07', '703', '003', '310', '603', '401', '096', '504', '029', '970', '140', '102', '260', '308', '107', '170', '503', '290', '030', '940', '750', '530', '903', '803', '05', '208', '602', '770', '307', '820', '510', '430', '073', '058', '902', '005', '701', '004', '570', '03', '380', '025', '057', '740', '015', '042', '067', '100', '360', '027', '280', '808', '220', '606', '405', '390', '670', '303', '408', '101', '081', '085', '809', '002', '901', '309', '480', '830', '801', '406', '04', '075', '502', '807', '103', '130', '091', '30', '880', '049', '330', '045', '810', '630', '077', '006', '068', '550', '028', '210', '270', '065', '20', '099', '038', '90', '0', '400', '054', '022', '032', '560', '601', '018', '860', '031', '092', '80', '450', '059', '900', '905', '607', '071', '609', '507', '50', '500', '150', '000', '104', '800', '084', '108', '051', '053', '680', '240', '040', '094', '120', '090', '089', '060', '60', '200', '301', '078', '320', '980', '080', '109', '840', '708', '709', '409', '106', '230', '580', '001', '340', '410', '093', '304', '870', '403', '690', '024', '062', '707', '910', '920', '704', '013', '008', '907']\n",
      "1: ['613', '181', '951', '371', '216', '519', '175', '01', '313', '111', '981', '122', '921', '114', '61', '318', '19', '125', '193', '361', '511', '851', '512', '012', '681', '019', '831', '143', '133', '931', '571', '219', '176', '71', '061', '18', '183', '418', '177', '651', '1', '919', '119', '501', '712', '610', '110', '561', '011', '178', '172', '16', '312', '115', '616', '185', '154', '491', '415', '51', '821', '117', '751', '212', '017', '317', '718', '417', '187', '991', '180', '139', '196', '010', '146', '271', '174', '160', '021', '113', '153', '159', '631', '191', '016', '915', '591', '841', '014', '105', '041', '731', '315', '621', '217', '281', '198', '201', '815', '116', '231', '761', '190', '145', '911', '813', '717', '10', '771', '710', '721', '914', '171', '241', '310', '112', '515', '401', '641', '141', '581', '321', '716', '671', '140', '102', '107', '691', '170', '541', '421', '41', '319', '188', '517', '157', '441', '881', '184', '124', '118', '131', '811', '513', '381', '711', '510', '611', '314', '128', '15', '941', '516', '168', '701', '167', '661', '147', '134', '961', '81', '531', '817', '781', '186', '151', '91', '891', '015', '100', '189', '816', '451', '551', '101', '132', '871', '413', '481', '081', '138', '211', '518', '121', '901', '165', '218', '812', '215', '714', '801', '461', '291', '199', '918', '719', '103', '130', '091', '614', '162', '11', '431', '619', '136', '144', '14', '810', '156', '818', '210', '192', '713', '316', '618', '471', '601', '341', '018', '031', '351', '814', '331', '414', '195', '142', '261', '166', '161', '311', '071', '197', '971', '179', '152', '129', '150', '412', '214', '104', '173', '127', '108', '051', '913', '861', '521', '120', '411', '137', '182', '419', '123', '31', '391', '301', '155', '21', '164', '148', '912', '109', '416', '917', '194', '791', '106', '158', '615', '17', '12', '001', '514', '741', '410', '715', '819', '126', '251', '221', '213', '163', '169', '612', '617', '910', '013', '13', '149', '135', '916']\n",
      "2: ['622', '250', '824', '216', '942', '727', '266', '323', '020', '122', '263', '962', '921', '852', '125', '026', '402', '723', '692', '512', '628', '842', '012', '972', '542', '623', '295', '205', '237', '082', '524', '254', '752', '520', '827', '572', '329', '259', '234', '282', '927', '219', '729', '992', '249', '325', '278', '712', '822', '245', '02', '92', '207', '232', '462', '172', '620', '528', '472', '299', '626', '42', '312', '362', '722', '302', '072', '332', '821', '642', '892', '212', '652', '720', '422', '023', '322', '271', '235', '052', '021', '202', '326', '29', '294', '429', '286', '732', '265', '209', '206', '823', '621', '725', '217', '281', '525', '802', '201', '702', '247', '203', '832', '24', '932', '231', '204', '420', '298', '862', '721', '72', '293', '2', '241', '112', '924', '792', '029', '442', '25', '297', '321', '102', '52', '260', '562', '290', '421', '432', '284', '62', '592', '482', '269', '82', '124', '228', '208', '624', '602', '229', '27', '820', '426', '128', '526', '902', '742', '23', '244', '872', '239', '428', '025', '292', '288', '255', '279', '257', '042', '952', '248', '027', '223', '280', '258', '227', '276', '425', '267', '922', '220', '726', '782', '826', '929', '132', '26', '982', '211', '527', '002', '121', '928', '218', '233', '812', '215', '672', '423', '291', '502', '926', '224', '828', '762', '162', '342', '275', '427', '028', '210', '264', '287', '270', '225', '662', '272', '923', '192', '20', '268', '022', '28', '032', '925', '092', '262', '246', '582', '142', '261', '523', '22', '728', '152', '129', '253', '882', '412', '214', '772', '424', '127', '240', '522', '682', '521', '492', '120', '352', '324', '529', '829', '552', '236', '182', '123', '328', '392', '200', '532', '372', '21', '283', '320', '327', '912', '625', '274', '627', '32', '724', '230', '285', '242', '277', '632', '12', '289', '126', '251', '629', '226', '221', '238', '213', '222', '252', '243', '452', '296', '382', '256', '024', '612', '062', '920', '825', '273']\n",
      "3: ['613', '383', '635', '036', '371', '538', '738', '313', '359', '323', '263', '398', '300', '318', '393', '193', '361', '723', '653', '037', '623', '543', '939', '237', '831', '434', '143', '133', '396', '931', '836', '339', '534', '329', '533', '350', '234', '366', '306', '183', '436', '325', '993', '343', '930', '634', '853', '535', '034', '355', '232', '583', '935', '386', '344', '739', '883', '083', '633', '312', '389', '362', '973', '063', '302', '638', '332', '305', '983', '934', '039', '317', '023', '033', '035', '322', '370', '139', '043', '235', '536', '376', '326', '838', '113', '153', '733', '631', '375', '736', '43', '732', '365', '731', '823', '315', '369', '873', '35', '354', '843', '353', '783', '203', '730', '832', '593', '34', '53', '932', '231', '385', '813', '367', '3', '793', '293', '703', '003', '310', '603', '693', '321', '388', '384', '308', '537', '503', '030', '432', '530', '319', '399', '903', '435', '803', '637', '131', '513', '307', '335', '381', '314', '430', '073', '773', '346', '483', '23', '539', '03', '380', '239', '134', '368', '531', '93', '360', '37', '734', '223', '336', '563', '493', '390', '303', '463', '132', '839', '683', '413', '338', '735', '138', '345', '363', '349', '395', '63', '387', '233', '309', '763', '830', '443', '423', '439', '833', '103', '433', '130', '837', '30', '330', '431', '342', '364', '136', '573', '83', '893', '630', '334', '333', '357', '673', '923', '038', '453', '437', '713', '373', '316', '863', '358', '032', '341', '36', '031', '351', '33', '835', '331', '348', '663', '523', '311', '943', '73', '253', '173', '356', '913', '053', '636', '937', '743', '352', '324', '737', '834', '137', '236', '123', '31', '328', '391', '392', '301', '532', '936', '372', '283', '953', '38', '963', '320', '327', '379', '39', '553', '378', '32', '397', '394', '337', '230', '438', '632', '374', '340', '093', '753', '933', '304', '238', '213', '643', '403', '347', '243', '163', '382', '473', '639', '938', '013', '13', '273', '135', '377']\n",
      "4: ['479', '454', '854', '824', '475', '942', '74', '40', '490', '455', '540', '764', '114', '946', '594', '048', '402', '46', '468', '488', '842', '794', '542', '543', '849', '524', '434', '143', '894', '254', '074', '404', '485', '534', '234', '407', '574', '249', '418', '436', '774', '94', '545', '047', '848', '497', '245', '343', '845', '634', '445', '034', '744', '495', '462', '749', '684', '49', '472', '344', '42', '649', '154', '847', '491', '415', '642', '934', '444', '4', '422', '417', '784', '470', '146', '043', '174', '640', '84', '804', '465', '486', '294', '448', '429', '904', '43', '841', '014', '041', '464', '354', '496', '843', '645', '460', '449', '247', '044', '046', '24', '34', '54', '604', '204', '420', '748', '145', '584', '440', '064', '914', '241', '844', '401', '694', '924', '504', '641', '141', '442', '476', '384', '140', '477', '648', '541', '940', '421', '432', '284', '41', '457', '547', '435', '482', '441', '184', '646', '124', '467', '624', '494', '48', '474', '314', '430', '426', '941', '004', '456', '346', '483', '742', '147', '498', '244', '134', '428', '746', '740', '042', '499', '248', '864', '734', '944', '425', '493', '405', '964', '408', '463', '451', '413', '481', '345', '564', '349', '949', '644', '674', '458', '480', '549', '714', '44', '443', '874', '423', '406', '04', '461', '439', '466', '554', '433', '224', '945', '614', '984', '478', '049', '431', '045', '342', '364', '144', '14', '334', '427', '948', '484', '264', '947', '654', '546', '745', '400', '453', '054', '437', '994', '471', '341', '884', '814', '450', '348', '414', '246', '142', '446', '943', '544', '45', '974', '747', '412', '214', '104', '424', '084', '487', '240', '492', '040', '094', '743', '411', '324', '834', '419', '954', '489', '164', '148', '754', '416', '840', '64', '274', '664', '194', '409', '846', '724', '394', '438', '242', '374', '514', '647', '741', '340', '410', '548', '304', '643', '403', '347', '243', '452', '024', '447', '469', '473', '704', '149', '47', '459']\n",
      "5: ['858', '950', '250', '454', '58', '854', '635', '951', '538', '475', '519', '885', '175', '985', '359', '757', '455', '540', '755', '852', '125', '594', '586', '685', '511', '851', '512', '653', '542', '543', '295', '205', '850', '524', '665', '598', '254', '752', '485', '520', '534', '572', '571', '533', '965', '259', '350', '805', '056', '574', '325', '651', '545', '501', '605', '596', '561', '959', '245', '845', '050', '865', '445', '853', '535', '355', '495', '705', '583', '528', '935', '5', '509', '785', '115', '095', '185', '055', '955', '154', '599', '875', '566', '590', '415', '51', '305', '751', '508', '587', '652', '505', '57', '659', '589', '035', '579', '235', '052', '575', '956', '536', '465', '153', '567', '159', '375', '95', '265', '365', '650', '915', '591', '105', '577', '558', '315', '578', '506', '725', '35', '354', '75', '645', '525', '353', '593', '53', '815', '54', '385', '145', '584', '568', '515', '504', '25', '581', '588', '52', '537', '562', '503', '65', '541', '750', '556', '569', '457', '530', '517', '547', '435', '756', '157', '05', '592', '975', '513', '335', '55', '510', '957', '15', '526', '058', '516', '005', '857', '456', '570', '539', '025', '559', '057', '531', '775', '255', '151', '695', '015', '257', '958', '597', '952', '258', '555', '425', '563', '656', '765', '405', '56', '657', '859', '451', '551', '735', '345', '564', '527', '518', '085', '165', '675', '395', '855', '995', '458', '215', '549', '658', '85', '075', '502', '758', '554', '895', '59', '945', '856', '585', '045', '573', '275', '156', '550', '225', '576', '595', '065', '357', '654', '546', '745', '453', '054', '358', '925', '560', '351', '835', '450', '059', '582', '195', '523', '905', '795', '507', '544', '45', '50', '152', '253', '500', '150', '356', '051', '053', '565', '522', '521', '352', '529', '552', '954', '155', '532', '655', '953', '754', '553', '625', '557', '158', '615', '285', '580', '514', '715', '753', '251', '548', '252', '452', '256', '759', '825', '135', '459']\n",
      "6: ['622', '613', '635', '036', '216', '699', '786', '266', '263', '962', '764', '61', '946', '026', '361', '686', '986', '46', '468', '586', '685', '692', '628', '653', '681', '076', '069', '623', '869', '67', '665', '396', '836', '965', '06', '960', '366', '176', '306', '056', '677', '906', '061', '436', '651', '767', '605', '610', '660', '596', '561', '865', '634', '876', '668', '462', '620', '684', '386', '16', '066', '760', '626', '633', '616', '649', '362', '063', '968', '638', '566', '642', '698', '652', '659', '608', '600', '196', '146', '160', '956', '536', '640', '687', '465', '376', '326', '486', '96', '567', '631', '016', '736', '286', '265', '365', '650', '206', '464', '621', '506', '369', '496', '645', '460', '696', '046', '806', '116', '604', '706', '761', '76', '862', '086', '367', '064', '568', '603', '096', '694', '641', '693', '476', '776', '716', '671', '969', '768', '260', '691', '562', '65', '648', '556', '569', '62', '689', '756', '269', '646', '467', '637', '624', '602', '796', '611', '426', '526', '516', '168', '456', '346', '167', '661', '961', '368', '746', '667', '868', '186', '695', '067', '360', '864', '336', '276', '563', '267', '656', '765', '606', '726', '670', '56', '964', '657', '816', '826', '463', '683', '26', '564', '363', '867', '165', '675', '644', '63', '674', '763', '658', '672', '666', '697', '406', '461', '926', '996', '466', '614', '762', '162', '856', '619', '364', '676', '136', '156', '630', '006', '068', '264', '662', '576', '065', '673', '654', '546', '268', '678', '316', '863', '618', '560', '601', '36', '860', '896', '262', '6', '246', '663', '261', '166', '607', '161', '766', '446', '609', '967', '69', '356', '565', '636', '680', '861', '66', '976', '682', '669', '060', '236', '60', '936', '866', '164', '655', '963', '679', '416', '64', '625', '886', '627', '664', '966', '106', '846', '769', '615', '632', '86', '647', '126', '629', '226', '643', '690', '163', '296', '169', '256', '469', '612', '688', '639', '062', '617', '68', '916']\n",
      "7: ['097', '479', '371', '70', '475', '727', '74', '738', '786', '175', '757', '97', '780', '764', '755', '790', '878', '723', '972', '794', '076', '777', '037', '007', '67', '237', '78', '997', '074', '752', '827', '572', '571', '079', '927', '407', '729', '176', '71', '677', '574', '774', '177', '278', '700', '767', '712', '047', '497', '887', '178', '876', '087', '744', '207', '705', '172', '749', '472', '797', '739', '785', '760', '722', '973', '847', '875', '072', '117', '751', '017', '587', '317', '718', '720', '57', '417', '187', '784', '070', '799', '470', '370', '579', '271', '174', '575', '687', '376', '567', '733', '375', '736', '897', '732', '731', '577', '578', '725', '873', '217', '75', '702', '783', '247', '730', '706', '761', '76', '979', '748', '717', '367', '771', '710', '721', '07', '793', '72', '171', '703', '792', '476', '776', '297', '798', '716', '671', '970', '768', '537', '107', '170', '477', '750', '457', '517', '547', '879', '779', '756', '157', '467', '637', '975', '27', '788', '770', '796', '307', '474', '711', '073', '957', '773', '857', '701', '570', '167', '742', '147', '872', '746', '057', '667', '817', '781', '775', '77', '279', '740', '257', '597', '067', '027', '37', '734', '7', '227', '276', '267', '765', '726', '978', '670', '657', '782', '871', '735', '527', '867', '675', '674', '387', '763', '714', '672', '874', '697', '075', '758', '807', '719', '837', '762', '478', '987', '676', '573', '275', '427', '077', '877', '287', '270', '576', '272', '947', '357', '673', '745', '437', '778', '713', '373', '678', '471', '795', '607', '071', '766', '197', '507', '967', '971', '787', '728', '179', '974', '73', '747', '772', '173', '127', '487', '79', '976', '937', '743', '87', '737', '137', '372', '789', '754', '078', '327', '379', '679', '917', '708', '274', '378', '627', '557', '709', '791', '397', '769', '724', '337', '17', '277', '374', '647', '741', '715', '753', '870', '347', '447', '473', '759', '707', '617', '704', '977', '273', '47', '907', '377']\n",
      "8: ['858', '58', '854', '383', '181', '824', '538', '885', '738', '786', '985', '981', '780', '398', '318', '852', '878', '048', '686', '986', '468', '586', '685', '851', '628', '488', '842', '681', '988', '869', '850', '849', '78', '831', '082', '894', '836', '598', '485', '827', '282', '805', '18', '183', '418', '278', '848', '822', '887', '845', '865', '178', '853', '876', '899', '668', '087', '908', '583', '889', '528', '684', '386', '785', '883', '083', '389', '185', '847', '888', '088', '875', '968', '098', '638', '821', '983', '508', '892', '698', '587', '718', '8', '608', '589', '187', '784', '180', '08', '84', '687', '804', '838', '486', '890', '448', '286', '897', '841', '558', '823', '578', '873', '843', '281', '198', '802', '88', '783', '832', '806', '815', '385', '298', '748', '862', '086', '813', '584', '568', '844', '798', '581', '998', '388', '384', '588', '768', '308', '648', '284', '188', '689', '879', '803', '482', '881', '184', '82', '228', '208', '118', '48', '788', '811', '820', '381', '128', '058', '168', '857', '483', '380', '498', '872', '428', '81', '368', '868', '817', '288', '781', '186', '891', '898', '958', '248', '864', '189', '280', '258', '808', '978', '782', '859', '408', '816', '826', '839', '683', '871', '338', '481', '081', '138', '982', '518', '085', '809', '867', '928', '218', '855', '458', '387', '480', '812', '830', '658', '801', '874', '85', '758', '807', '918', '833', '895', '837', '828', '984', '989', '478', '987', '880', '856', '585', '83', '893', '810', '948', '818', '877', '068', '028', '484', '287', '038', '778', '268', '678', '863', '358', '618', '28', '018', '884', '860', '896', '835', '814', '80', '348', '582', '787', '728', '882', '800', '084', '108', '487', '680', '861', '682', '089', '87', '834', '829', '182', '328', '489', '866', '148', '283', '789', '078', '38', '980', '080', '840', '708', '886', '378', '846', '158', '285', '438', '580', '86', '289', '819', '548', '238', '870', '382', '688', '98', '938', '825', '89', '008', '68']\n",
      "9: ['097', '950', '479', '951', '519', '942', '699', '490', '985', '359', '981', '97', '398', '962', '921', '946', '790', '19', '393', '594', '193', '986', '692', '972', '794', '988', '069', '295', '869', '939', '999', '019', '849', '396', '931', '997', '894', '598', '339', '329', '965', '259', '079', '927', '219', '729', '960', '992', '09', '906', '249', '909', '94', '919', '119', '596', '497', '959', '993', '930', '92', '9', '899', '990', '908', '495', '889', '749', '49', '935', '299', '797', '509', '739', '649', '095', '389', '955', '973', '599', '491', '968', '098', '590', '983', '934', '039', '892', '698', '659', '589', '799', '991', '139', '196', '579', '956', '96', '890', '159', '29', '294', '191', '429', '95', '904', '897', '009', '209', '915', '591', '369', '496', '198', '449', '696', '593', '932', '979', '298', '190', '911', '793', '914', '293', '096', '694', '924', '792', '693', '029', '297', '798', '998', '970', '969', '691', '290', '940', '569', '319', '399', '903', '689', '879', '779', '592', '269', '975', '494', '229', '796', '957', '941', '902', '539', '498', '239', '961', '559', '292', '93', '279', '91', '891', '695', '898', '958', '597', '952', '499', '189', '944', '922', '493', '978', '390', '964', '859', '929', '839', '982', '349', '949', '809', '901', '928', '395', '995', '309', '549', '697', '439', '291', '199', '926', '996', '918', '719', '895', '59', '945', '091', '984', '989', '987', '049', '619', '893', '948', '947', '595', '923', '192', '099', '90', '994', '925', '896', '092', '059', '195', '900', '905', '99', '795', '197', '609', '967', '943', '971', '69', '179', '974', '129', '913', '79', '976', '492', '937', '094', '090', '669', '089', '529', '829', '419', '391', '954', '392', '489', '936', '789', '953', '963', '912', '379', '39', '980', '109', '679', '917', '709', '194', '791', '966', '409', '397', '769', '394', '289', '093', '819', '933', '629', '690', '296', '169', '469', '98', '759', '639', '938', '910', '920', '977', '89', '149', '907', '459', '916']\n"
     ]
    }
   ],
   "source": [
    "if not is_dry_run:\n",
    "    llm = LLM(model=cfg.model_path,\n",
    "              trust_remote_code=True, \n",
    "              dtype='half', \n",
    "              tensor_parallel_size=2, # to use 2 gpus\n",
    "              max_model_len=cfg.max_model_len,\n",
    "              kv_cache_dtype='fp8_e5m2',\n",
    "              enforce_eager=True, # without this 13.9GB of memory is used on each GPU, with this is 13.3GB,\n",
    "              disable_log_stats=True,\n",
    "             )\n",
    "    tokenizer = AutoTokenizer.from_pretrained(cfg.model_path)\n",
    "    for number in '0123456789':\n",
    "        print(f'{number}: {[key for key in tokenizer.get_vocab().keys() if number in key and not key.startswith(\"<\")]}')"
   ]
  },
  {
   "cell_type": "markdown",
   "metadata": {},
   "source": [
    "The tokenizer from phi-3 encodes each digit indepently, it does not group numbers such as 10 or 100."
   ]
  },
  {
   "cell_type": "markdown",
   "metadata": {},
   "source": [
    "### Data augmentation"
   ]
  },
  {
   "cell_type": "markdown",
   "metadata": {},
   "source": [
    "We need data augmentation to make multiple predictions for each task."
   ]
  },
  {
   "cell_type": "code",
   "execution_count": 21,
   "metadata": {
    "execution": {
     "iopub.execute_input": "2024-07-25T12:48:26.882698Z",
     "iopub.status.busy": "2024-07-25T12:48:26.882363Z",
     "iopub.status.idle": "2024-07-25T12:48:26.894925Z",
     "shell.execute_reply": "2024-07-25T12:48:26.89403Z",
     "shell.execute_reply.started": "2024-07-25T12:48:26.882651Z"
    },
    "trusted": true
   },
   "outputs": [],
   "source": [
    "class DataAugmentation():\n",
    "    def __init__(self, flip, n_rot90):\n",
    "        self.flip = flip\n",
    "        self.n_rot90 = n_rot90\n",
    "        \n",
    "    def augment_task(self, task):\n",
    "        augmented_task = dict()\n",
    "        for partition, samples in task.items():\n",
    "            augmented_task[partition] = [{name:self.augment_grid(grid) for name,grid in sample.items()} for sample in samples]\n",
    "        return augmented_task\n",
    "    \n",
    "    def augment_grid(self, grid):\n",
    "        grid = np.array(grid)\n",
    "        if self.flip:\n",
    "            grid = np.flip(grid, axis=1)\n",
    "        grid = np.rot90(grid, k=self.n_rot90)\n",
    "        return grid.tolist()\n",
    "    \n",
    "    def revert_augmentation(self, grid):\n",
    "        grid = np.array(grid)\n",
    "        grid = np.rot90(grid, k=-self.n_rot90)\n",
    "        if self.flip:\n",
    "            grid = np.flip(grid, axis=1)\n",
    "        return grid.tolist()\n",
    "\n",
    "\n",
    "for flip in [True, False]:\n",
    "    for n_rot90 in range(4):\n",
    "        data_augmentation = DataAugmentation(flip, n_rot90)\n",
    "        assert sample_grid == data_augmentation.revert_augmentation(data_augmentation.augment_grid(sample_grid))"
   ]
  },
  {
   "cell_type": "markdown",
   "metadata": {},
   "source": [
    "### Plots"
   ]
  },
  {
   "cell_type": "code",
   "execution_count": 22,
   "metadata": {
    "execution": {
     "iopub.execute_input": "2024-07-25T12:48:26.896539Z",
     "iopub.status.busy": "2024-07-25T12:48:26.896212Z",
     "iopub.status.idle": "2024-07-25T12:48:26.91353Z",
     "shell.execute_reply": "2024-07-25T12:48:26.91265Z",
     "shell.execute_reply.started": "2024-07-25T12:48:26.896509Z"
    },
    "trusted": true
   },
   "outputs": [],
   "source": [
    "def plot_task(task):\n",
    "    samples = task['train'] + task['test']\n",
    "    for plot_idx, sample in enumerate(samples):\n",
    "        plt.subplot(2, len(samples), plot_idx + 1)\n",
    "        plot_grid(sample['input'])\n",
    "        if 'output' in sample:\n",
    "            plt.subplot(2, len(samples), plot_idx + 1 + len(samples))\n",
    "            plot_grid(sample['output'])\n",
    "            \n",
    "def plot_grids(grids):\n",
    "    for plot_idx, grid in enumerate(grids):\n",
    "        plt.subplot(1, len(grids), plot_idx + 1)\n",
    "        plot_grid(grid)\n",
    "            \n",
    "def plot_grid(grid):\n",
    "    grid = np.array(grid)\n",
    "    cmap = colors.ListedColormap(\n",
    "        ['#000000', '#0074D9','#FF4136','#2ECC40','#FFDC00',\n",
    "         '#AAAAAA', '#F012BE', '#FF851B', '#7FDBFF', '#870C25'])\n",
    "    norm = colors.Normalize(vmin=0, vmax=9)\n",
    "    plt.imshow(grid, cmap=cmap, norm=norm)\n",
    "    plt.grid(True,which='both',color='lightgrey', linewidth=0.5) \n",
    "    plt.xticks(np.arange(-0.5, grid.shape[1]), [])\n",
    "    plt.yticks(np.arange(-0.5, grid.shape[0]), [])\n",
    "    plt.xlim(-0.5, grid.shape[1]-0.5)"
   ]
  },
  {
   "cell_type": "markdown",
   "metadata": {},
   "source": [
    "### Evaluation"
   ]
  },
  {
   "cell_type": "code",
   "execution_count": 23,
   "metadata": {
    "execution": {
     "iopub.execute_input": "2024-07-25T12:48:26.915004Z",
     "iopub.status.busy": "2024-07-25T12:48:26.914675Z",
     "iopub.status.idle": "2024-07-25T12:48:26.930061Z",
     "shell.execute_reply": "2024-07-25T12:48:26.929181Z",
     "shell.execute_reply.started": "2024-07-25T12:48:26.914971Z"
    },
    "trusted": true
   },
   "outputs": [],
   "source": [
    "def analyze_number_of_predictions_per_task(data, texts):\n",
    "    number_of_predictions = dict()\n",
    "    for task_id, task in data.items():\n",
    "        number_of_predictions[task_id] = len(texts[task_id]['responses'])/len(task['test'])\n",
    "    plt.title('Distribution of the number of predictions per task')\n",
    "    plt.hist(number_of_predictions.values(), bins=np.arange(1.5, 9))\n",
    "    plt.xlabel('number of predictions')\n",
    "    plt.ylabel('count')\n",
    "    return number_of_predictions"
   ]
  },
  {
   "cell_type": "code",
   "execution_count": 24,
   "metadata": {
    "execution": {
     "iopub.execute_input": "2024-07-25T12:48:26.931637Z",
     "iopub.status.busy": "2024-07-25T12:48:26.931309Z",
     "iopub.status.idle": "2024-07-25T12:48:26.949999Z",
     "shell.execute_reply": "2024-07-25T12:48:26.949127Z",
     "shell.execute_reply.started": "2024-07-25T12:48:26.931604Z"
    },
    "trusted": true
   },
   "outputs": [],
   "source": [
    "def evaluate(ground_truth, solutions):\n",
    "    \"\"\"\n",
    "    Computes the following metrics:\n",
    "    \n",
    "    - Accuracy\n",
    "    - Correct pixels\n",
    "    - Correct size\n",
    "    \"\"\"\n",
    "    metrics = []\n",
    "    accuracy, correct_pixels, correct_size = [], [], []\n",
    "    for task_id, task_ground_truth in ground_truth.items():\n",
    "        task_metrics = []\n",
    "        plot_task(data[task_id]); plt.suptitle(f'{task_id}'); plt.show()\n",
    "        for idx, correct_grid in enumerate(task_ground_truth):\n",
    "            predicted_grids = list(solutions[task_id][idx].values())\n",
    "            predicted_grids = [grid for grid in predicted_grids if grid]\n",
    "            \n",
    "            task_metrics.append(evaluate_grid(correct_grid, predicted_grids))\n",
    "            print_metrics(task_metrics[-1], f'{task_id}_{idx}')\n",
    "            plot_grids([correct_grid] + predicted_grids)\n",
    "            plt.suptitle(f'{task_id}_{idx}')\n",
    "            plt.show()\n",
    "        metrics.append(average_metrics(task_metrics))\n",
    "    print('\\n'*3 + '# Aggregated metrics:')\n",
    "    print_metrics(average_metrics(metrics))\n",
    "    save_metrics(metrics, solutions)\n",
    "    plot_metrics_distribution(metrics)\n",
    "    print_metrics(average_metrics(metrics))\n",
    "    \n",
    "def plot_metrics_distribution(metrics):\n",
    "    for key in metrics[0]:\n",
    "        values = [x[key] for x in metrics]\n",
    "        plt.title(f'Distribution of {key}')\n",
    "        plt.hist(values, bins=np.linspace(0, 1, 10))\n",
    "        plt.xlabel(key)\n",
    "        plt.ylabel('count')\n",
    "        plt.show()\n",
    "    \n",
    "def average_metrics(metrics):\n",
    "    averaged_metrics = dict()\n",
    "    for key in metrics[0]:\n",
    "        averaged_metrics[key] = np.mean([x[key] for x in metrics])\n",
    "    return averaged_metrics\n",
    "        \n",
    "def save_metrics(metrics, solutions):\n",
    "    formatted_metrics = dict(global_metrics=average_metrics(metrics))\n",
    "    for task_id, task_metrics in zip(solutions, metrics):\n",
    "        formatted_metrics[task_id] = task_metrics\n",
    "    with open('metrics.json', 'w') as f:\n",
    "        json.dump(formatted_metrics, f)\n",
    "\n",
    "def print_metrics(metrics, prefix=''):\n",
    "    text = f'{prefix}'\n",
    "    for key, value in metrics.items():\n",
    "        text += f'{key}: {value*100:.1f}%\\t'\n",
    "    print(text)\n",
    "\n",
    "    \n",
    "def evaluate_grid(correct_grid, predicted_grids):\n",
    "    correct_grid = np.array(correct_grid)\n",
    "    metrics = dict(accuracy=0, correct_pixels=0, correct_size=0, unanswered=(2 - len(predicted_grids))/2)\n",
    "    for predicted_grid in predicted_grids:\n",
    "        predicted_grid = np.array(predicted_grid)\n",
    "        if correct_grid.shape == predicted_grid.shape:\n",
    "            metrics['accuracy'] = max(metrics['accuracy'], np.all(predicted_grid == correct_grid))\n",
    "            metrics['correct_pixels'] = max(metrics['correct_pixels'], np.mean(predicted_grid == correct_grid))\n",
    "            metrics['correct_size'] = max(metrics['correct_size'], correct_grid.shape == predicted_grid.shape)\n",
    "    return metrics"
   ]
  },
  {
   "cell_type": "markdown",
   "metadata": {},
   "source": [
    "## Inference"
   ]
  },
  {
   "cell_type": "markdown",
   "metadata": {},
   "source": [
    "We need to generate 2 different predictions for each task. The model could fail to generate a prediction, or the parsing can fail... Thus we need a method that is robust to fails.\n",
    "\n",
    "One way to solve this would be to use data augmentation. By applying rotations and flips we could generate up to 8 variations of each task. So we could try with different data augmentations until we have 2 predictions for each task. Another alternative would be to make inference with the 8 variations and use majority voting."
   ]
  },
  {
   "cell_type": "code",
   "execution_count": 25,
   "metadata": {
    "execution": {
     "iopub.execute_input": "2024-07-25T12:48:26.952211Z",
     "iopub.status.busy": "2024-07-25T12:48:26.951392Z",
     "iopub.status.idle": "2024-07-25T12:48:26.96852Z",
     "shell.execute_reply": "2024-07-25T12:48:26.967608Z",
     "shell.execute_reply.started": "2024-07-25T12:48:26.952176Z"
    },
    "trusted": true
   },
   "outputs": [],
   "source": [
    "def solve_task(task_id, task, prompt_creator, sampling_params):\n",
    "    data_augmentation_params = product([False, True], [0, 1, 2, 3])\n",
    "    solution = {task_id:[{\"attempt_1\": [], \"attempt_2\": []} for _ in task['test']]}\n",
    "    texts = dict(prompts=[], responses=[], exceptions=[])\n",
    "    for flip, n_rot90 in islice(data_augmentation_params, cfg.max_predictions_per_task):\n",
    "        data_augmentation = DataAugmentation(flip, n_rot90)\n",
    "        augmented_task = data_augmentation.augment_task(task)\n",
    "        prompts = prompt_creator.create_task_prompts(augmented_task)\n",
    "        outputs = llm.generate(prompts, sampling_params)\n",
    "        responses = [output.outputs[0].text for output in outputs]\n",
    "        for idx, response in enumerate(responses):\n",
    "            try:\n",
    "                augmented_grid = prompt_creator.parse_response(response)\n",
    "                grid = data_augmentation.revert_augmentation(augmented_grid)\n",
    "                if not solution[task_id][idx][\"attempt_1\"]:\n",
    "                    solution[task_id][idx][\"attempt_1\"] = grid\n",
    "                elif solution[task_id][idx][\"attempt_1\"] != grid and not solution[task_id][idx][\"attempt_2\"]:\n",
    "                    solution[task_id][idx][\"attempt_2\"] = grid\n",
    "            except Exception as e:\n",
    "                print(f'Exception when parsing response from {task_id}: {e}')\n",
    "                texts['exceptions'].append(str(e))\n",
    "        texts['prompts'].append(prompts)\n",
    "        texts['responses'].append(responses)\n",
    "        if is_solution_done(solution):\n",
    "            break\n",
    "    return solution, {task_id:texts}\n",
    "\n",
    "def is_solution_done(solution):\n",
    "    for task_id, predictions in solution.items():\n",
    "        for prediction in predictions:\n",
    "            for grid in prediction.values():\n",
    "                if not grid:\n",
    "                    return False\n",
    "    return True"
   ]
  },
  {
   "cell_type": "code",
   "execution_count": 26,
   "metadata": {
    "execution": {
     "iopub.execute_input": "2024-07-25T12:48:26.970067Z",
     "iopub.status.busy": "2024-07-25T12:48:26.969738Z",
     "iopub.status.idle": "2024-07-25T12:48:26.983397Z",
     "shell.execute_reply": "2024-07-25T12:48:26.982545Z",
     "shell.execute_reply.started": "2024-07-25T12:48:26.970037Z"
    },
    "trusted": true
   },
   "outputs": [],
   "source": [
    "def inference(data, prompt_creator, sampling_params):\n",
    "    solutions, texts = dict(), dict()\n",
    "    for task_id, task in tqdm(data.items(), total=len(data)):\n",
    "        task_solution, task_texts = solve_task(task_id, task, prompt_creator, sampling_params)\n",
    "        solutions.update(task_solution)\n",
    "        texts.update(task_texts)\n",
    "    return solutions, texts"
   ]
  },
  {
   "cell_type": "code",
   "execution_count": 27,
   "metadata": {
    "execution": {
     "iopub.execute_input": "2024-07-25T12:48:26.984706Z",
     "iopub.status.busy": "2024-07-25T12:48:26.984388Z",
     "iopub.status.idle": "2024-07-25T12:48:27.090592Z",
     "shell.execute_reply": "2024-07-25T12:48:27.089715Z",
     "shell.execute_reply.started": "2024-07-25T12:48:26.984657Z"
    },
    "trusted": true
   },
   "outputs": [
    {
     "name": "stdout",
     "output_type": "stream",
     "text": [
      "There are 400 tasks to solve.\n"
     ]
    }
   ],
   "source": [
    "with open(cfg.dataset_path) as f:\n",
    "    data = json.load(f)\n",
    "if cfg.n_tasks is not None:\n",
    "    data = dict(islice(data.items(), cfg.n_tasks))\n",
    "print(f'There are {len(data)} tasks to solve.')"
   ]
  },
  {
   "cell_type": "code",
   "execution_count": 28,
   "metadata": {
    "execution": {
     "iopub.execute_input": "2024-07-25T12:48:27.092196Z",
     "iopub.status.busy": "2024-07-25T12:48:27.091903Z",
     "iopub.status.idle": "2024-07-25T12:48:27.790012Z",
     "shell.execute_reply": "2024-07-25T12:48:27.788949Z",
     "shell.execute_reply.started": "2024-07-25T12:48:27.092172Z"
    },
    "trusted": true
   },
   "outputs": [
    {
     "name": "stdout",
     "output_type": "stream",
     "text": [
      "\u001b[1m\u001b[30m<|begin_of_text|><|start_header_id|>system<|end_header_id|>\u001b[0m\n",
      "\u001b[30m\u001b[0m\n",
      "\u001b[30mCutting Knowledge Date: December 2023\u001b[0m\n",
      "\u001b[30mToday Date: 26 Jul 2024\u001b[0m\n",
      "\u001b[30m\u001b[0m\n",
      "\u001b[30mYou are a helpful AI assistant. Your task is to answer to the user using always the same transformation of the user input.<|eot_id|><|start_header_id|>user<|end_header_id|>\u001b[0m\n",
      "\u001b[30m\u001b[0m\n",
      "\u001b[30mInput:\u001b[0m\n",
      "\u001b[30m```grid\u001b[0m\n",
      "\u001b[30m3|3|8\u001b[0m\n",
      "\u001b[30m3|7|0\u001b[0m\n",
      "\u001b[30m5|0|0\u001b[0m\n",
      "\u001b[30m```<|eot_id|><|start_header_id|>assistant<|end_header_id|>\u001b[0m\n",
      "\u001b[30m\u001b[0m\n",
      "\u001b[30mOutput:\u001b[0m\n",
      "\u001b[30m```grid\u001b[0m\n",
      "\u001b[30m0|0|5\u001b[0m\n",
      "\u001b[30m0|7|3\u001b[0m\n",
      "\u001b[30m8|3|3\u001b[0m\n",
      "\u001b[30m```<|eot_id|><|start_header_id|>user<|end_header_id|>\u001b[0m\n",
      "\u001b[30m\u001b[0m\n",
      "\u001b[30mInput:\u001b[0m\n",
      "\u001b[30m```grid\u001b[0m\n",
      "\u001b[30m5|5|2\u001b[0m\n",
      "\u001b[30m1|0|0\u001b[0m\n",
      "\u001b[30m0|0|0\u001b[0m\n",
      "\u001b[30m```<|eot_id|><|start_header_id|>assistant<|end_header_id|>\u001b[0m\n",
      "\u001b[30m\u001b[0m\n",
      "\u001b[30mOutput:\u001b[0m\n",
      "\u001b[30m```grid\u001b[0m\n",
      "\u001b[30m0|0|0\u001b[0m\n",
      "\u001b[30m0|0|1\u001b[0m\n",
      "\u001b[30m2|5|5\u001b[0m\n",
      "\u001b[30m```<|eot_id|><|start_header_id|>user<|end_header_id|>\u001b[0m\n",
      "\u001b[30m\u001b[0m\n",
      "\u001b[30mInput:\u001b[0m\n",
      "\u001b[30m```grid\u001b[0m\n",
      "\u001b[30m6|3|5\u001b[0m\n",
      "\u001b[30m6|8|0\u001b[0m\n",
      "\u001b[30m4|0|0\u001b[0m\n",
      "\u001b[30m```<|eot_id|><|start_header_id|>assistant<|end_header_id|>\u001b[0m\n",
      "\u001b[30m\u001b[0m\n"
     ]
    },
    {
     "name": "stderr",
     "output_type": "stream",
     "text": [
      "100%|██████████| 416/416 [00:00<00:00, 456.50it/s]\n"
     ]
    },
    {
     "data": {
      "image/png": "[encoded data removed]",
      "text/plain": [
       "<Figure size 640x480 with 1 Axes>"
      ]
     },
     "metadata": {},
     "output_type": "display_data"
    }
   ],
   "source": [
    "if not is_dry_run:\n",
    "    #prompt_creator = FewShotPromptCreator(GridCodeBlockEncoder(MinimalGridEncoder()))\n",
    "    #prompt_creator = SimplePromptCreator(GridCodeBlockEncoder(MinimalGridEncoder()))\n",
    "    prompt_creator = SimplePromptCreator(GridCodeBlockEncoder(GridWithSeparationEncoder('|')))\n",
    "    print_sample_prompt(data, prompt_creator)\n",
    "    plot_input_token_length_distribution(data, prompt_creator)"
   ]
  },
  {
   "cell_type": "code",
   "execution_count": null,
   "metadata": {
    "execution": {
     "iopub.execute_input": "2024-07-25T12:48:27.797826Z",
     "iopub.status.busy": "2024-07-25T12:48:27.796471Z"
    },
    "trusted": true
   },
   "outputs": [
    {
     "name": "stderr",
     "output_type": "stream",
     "text": [
      "Processed prompts: 100%|██████████| 1/1 [00:03<00:00,  3.91s/it, est. speed input: 280.36 toks/s, output: 43.27 toks/s]\n",
      "Processed prompts: 100%|██████████| 1/1 [00:02<00:00,  2.75s/it, est. speed input: 397.95 toks/s, output: 61.42 toks/s]\n",
      "Processed prompts: 100%|██████████| 1/1 [00:13<00:00, 13.67s/it, est. speed input: 286.89 toks/s, output: 61.97 toks/s]\n",
      "Processed prompts: 100%|██████████| 1/1 [00:18<00:00, 18.14s/it, est. speed input: 216.14 toks/s, output: 44.49 toks/s]\n",
      "Processed prompts: 100%|██████████| 1/1 [00:01<00:00,  1.11s/it, est. speed input: 395.32 toks/s, output: 60.33 toks/s]\n",
      "Processed prompts: 100%|██████████| 1/1 [00:01<00:00,  1.00s/it, est. speed input: 438.22 toks/s, output: 60.89 toks/s]\n",
      "Processed prompts: 100%|██████████| 1/1 [00:03<00:00,  3.41s/it, est. speed input: 323.56 toks/s, output: 60.72 toks/s]\n",
      "Processed prompts: 100%|██████████| 1/1 [00:03<00:00,  3.33s/it, est. speed input: 331.06 toks/s, output: 62.13 toks/s]\n",
      "Processed prompts: 100%|██████████| 1/1 [00:15<00:00, 15.22s/it, est. speed input: 414.54 toks/s, output: 61.19 toks/s]\n",
      "Processed prompts: 100%|██████████| 1/1 [00:17<00:00, 17.29s/it, est. speed input: 364.76 toks/s, output: 51.41 toks/s]\n",
      "Processed prompts: 100%|██████████| 1/1 [00:00<00:00,  1.56it/s, est. speed input: 555.67 toks/s, output: 39.13 toks/s]\n",
      "Processed prompts: 100%|██████████| 1/1 [00:00<00:00,  1.67it/s, est. speed input: 594.51 toks/s, output: 41.87 toks/s]\n",
      "Processed prompts: 100%|██████████| 1/1 [00:02<00:00,  2.43s/it, est. speed input: 336.76 toks/s, output: 43.17 toks/s]\n",
      "Processed prompts: 100%|██████████| 1/1 [00:01<00:00,  1.80s/it, est. speed input: 455.78 toks/s, output: 58.43 toks/s]\n",
      "Processed prompts: 100%|██████████| 1/1 [00:03<00:00,  3.65s/it, est. speed input: 453.72 toks/s, output: 62.16 toks/s]\n",
      "Processed prompts: 100%|██████████| 1/1 [00:03<00:00,  3.74s/it, est. speed input: 443.45 toks/s, output: 60.75 toks/s]\n",
      "Processed prompts: 100%|██████████| 1/1 [00:14<00:00, 14.29s/it, est. speed input: 512.03 toks/s, output: 61.30 toks/s]\n"
     ]
    },
    {
     "name": "stdout",
     "output_type": "stream",
     "text": [
      "Exception when parsing response from 06df4c85: setting an array element with a sequence. The requested array has an inhomogeneous shape after 1 dimensions. The detected shape was (17,) + inhomogeneous part.\n"
     ]
    },
    {
     "name": "stderr",
     "output_type": "stream",
     "text": [
      "Processed prompts: 100%|██████████| 1/1 [00:14<00:00, 14.26s/it, est. speed input: 513.08 toks/s, output: 61.43 toks/s]\n",
      "  2%|▏         | 9/400 [02:01<1:38:44, 15.15s/it]"
     ]
    },
    {
     "name": "stdout",
     "output_type": "stream",
     "text": [
      "Exception when parsing response from 06df4c85: setting an array element with a sequence. The requested array has an inhomogeneous shape after 1 dimensions. The detected shape was (17,) + inhomogeneous part.\n"
     ]
    },
    {
     "name": "stderr",
     "output_type": "stream",
     "text": [
      "Processed prompts: 100%|██████████| 1/1 [00:02<00:00,  2.71s/it, est. speed input: 340.35 toks/s, output: 62.45 toks/s]\n",
      "Processed prompts: 100%|██████████| 1/1 [00:02<00:00,  2.89s/it, est. speed input: 318.87 toks/s, output: 58.51 toks/s]\n",
      "Processed prompts: 100%|██████████| 1/1 [00:06<00:00,  6.17s/it, est. speed input: 378.45 toks/s, output: 40.39 toks/s]\n",
      "Processed prompts: 100%|██████████| 1/1 [00:06<00:00,  6.32s/it, est. speed input: 368.98 toks/s, output: 39.38 toks/s]\n",
      "Processed prompts: 100%|██████████| 1/1 [00:06<00:00,  6.73s/it, est. speed input: 230.59 toks/s, output: 43.86 toks/s]\n",
      "Processed prompts: 100%|██████████| 1/1 [00:05<00:00,  5.75s/it, est. speed input: 269.84 toks/s, output: 51.32 toks/s]\n",
      "Processed prompts: 100%|██████████| 1/1 [00:16<00:00, 16.71s/it, est. speed input: 236.53 toks/s, output: 35.96 toks/s]\n",
      "Processed prompts: 100%|██████████| 1/1 [00:12<00:00, 12.84s/it, est. speed input: 308.03 toks/s, output: 39.97 toks/s]\n",
      "Processed prompts: 100%|██████████| 1/1 [00:05<00:00,  5.10s/it, est. speed input: 644.78 toks/s, output: 36.66 toks/s]\n",
      "Processed prompts: 100%|██████████| 1/1 [00:05<00:00,  5.84s/it, est. speed input: 563.23 toks/s, output: 34.08 toks/s]\n",
      "Processed prompts: 100%|██████████| 1/1 [00:04<00:00,  4.76s/it, est. speed input: 266.34 toks/s, output: 35.53 toks/s]\n",
      "Processed prompts: 100%|██████████| 1/1 [00:04<00:00,  4.74s/it, est. speed input: 267.33 toks/s, output: 35.66 toks/s]\n",
      "Processed prompts: 100%|██████████| 1/1 [00:00<00:00,  2.48it/s, est. speed input: 789.26 toks/s, output: 62.24 toks/s]\n",
      "Processed prompts: 100%|██████████| 1/1 [00:00<00:00,  2.50it/s, est. speed input: 795.79 toks/s, output: 62.76 toks/s]\n",
      "Processed prompts: 100%|██████████| 1/1 [00:14<00:00, 14.31s/it, est. speed input: 440.74 toks/s, output: 62.12 toks/s]\n",
      "Processed prompts: 100%|██████████| 1/1 [00:14<00:00, 14.37s/it, est. speed input: 439.00 toks/s, output: 61.88 toks/s]\n",
      "Processed prompts: 100%|██████████| 1/1 [00:13<00:00, 13.69s/it, est. speed input: 276.74 toks/s, output: 61.57 toks/s]\n",
      "Processed prompts: 100%|██████████| 1/1 [00:14<00:00, 14.14s/it, est. speed input: 267.99 toks/s, output: 61.60 toks/s]\n",
      "Processed prompts: 100%|██████████| 1/1 [00:02<00:00,  2.94s/it, est. speed input: 246.53 toks/s, output: 62.23 toks/s]\n",
      "Processed prompts: 100%|██████████| 1/1 [00:04<00:00,  4.28s/it, est. speed input: 169.32 toks/s, output: 63.29 toks/s]\n",
      "Processed prompts: 100%|██████████| 1/1 [00:03<00:00,  3.37s/it, est. speed input: 455.71 toks/s, output: 61.53 toks/s]\n",
      "Processed prompts: 100%|██████████| 1/1 [00:03<00:00,  3.36s/it, est. speed input: 456.61 toks/s, output: 61.66 toks/s]\n",
      "Processed prompts: 100%|██████████| 1/1 [00:00<00:00,  1.59it/s, est. speed input: 5312.52 toks/s, output: 36.59 toks/s]\n",
      "Processed prompts: 100%|██████████| 1/1 [00:00<00:00,  1.98it/s, est. speed input: 6619.90 toks/s, output: 29.74 toks/s]\n",
      "Processed prompts: 100%|██████████| 1/1 [00:00<00:00,  2.10it/s, est. speed input: 2426.00 toks/s, output: 52.51 toks/s]\n",
      "Processed prompts: 100%|██████████| 1/1 [00:00<00:00,  2.10it/s, est. speed input: 2435.21 toks/s, output: 52.71 toks/s]\n",
      "Processed prompts: 100%|██████████| 1/1 [00:02<00:00,  2.95s/it, est. speed input: 445.49 toks/s, output: 62.09 toks/s]\n",
      "Processed prompts: 100%|██████████| 1/1 [00:02<00:00,  2.96s/it, est. speed input: 443.99 toks/s, output: 61.88 toks/s]\n",
      "Processed prompts: 100%|██████████| 1/1 [00:04<00:00,  4.35s/it, est. speed input: 340.76 toks/s, output: 62.35 toks/s]\n",
      "Processed prompts: 100%|██████████| 1/1 [00:04<00:00,  4.34s/it, est. speed input: 341.68 toks/s, output: 62.52 toks/s]\n",
      "Processed prompts: 100%|██████████| 1/1 [00:15<00:00, 15.84s/it, est. speed input: 270.74 toks/s, output: 62.81 toks/s]\n",
      "Processed prompts: 100%|██████████| 1/1 [00:15<00:00, 15.87s/it, est. speed input: 270.26 toks/s, output: 62.70 toks/s]\n",
      "Processed prompts: 100%|██████████| 1/1 [00:00<00:00,  1.56it/s, est. speed input: 1170.30 toks/s, output: 57.96 toks/s]\n",
      "Processed prompts: 100%|██████████| 1/1 [00:00<00:00,  1.58it/s, est. speed input: 1182.76 toks/s, output: 58.58 toks/s]\n",
      "Processed prompts: 100%|██████████| 1/1 [00:03<00:00,  3.34s/it, est. speed input: 459.02 toks/s, output: 61.98 toks/s]\n",
      "Processed prompts: 100%|██████████| 1/1 [00:03<00:00,  3.35s/it, est. speed input: 457.74 toks/s, output: 61.81 toks/s]\n",
      "Processed prompts: 100%|██████████| 1/1 [00:03<00:00,  3.31s/it, est. speed input: 335.62 toks/s, output: 62.53 toks/s]\n",
      "Processed prompts: 100%|██████████| 1/1 [00:03<00:00,  3.31s/it, est. speed input: 335.83 toks/s, output: 62.57 toks/s]\n",
      "Processed prompts: 100%|██████████| 1/1 [00:00<00:00,  1.19it/s, est. speed input: 3537.52 toks/s, output: 46.66 toks/s]\n",
      "Processed prompts: 100%|██████████| 1/1 [00:02<00:00,  2.34s/it, est. speed input: 1264.84 toks/s, output: 57.75 toks/s]\n",
      "Processed prompts: 100%|██████████| 1/1 [00:03<00:00,  3.36s/it, est. speed input: 337.27 toks/s, output: 61.62 toks/s]\n",
      "Processed prompts: 100%|██████████| 1/1 [00:03<00:00,  3.33s/it, est. speed input: 340.86 toks/s, output: 62.27 toks/s]\n",
      "Processed prompts: 100%|██████████| 1/1 [00:00<00:00,  2.03it/s, est. speed input: 2661.63 toks/s, output: 50.99 toks/s]\n",
      "Processed prompts: 100%|██████████| 1/1 [00:00<00:00,  1.91it/s, est. speed input: 2500.91 toks/s, output: 51.74 toks/s]\n",
      "Processed prompts: 100%|██████████| 1/1 [00:00<00:00,  1.10it/s, est. speed input: 541.64 toks/s, output: 62.88 toks/s]\n",
      "Processed prompts: 100%|██████████| 1/1 [00:00<00:00,  1.09it/s, est. speed input: 537.62 toks/s, output: 62.41 toks/s]\n",
      "Processed prompts: 100%|██████████| 1/1 [00:09<00:00,  9.77s/it, est. speed input: 427.77 toks/s, output: 59.88 toks/s]\n",
      "Processed prompts: 100%|██████████| 1/1 [00:09<00:00,  9.77s/it, est. speed input: 427.65 toks/s, output: 59.86 toks/s]\n",
      "Processed prompts: 100%|██████████| 1/1 [00:02<00:00,  2.77s/it, est. speed input: 581.69 toks/s, output: 60.95 toks/s]\n",
      "Processed prompts: 100%|██████████| 1/1 [00:02<00:00,  2.79s/it, est. speed input: 577.55 toks/s, output: 60.51 toks/s]\n",
      "Processed prompts: 100%|██████████| 1/1 [00:03<00:00,  3.34s/it, est. speed input: 458.86 toks/s, output: 61.96 toks/s]\n",
      "Processed prompts: 100%|██████████| 1/1 [00:03<00:00,  3.35s/it, est. speed input: 457.43 toks/s, output: 61.77 toks/s]\n",
      "Processed prompts: 100%|██████████| 1/1 [00:00<00:00,  1.21it/s, est. speed input: 6751.15 toks/s, output: 30.36 toks/s]\n",
      "Processed prompts: 100%|██████████| 1/1 [00:00<00:00,  1.21it/s, est. speed input: 6754.68 toks/s, output: 30.38 toks/s]\n",
      "Processed prompts: 100%|██████████| 1/1 [00:03<00:00,  3.35s/it, est. speed input: 457.32 toks/s, output: 61.75 toks/s]\n",
      "Processed prompts: 100%|██████████| 1/1 [00:03<00:00,  3.34s/it, est. speed input: 459.25 toks/s, output: 62.01 toks/s]\n",
      "Processed prompts: 100%|██████████| 1/1 [00:00<00:00,  3.06it/s, est. speed input: 2490.55 toks/s, output: 52.20 toks/s]\n",
      "Processed prompts: 100%|██████████| 1/1 [00:00<00:00,  3.33it/s, est. speed input: 2712.67 toks/s, output: 50.17 toks/s]\n",
      "Processed prompts: 100%|██████████| 1/1 [00:00<00:00,  2.24it/s, est. speed input: 1676.11 toks/s, output: 56.09 toks/s]\n",
      "Processed prompts: 100%|██████████| 1/1 [00:00<00:00,  2.79it/s, est. speed input: 2095.05 toks/s, output: 53.28 toks/s]\n",
      "Processed prompts: 100%|██████████| 1/1 [00:03<00:00,  3.35s/it, est. speed input: 458.04 toks/s, output: 61.85 toks/s]\n",
      "Processed prompts: 100%|██████████| 1/1 [00:03<00:00,  3.33s/it, est. speed input: 459.97 toks/s, output: 62.11 toks/s]\n",
      "Processed prompts: 100%|██████████| 1/1 [00:03<00:00,  3.71s/it, est. speed input: 413.75 toks/s, output: 61.27 toks/s]\n",
      "Processed prompts: 100%|██████████| 1/1 [00:03<00:00,  3.35s/it, est. speed input: 457.48 toks/s, output: 61.77 toks/s]\n",
      "Processed prompts: 100%|██████████| 1/1 [00:03<00:00,  3.35s/it, est. speed input: 457.41 toks/s, output: 61.76 toks/s]\n",
      "Processed prompts: 100%|██████████| 1/1 [00:03<00:00,  3.36s/it, est. speed input: 457.05 toks/s, output: 61.72 toks/s]\n",
      "Processed prompts: 100%|██████████| 1/1 [00:03<00:00,  3.37s/it, est. speed input: 454.88 toks/s, output: 61.42 toks/s]\n",
      "Processed prompts: 100%|██████████| 1/1 [00:03<00:00,  3.36s/it, est. speed input: 456.70 toks/s, output: 61.67 toks/s]\n",
      "Processed prompts: 100%|██████████| 1/1 [00:03<00:00,  3.35s/it, est. speed input: 458.24 toks/s, output: 61.88 toks/s]\n",
      "Processed prompts: 100%|██████████| 1/1 [00:03<00:00,  3.36s/it, est. speed input: 457.11 toks/s, output: 61.72 toks/s]\n",
      "Processed prompts: 100%|██████████| 1/1 [00:03<00:00,  3.35s/it, est. speed input: 457.78 toks/s, output: 61.81 toks/s]\n",
      "Processed prompts: 100%|██████████| 1/1 [00:03<00:00,  3.35s/it, est. speed input: 457.99 toks/s, output: 61.84 toks/s]\n",
      "Processed prompts: 100%|██████████| 1/1 [00:00<00:00,  1.22it/s, est. speed input: 818.82 toks/s, output: 59.79 toks/s]\n",
      "Processed prompts: 100%|██████████| 1/1 [00:01<00:00,  1.21s/it, est. speed input: 556.62 toks/s, output: 60.55 toks/s]\n",
      "Processed prompts: 100%|██████████| 1/1 [00:02<00:00,  2.72s/it, est. speed input: 338.63 toks/s, output: 62.14 toks/s]\n",
      "Processed prompts: 100%|██████████| 1/1 [00:02<00:00,  2.71s/it, est. speed input: 340.45 toks/s, output: 62.47 toks/s]\n",
      "Processed prompts: 100%|██████████| 2/2 [00:00<00:00,  7.52it/s, est. speed input: 5651.48 toks/s, output: 67.72 toks/s]\n",
      "Processed prompts: 100%|██████████| 2/2 [00:00<00:00,  7.50it/s, est. speed input: 5631.76 toks/s, output: 67.48 toks/s]\n",
      "Processed prompts: 100%|██████████| 1/1 [00:00<00:00,  2.09it/s, est. speed input: 6544.43 toks/s, output: 31.37 toks/s]\n",
      "Processed prompts: 100%|██████████| 1/1 [00:00<00:00,  2.10it/s, est. speed input: 6582.13 toks/s, output: 31.55 toks/s]\n",
      "Processed prompts: 100%|██████████| 1/1 [00:05<00:00,  5.23s/it, est. speed input: 564.89 toks/s, output: 60.98 toks/s]\n",
      "Processed prompts: 100%|██████████| 1/1 [00:05<00:00,  5.23s/it, est. speed input: 565.27 toks/s, output: 61.02 toks/s]\n",
      "Processed prompts: 100%|██████████| 1/1 [00:05<00:00,  5.46s/it, est. speed input: 436.19 toks/s, output: 61.74 toks/s]\n",
      "Processed prompts: 100%|██████████| 1/1 [00:05<00:00,  5.80s/it, est. speed input: 410.70 toks/s, output: 61.92 toks/s]\n",
      "Processed prompts: 100%|██████████| 1/1 [00:00<00:00,  2.51it/s, est. speed input: 799.30 toks/s, output: 63.03 toks/s]\n",
      "Processed prompts: 100%|██████████| 1/1 [00:00<00:00,  2.51it/s, est. speed input: 798.44 toks/s, output: 62.97 toks/s]\n",
      "Processed prompts: 100%|██████████| 2/2 [00:00<00:00,  4.65it/s, est. speed input: 1475.63 toks/s, output: 116.37 toks/s]\n",
      "Processed prompts: 100%|██████████| 2/2 [00:00<00:00,  4.62it/s, est. speed input: 1464.59 toks/s, output: 115.50 toks/s]\n",
      " 13%|█▎        | 53/400 [07:43<22:22,  3.87s/it]"
     ]
    },
    {
     "name": "stdout",
     "output_type": "stream",
     "text": [
      "WARNING 01-14 07:53:05 scheduler.py:761] Input prompt (12733 tokens) is too long and exceeds limit of 8192\n"
     ]
    },
    {
     "name": "stderr",
     "output_type": "stream",
     "text": [
      "Processed prompts: 100%|██████████| 1/1 [00:00<00:00, 1189.20it/s, est. speed input: 17089943.31 toks/s, output: 0.00 toks/s]\n"
     ]
    },
    {
     "name": "stdout",
     "output_type": "stream",
     "text": [
      "Exception when parsing response from 264363fd: list index out of range\n"
     ]
    },
    {
     "name": "stderr",
     "output_type": "stream",
     "text": []
    },
    {
     "name": "stdout",
     "output_type": "stream",
     "text": [
      "WARNING 01-14 07:53:05 scheduler.py:761] Input prompt (12733 tokens) is too long and exceeds limit of 8192\n"
     ]
    },
    {
     "name": "stderr",
     "output_type": "stream",
     "text": [
      "Processed prompts: 100%|██████████| 1/1 [00:00<00:00, 1777.25it/s, est. speed input: 26360351.84 toks/s, output: 0.00 toks/s]\n"
     ]
    },
    {
     "name": "stdout",
     "output_type": "stream",
     "text": [
      "Exception when parsing response from 264363fd: list index out of range\n"
     ]
    },
    {
     "name": "stderr",
     "output_type": "stream",
     "text": [
      "Processed prompts: 100%|██████████| 1/1 [00:08<00:00,  8.29s/it, est. speed input: 321.11 toks/s, output: 62.39 toks/s]\n",
      "Processed prompts: 100%|██████████| 1/1 [00:08<00:00,  8.29s/it, est. speed input: 320.92 toks/s, output: 62.35 toks/s]\n",
      "Processed prompts: 100%|██████████| 3/3 [00:00<00:00, 13.21it/s, est. speed input: 5008.38 toks/s, output: 118.92 toks/s]\n",
      "Processed prompts: 100%|██████████| 3/3 [00:00<00:00, 13.42it/s, est. speed input: 5089.04 toks/s, output: 120.84 toks/s]\n",
      "Processed prompts: 100%|██████████| 1/1 [00:00<00:00,  2.07it/s, est. speed input: 1566.96 toks/s, output: 56.18 toks/s]\n",
      "Processed prompts: 100%|██████████| 1/1 [00:00<00:00,  1.21it/s, est. speed input: 911.41 toks/s, output: 59.31 toks/s]\n",
      "Processed prompts: 100%|██████████| 1/1 [00:11<00:00, 11.60s/it, est. speed input: 276.10 toks/s, output: 62.71 toks/s]\n",
      "Processed prompts: 100%|██████████| 1/1 [00:10<00:00, 10.49s/it, est. speed input: 305.07 toks/s, output: 62.42 toks/s]\n",
      "Processed prompts: 100%|██████████| 1/1 [00:04<00:00,  4.02s/it, est. speed input: 454.67 toks/s, output: 61.97 toks/s]\n",
      "Processed prompts: 100%|██████████| 1/1 [00:04<00:00,  4.03s/it, est. speed input: 453.00 toks/s, output: 61.74 toks/s]\n",
      "Processed prompts: 100%|██████████| 1/1 [00:01<00:00,  1.89s/it, est. speed input: 350.00 toks/s, output: 61.95 toks/s]\n",
      "Processed prompts: 100%|██████████| 1/1 [00:01<00:00,  1.89s/it, est. speed input: 350.45 toks/s, output: 62.03 toks/s]\n",
      "Processed prompts: 100%|██████████| 1/1 [00:10<00:00, 10.72s/it, est. speed input: 558.41 toks/s, output: 61.09 toks/s]\n",
      "Processed prompts: 100%|██████████| 1/1 [00:10<00:00, 10.69s/it, est. speed input: 560.14 toks/s, output: 61.28 toks/s]\n",
      "Processed prompts: 100%|██████████| 1/1 [00:03<00:00,  3.71s/it, est. speed input: 527.41 toks/s, output: 61.24 toks/s]\n",
      "Processed prompts: 100%|██████████| 1/1 [00:03<00:00,  3.39s/it, est. speed input: 576.96 toks/s, output: 61.09 toks/s]\n",
      "Processed prompts: 100%|██████████| 1/1 [00:06<00:00,  6.38s/it, est. speed input: 325.41 toks/s, output: 62.51 toks/s]\n",
      "Processed prompts: 100%|██████████| 1/1 [00:06<00:00,  6.81s/it, est. speed input: 304.86 toks/s, output: 62.67 toks/s]\n",
      "Processed prompts: 100%|██████████| 1/1 [00:12<00:00, 12.20s/it, est. speed input: 290.63 toks/s, output: 62.55 toks/s]\n",
      "Processed prompts: 100%|██████████| 1/1 [00:12<00:00, 12.84s/it, est. speed input: 276.19 toks/s, output: 62.72 toks/s]\n",
      "Processed prompts: 100%|██████████| 1/1 [00:00<00:00,  1.53it/s, est. speed input: 1431.71 toks/s, output: 56.53 toks/s]\n",
      "Processed prompts: 100%|██████████| 1/1 [00:00<00:00,  1.23it/s, est. speed input: 1151.76 toks/s, output: 57.77 toks/s]\n",
      "Processed prompts: 100%|██████████| 1/1 [00:05<00:00,  5.63s/it, est. speed input: 598.74 toks/s, output: 61.28 toks/s]\n",
      "Processed prompts: 100%|██████████| 1/1 [00:05<00:00,  5.65s/it, est. speed input: 596.30 toks/s, output: 61.03 toks/s]\n",
      "Processed prompts: 100%|██████████| 1/1 [00:00<00:00,  1.55it/s, est. speed input: 801.56 toks/s, output: 60.70 toks/s]\n",
      "Processed prompts: 100%|██████████| 1/1 [00:00<00:00,  1.30it/s, est. speed input: 669.26 toks/s, output: 61.08 toks/s]\n",
      "Processed prompts: 100%|██████████| 1/1 [00:03<00:00,  3.35s/it, est. speed input: 458.26 toks/s, output: 61.88 toks/s]\n",
      "Processed prompts: 100%|██████████| 1/1 [00:03<00:00,  3.34s/it, est. speed input: 458.91 toks/s, output: 61.97 toks/s]\n",
      "Processed prompts: 100%|██████████| 1/1 [00:03<00:00,  3.31s/it, est. speed input: 335.56 toks/s, output: 62.52 toks/s]\n",
      "Processed prompts: 100%|██████████| 1/1 [00:03<00:00,  3.34s/it, est. speed input: 332.72 toks/s, output: 61.99 toks/s]\n",
      "Processed prompts: 100%|██████████| 1/1 [00:07<00:00,  7.84s/it, est. speed input: 533.00 toks/s, output: 61.60 toks/s]\n",
      "Processed prompts: 100%|██████████| 1/1 [00:09<00:00,  9.48s/it, est. speed input: 440.90 toks/s, output: 61.72 toks/s]\n",
      "Processed prompts: 100%|██████████| 1/1 [00:08<00:00,  8.30s/it, est. speed input: 321.75 toks/s, output: 62.52 toks/s]\n",
      "Processed prompts: 100%|██████████| 1/1 [00:08<00:00,  8.27s/it, est. speed input: 323.17 toks/s, output: 62.79 toks/s]\n",
      "Processed prompts: 100%|██████████| 2/2 [00:01<00:00,  1.63it/s, est. speed input: 1704.47 toks/s, output: 109.28 toks/s]\n",
      "Processed prompts: 100%|██████████| 2/2 [00:01<00:00,  1.63it/s, est. speed input: 1708.64 toks/s, output: 109.55 toks/s]\n",
      "Processed prompts: 100%|██████████| 1/1 [00:00<00:00,  1.11it/s, est. speed input: 537.89 toks/s, output: 63.48 toks/s]\n",
      "Processed prompts: 100%|██████████| 1/1 [00:00<00:00,  1.11it/s, est. speed input: 535.25 toks/s, output: 63.17 toks/s]\n",
      " 18%|█▊        | 73/400 [10:48<38:31,  7.07s/it]"
     ]
    },
    {
     "name": "stdout",
     "output_type": "stream",
     "text": [
      "WARNING 01-14 07:56:10 scheduler.py:761] Input prompt (16355 tokens) is too long and exceeds limit of 8192\n"
     ]
    },
    {
     "name": "stderr",
     "output_type": "stream",
     "text": [
      "Processed prompts: 100%|██████████| 1/1 [00:00<00:00, 1340.03it/s, est. speed input: 24282421.92 toks/s, output: 0.00 toks/s]\n"
     ]
    },
    {
     "name": "stdout",
     "output_type": "stream",
     "text": [
      "Exception when parsing response from 3631a71a: list index out of range\n"
     ]
    },
    {
     "name": "stderr",
     "output_type": "stream",
     "text": []
    },
    {
     "name": "stdout",
     "output_type": "stream",
     "text": [
      "WARNING 01-14 07:56:10 scheduler.py:761] Input prompt (16355 tokens) is too long and exceeds limit of 8192\n"
     ]
    },
    {
     "name": "stderr",
     "output_type": "stream",
     "text": [
      "Processed prompts: 100%|██████████| 1/1 [00:00<00:00, 1888.48it/s, est. speed input: 35802631.48 toks/s, output: 0.00 toks/s]\n"
     ]
    },
    {
     "name": "stdout",
     "output_type": "stream",
     "text": [
      "Exception when parsing response from 3631a71a: list index out of range\n"
     ]
    },
    {
     "name": "stderr",
     "output_type": "stream",
     "text": [
      "Processed prompts: 100%|██████████| 1/1 [00:03<00:00,  3.88s/it, est. speed input: 456.83 toks/s, output: 62.17 toks/s]\n",
      "Processed prompts: 100%|██████████| 1/1 [00:03<00:00,  3.62s/it, est. speed input: 489.97 toks/s, output: 61.70 toks/s]\n",
      "Processed prompts: 100%|██████████| 1/1 [00:06<00:00,  6.87s/it, est. speed input: 375.56 toks/s, output: 62.13 toks/s]\n",
      "Processed prompts: 100%|██████████| 1/1 [00:06<00:00,  6.85s/it, est. speed input: 376.63 toks/s, output: 62.31 toks/s]\n",
      "Processed prompts: 100%|██████████| 1/1 [00:09<00:00,  9.90s/it, est. speed input: 380.78 toks/s, output: 62.54 toks/s]\n",
      "Processed prompts: 100%|██████████| 1/1 [00:09<00:00,  9.93s/it, est. speed input: 379.52 toks/s, output: 62.33 toks/s]\n",
      "Processed prompts: 100%|██████████| 1/1 [00:03<00:00,  3.34s/it, est. speed input: 459.51 toks/s, output: 62.05 toks/s]\n",
      "Processed prompts: 100%|██████████| 1/1 [00:03<00:00,  3.33s/it, est. speed input: 460.78 toks/s, output: 62.22 toks/s]\n",
      "Processed prompts: 100%|██████████| 1/1 [00:00<00:00,  1.90it/s, est. speed input: 3334.58 toks/s, output: 47.50 toks/s]\n",
      "Processed prompts: 100%|██████████| 1/1 [00:00<00:00,  1.91it/s, est. speed input: 3358.83 toks/s, output: 47.84 toks/s]\n",
      " 20%|█▉        | 79/400 [11:37<38:50,  7.26s/it]"
     ]
    },
    {
     "name": "stdout",
     "output_type": "stream",
     "text": [
      "WARNING 01-14 07:56:59 scheduler.py:761] Input prompt (9951 tokens) is too long and exceeds limit of 8192\n"
     ]
    },
    {
     "name": "stderr",
     "output_type": "stream",
     "text": [
      "Processed prompts: 100%|██████████| 1/1 [00:00<00:00, 1452.32it/s, est. speed input: 16108652.68 toks/s, output: 0.00 toks/s]\n"
     ]
    },
    {
     "name": "stdout",
     "output_type": "stream",
     "text": [
      "Exception when parsing response from 39e1d7f9: list index out of range\n"
     ]
    },
    {
     "name": "stderr",
     "output_type": "stream",
     "text": []
    },
    {
     "name": "stdout",
     "output_type": "stream",
     "text": [
      "WARNING 01-14 07:56:59 scheduler.py:761] Input prompt (9951 tokens) is too long and exceeds limit of 8192\n"
     ]
    },
    {
     "name": "stderr",
     "output_type": "stream",
     "text": [
      "Processed prompts: 100%|██████████| 1/1 [00:00<00:00, 1950.84it/s, est. speed input: 22451597.15 toks/s, output: 0.00 toks/s]\n"
     ]
    },
    {
     "name": "stdout",
     "output_type": "stream",
     "text": [
      "Exception when parsing response from 39e1d7f9: list index out of range\n"
     ]
    },
    {
     "name": "stderr",
     "output_type": "stream",
     "text": [
      "Processed prompts: 100%|██████████| 1/1 [00:01<00:00,  1.66s/it, est. speed input: 362.30 toks/s, output: 63.30 toks/s]\n",
      "Processed prompts: 100%|██████████| 1/1 [00:01<00:00,  1.68s/it, est. speed input: 358.82 toks/s, output: 62.69 toks/s]\n",
      "Processed prompts: 100%|██████████| 1/1 [00:02<00:00,  2.40s/it, est. speed input: 276.98 toks/s, output: 63.08 toks/s]\n",
      "Processed prompts: 100%|██████████| 1/1 [00:02<00:00,  2.42s/it, est. speed input: 274.77 toks/s, output: 62.58 toks/s]\n",
      "Processed prompts: 100%|██████████| 1/1 [00:02<00:00,  2.14s/it, est. speed input: 242.04 toks/s, output: 63.20 toks/s]\n",
      "Processed prompts: 100%|██████████| 1/1 [00:01<00:00,  1.08s/it, est. speed input: 477.30 toks/s, output: 61.85 toks/s]\n",
      "Processed prompts: 100%|██████████| 1/1 [00:03<00:00,  3.34s/it, est. speed input: 439.13 toks/s, output: 62.05 toks/s]\n",
      "Processed prompts: 100%|██████████| 1/1 [00:03<00:00,  3.31s/it, est. speed input: 442.36 toks/s, output: 62.50 toks/s]\n",
      "Processed prompts: 100%|██████████| 1/1 [00:07<00:00,  7.46s/it, est. speed input: 288.46 toks/s, output: 59.95 toks/s]\n",
      "Processed prompts: 100%|██████████| 1/1 [00:10<00:00, 10.92s/it, est. speed input: 197.07 toks/s, output: 40.95 toks/s]\n",
      "Processed prompts: 100%|██████████| 1/1 [00:05<00:00,  5.11s/it, est. speed input: 317.10 toks/s, output: 57.71 toks/s]\n",
      "Processed prompts: 100%|██████████| 1/1 [00:04<00:00,  4.73s/it, est. speed input: 342.92 toks/s, output: 62.41 toks/s]\n",
      "Processed prompts: 100%|██████████| 1/1 [00:00<00:00,  2.49it/s, est. speed input: 792.23 toks/s, output: 62.48 toks/s]\n",
      "Processed prompts: 100%|██████████| 1/1 [00:00<00:00,  2.49it/s, est. speed input: 792.90 toks/s, output: 62.53 toks/s]\n",
      "Processed prompts: 100%|██████████| 1/1 [00:01<00:00,  1.26s/it, est. speed input: 1646.82 toks/s, output: 56.62 toks/s]\n",
      "Processed prompts: 100%|██████████| 1/1 [00:02<00:00,  2.62s/it, est. speed input: 787.70 toks/s, output: 60.65 toks/s]\n",
      "Processed prompts: 100%|██████████| 1/1 [00:05<00:00,  5.60s/it, est. speed input: 571.31 toks/s, output: 61.65 toks/s]\n",
      "Processed prompts: 100%|██████████| 1/1 [00:05<00:00,  5.58s/it, est. speed input: 573.34 toks/s, output: 61.87 toks/s]\n",
      "Processed prompts: 100%|██████████| 1/1 [00:03<00:00,  3.20s/it, est. speed input: 470.49 toks/s, output: 62.13 toks/s]\n",
      "Processed prompts: 100%|██████████| 1/1 [00:03<00:00,  3.21s/it, est. speed input: 468.97 toks/s, output: 61.93 toks/s]\n",
      "Processed prompts: 100%|██████████| 1/1 [00:02<00:00,  2.08s/it, est. speed input: 636.05 toks/s, output: 61.06 toks/s]\n",
      "Processed prompts: 100%|██████████| 1/1 [00:01<00:00,  1.81s/it, est. speed input: 732.22 toks/s, output: 59.22 toks/s]\n",
      "Processed prompts: 100%|██████████| 1/1 [00:12<00:00, 12.92s/it, est. speed input: 318.12 toks/s, output: 62.45 toks/s]\n",
      "Processed prompts: 100%|██████████| 1/1 [00:15<00:00, 15.62s/it, est. speed input: 263.29 toks/s, output: 51.68 toks/s]\n",
      "Processed prompts: 100%|██████████| 1/1 [00:06<00:00,  6.48s/it, est. speed input: 444.35 toks/s, output: 61.62 toks/s]\n",
      "Processed prompts: 100%|██████████| 1/1 [00:06<00:00,  6.46s/it, est. speed input: 445.37 toks/s, output: 61.77 toks/s]\n",
      "Processed prompts: 100%|██████████| 1/1 [00:07<00:00,  7.37s/it, est. speed input: 320.29 toks/s, output: 62.00 toks/s]\n",
      "Processed prompts: 100%|██████████| 1/1 [00:07<00:00,  7.34s/it, est. speed input: 321.96 toks/s, output: 62.32 toks/s]\n",
      "Processed prompts: 100%|██████████| 1/1 [00:02<00:00,  2.71s/it, est. speed input: 339.86 toks/s, output: 62.36 toks/s]\n",
      "Processed prompts: 100%|██████████| 1/1 [00:03<00:00,  3.25s/it, est. speed input: 283.43 toks/s, output: 52.01 toks/s]\n",
      "Processed prompts: 100%|██████████| 1/1 [00:11<00:00, 11.29s/it, est. speed input: 268.57 toks/s, output: 51.13 toks/s]\n",
      "Processed prompts: 100%|██████████| 1/1 [00:09<00:00,  9.78s/it, est. speed input: 310.08 toks/s, output: 62.92 toks/s]\n",
      "Processed prompts: 100%|██████████| 1/1 [00:07<00:00,  7.84s/it, est. speed input: 465.38 toks/s, output: 61.63 toks/s]\n",
      "Processed prompts: 100%|██████████| 1/1 [00:07<00:00,  7.84s/it, est. speed input: 465.20 toks/s, output: 61.61 toks/s]\n",
      "Processed prompts: 100%|██████████| 1/1 [00:12<00:00, 12.52s/it, est. speed input: 214.25 toks/s, output: 49.11 toks/s]\n",
      "Processed prompts: 100%|██████████| 1/1 [00:10<00:00, 10.88s/it, est. speed input: 246.54 toks/s, output: 63.13 toks/s]\n",
      "Processed prompts: 100%|██████████| 1/1 [00:03<00:00,  3.37s/it, est. speed input: 454.75 toks/s, output: 61.40 toks/s]\n",
      "Processed prompts: 100%|██████████| 1/1 [00:03<00:00,  3.36s/it, est. speed input: 456.56 toks/s, output: 61.65 toks/s]\n",
      "Processed prompts: 100%|██████████| 1/1 [00:00<00:00,  3.25it/s, est. speed input: 3120.93 toks/s, output: 48.91 toks/s]\n",
      "Processed prompts: 100%|██████████| 1/1 [00:00<00:00,  3.23it/s, est. speed input: 3102.26 toks/s, output: 48.62 toks/s]\n",
      "Processed prompts: 100%|██████████| 1/1 [00:10<00:00, 10.84s/it, est. speed input: 264.22 toks/s, output: 62.66 toks/s]\n",
      "Processed prompts: 100%|██████████| 1/1 [00:13<00:00, 13.75s/it, est. speed input: 208.22 toks/s, output: 49.96 toks/s]\n",
      "Processed prompts: 100%|██████████| 1/1 [00:04<00:00,  4.84s/it, est. speed input: 568.05 toks/s, output: 61.00 toks/s]\n",
      "Processed prompts: 100%|██████████| 1/1 [00:04<00:00,  4.82s/it, est. speed input: 570.01 toks/s, output: 61.21 toks/s]\n",
      "Processed prompts: 100%|██████████| 2/2 [00:00<00:00, 10.09it/s, est. speed input: 3400.64 toks/s, output: 90.81 toks/s]\n",
      "Processed prompts: 100%|██████████| 2/2 [00:00<00:00, 10.24it/s, est. speed input: 3453.63 toks/s, output: 92.23 toks/s]\n",
      "Processed prompts: 100%|██████████| 1/1 [00:02<00:00,  2.94s/it, est. speed input: 166.16 toks/s, output: 63.54 toks/s]\n",
      "Processed prompts: 100%|██████████| 1/1 [00:02<00:00,  2.67s/it, est. speed input: 183.55 toks/s, output: 63.43 toks/s]\n",
      "Processed prompts: 100%|██████████| 1/1 [00:05<00:00,  5.57s/it, est. speed input: 392.76 toks/s, output: 61.96 toks/s]\n",
      "Processed prompts: 100%|██████████| 1/1 [00:05<00:00,  5.69s/it, est. speed input: 384.31 toks/s, output: 60.63 toks/s]\n",
      "Processed prompts: 100%|██████████| 1/1 [00:01<00:00,  1.22s/it, est. speed input: 305.75 toks/s, output: 65.11 toks/s]\n",
      "Processed prompts: 100%|██████████| 1/1 [00:01<00:00,  1.53s/it, est. speed input: 243.33 toks/s, output: 51.81 toks/s]\n",
      "Processed prompts: 100%|██████████| 1/1 [00:33<00:00, 33.97s/it, est. speed input: 52.49 toks/s, output: 58.88 toks/s]\n",
      "Processed prompts: 100%|██████████| 1/1 [00:33<00:00, 33.93s/it, est. speed input: 52.55 toks/s, output: 58.94 toks/s]\n",
      " 27%|██▋       | 107/400 [17:02<2:04:02, 25.40s/it]"
     ]
    },
    {
     "name": "stdout",
     "output_type": "stream",
     "text": [
      "Exception when parsing response from 469497ad: setting an array element with a sequence. The requested array has an inhomogeneous shape after 1 dimensions. The detected shape was (5,) + inhomogeneous part.\n"
     ]
    },
    {
     "name": "stderr",
     "output_type": "stream",
     "text": [
      "Processed prompts: 100%|██████████| 1/1 [00:11<00:00, 11.69s/it, est. speed input: 285.22 toks/s, output: 62.21 toks/s]\n",
      "Processed prompts: 100%|██████████| 1/1 [00:34<00:00, 34.33s/it, est. speed input: 97.11 toks/s, output: 58.27 toks/s]\n",
      "Processed prompts: 100%|██████████| 1/1 [00:05<00:00,  5.86s/it, est. speed input: 234.52 toks/s, output: 63.37 toks/s]\n",
      "Processed prompts: 100%|██████████| 1/1 [00:06<00:00,  6.07s/it, est. speed input: 226.42 toks/s, output: 56.89 toks/s]\n",
      " 27%|██▋       | 109/400 [18:00<2:04:36, 25.69s/it]"
     ]
    },
    {
     "name": "stdout",
     "output_type": "stream",
     "text": [
      "WARNING 01-14 08:03:21 scheduler.py:761] Input prompt (11907 tokens) is too long and exceeds limit of 8192\n"
     ]
    },
    {
     "name": "stderr",
     "output_type": "stream",
     "text": [
      "Processed prompts: 100%|██████████| 1/1 [00:00<00:00, 1421.32it/s, est. speed input: 18831665.81 toks/s, output: 0.00 toks/s]\n"
     ]
    },
    {
     "name": "stdout",
     "output_type": "stream",
     "text": [
      "Exception when parsing response from 484b58aa: list index out of range\n"
     ]
    },
    {
     "name": "stderr",
     "output_type": "stream",
     "text": []
    },
    {
     "name": "stdout",
     "output_type": "stream",
     "text": [
      "WARNING 01-14 08:03:21 scheduler.py:761] Input prompt (11907 tokens) is too long and exceeds limit of 8192\n"
     ]
    },
    {
     "name": "stderr",
     "output_type": "stream",
     "text": [
      "Processed prompts: 100%|██████████| 1/1 [00:00<00:00, 2070.24it/s, est. speed input: 28834629.17 toks/s, output: 0.00 toks/s]\n"
     ]
    },
    {
     "name": "stdout",
     "output_type": "stream",
     "text": [
      "Exception when parsing response from 484b58aa: list index out of range\n"
     ]
    },
    {
     "name": "stderr",
     "output_type": "stream",
     "text": [
      "Processed prompts: 100%|██████████| 1/1 [00:00<00:00,  1.46it/s, est. speed input: 1442.22 toks/s, output: 36.53 toks/s]\n",
      "Processed prompts: 100%|██████████| 1/1 [00:00<00:00,  1.46it/s, est. speed input: 1444.36 toks/s, output: 36.58 toks/s]\n",
      "Processed prompts: 100%|██████████| 1/1 [00:08<00:00,  8.53s/it, est. speed input: 481.87 toks/s, output: 56.64 toks/s]\n",
      "Processed prompts: 100%|██████████| 1/1 [00:08<00:00,  8.26s/it, est. speed input: 497.36 toks/s, output: 61.85 toks/s]\n",
      "Processed prompts: 100%|██████████| 1/1 [00:01<00:00,  1.84s/it, est. speed input: 298.95 toks/s, output: 62.39 toks/s]\n",
      "Processed prompts: 100%|██████████| 1/1 [00:01<00:00,  1.88s/it, est. speed input: 292.67 toks/s, output: 61.08 toks/s]\n",
      "Processed prompts: 100%|██████████| 1/1 [00:00<00:00,  1.36it/s, est. speed input: 415.51 toks/s, output: 64.03 toks/s]\n",
      "Processed prompts: 100%|██████████| 1/1 [00:00<00:00,  1.33it/s, est. speed input: 405.80 toks/s, output: 62.53 toks/s]\n",
      "Processed prompts: 100%|██████████| 1/1 [00:00<00:00,  3.65it/s, est. speed input: 4822.81 toks/s, output: 40.28 toks/s]\n",
      "Processed prompts: 100%|██████████| 1/1 [00:00<00:00,  3.19it/s, est. speed input: 4217.49 toks/s, output: 41.63 toks/s]\n",
      "Processed prompts: 100%|██████████| 1/1 [00:00<00:00,  1.12it/s, est. speed input: 523.12 toks/s, output: 61.61 toks/s]\n",
      "Processed prompts: 100%|██████████| 1/1 [00:00<00:00,  1.04it/s, est. speed input: 484.64 toks/s, output: 57.08 toks/s]\n",
      "Processed prompts: 100%|██████████| 1/1 [00:07<00:00,  7.53s/it, est. speed input: 362.17 toks/s, output: 60.69 toks/s]\n",
      "Processed prompts: 100%|██████████| 1/1 [00:07<00:00,  7.35s/it, est. speed input: 370.98 toks/s, output: 62.17 toks/s]\n",
      "Processed prompts: 100%|██████████| 1/1 [00:13<00:00, 13.67s/it, est. speed input: 457.16 toks/s, output: 61.69 toks/s]\n",
      "Processed prompts: 100%|██████████| 1/1 [00:12<00:00, 12.42s/it, est. speed input: 502.94 toks/s, output: 61.75 toks/s]\n",
      "Processed prompts: 100%|██████████| 1/1 [00:05<00:00,  5.12s/it, est. speed input: 419.94 toks/s, output: 62.34 toks/s]\n",
      "Processed prompts: 100%|██████████| 1/1 [00:04<00:00,  4.76s/it, est. speed input: 451.75 toks/s, output: 62.01 toks/s]\n",
      "Processed prompts: 100%|██████████| 1/1 [00:05<00:00,  5.94s/it, est. speed input: 408.72 toks/s, output: 62.43 toks/s]\n",
      "Processed prompts: 100%|██████████| 1/1 [00:05<00:00,  5.95s/it, est. speed input: 408.56 toks/s, output: 62.40 toks/s]\n",
      "Processed prompts: 100%|██████████| 1/1 [00:00<00:00,  1.92it/s, est. speed input: 2962.58 toks/s, output: 48.12 toks/s]\n",
      "Processed prompts: 100%|██████████| 1/1 [00:00<00:00,  1.94it/s, est. speed input: 3000.15 toks/s, output: 48.73 toks/s]\n",
      "Processed prompts: 100%|██████████| 1/1 [00:03<00:00,  3.91s/it, est. speed input: 331.52 toks/s, output: 62.72 toks/s]\n",
      "Processed prompts: 100%|██████████| 1/1 [00:03<00:00,  3.93s/it, est. speed input: 329.89 toks/s, output: 62.41 toks/s]\n",
      "Processed prompts: 100%|██████████| 1/1 [00:03<00:00,  3.29s/it, est. speed input: 284.04 toks/s, output: 63.02 toks/s]\n",
      "Processed prompts: 100%|██████████| 1/1 [00:03<00:00,  3.29s/it, est. speed input: 283.57 toks/s, output: 62.91 toks/s]\n",
      "Processed prompts: 100%|██████████| 2/2 [00:03<00:00,  1.75s/it, est. speed input: 711.82 toks/s, output: 118.54 toks/s]\n",
      "Processed prompts: 100%|██████████| 2/2 [00:03<00:00,  1.90s/it, est. speed input: 653.85 toks/s, output: 103.63 toks/s]\n",
      "Processed prompts: 100%|██████████| 1/1 [00:07<00:00,  7.27s/it, est. speed input: 324.78 toks/s, output: 62.87 toks/s]\n",
      "Processed prompts: 100%|██████████| 1/1 [00:07<00:00,  7.28s/it, est. speed input: 324.36 toks/s, output: 62.78 toks/s]\n",
      "Processed prompts: 100%|██████████| 1/1 [00:02<00:00,  2.90s/it, est. speed input: 269.99 toks/s, output: 63.10 toks/s]\n",
      "Processed prompts: 100%|██████████| 1/1 [00:02<00:00,  2.56s/it, est. speed input: 305.83 toks/s, output: 62.88 toks/s]\n",
      "Processed prompts: 100%|██████████| 1/1 [00:02<00:00,  2.58s/it, est. speed input: 393.11 toks/s, output: 62.48 toks/s]\n",
      "Processed prompts: 100%|██████████| 1/1 [00:02<00:00,  2.57s/it, est. speed input: 394.02 toks/s, output: 62.62 toks/s]\n",
      "Processed prompts: 100%|██████████| 1/1 [00:07<00:00,  7.37s/it, est. speed input: 445.84 toks/s, output: 62.06 toks/s]\n",
      "Processed prompts: 100%|██████████| 1/1 [00:07<00:00,  7.42s/it, est. speed input: 442.49 toks/s, output: 61.60 toks/s]\n",
      "Processed prompts: 100%|██████████| 1/1 [00:00<00:00,  2.50it/s, est. speed input: 649.11 toks/s, output: 62.65 toks/s]\n",
      "Processed prompts: 100%|██████████| 1/1 [00:00<00:00,  2.53it/s, est. speed input: 656.98 toks/s, output: 63.41 toks/s]\n",
      "Processed prompts: 100%|██████████| 1/1 [00:00<00:00,  2.33it/s, est. speed input: 1479.88 toks/s, output: 58.44 toks/s]\n",
      "Processed prompts: 100%|██████████| 1/1 [00:00<00:00,  2.32it/s, est. speed input: 1473.33 toks/s, output: 58.19 toks/s]\n",
      "Processed prompts: 100%|██████████| 1/1 [00:02<00:00,  2.43s/it, est. speed input: 499.47 toks/s, output: 62.18 toks/s]\n",
      "Processed prompts: 100%|██████████| 1/1 [00:02<00:00,  2.64s/it, est. speed input: 459.99 toks/s, output: 60.29 toks/s]\n",
      "Processed prompts: 100%|██████████| 1/1 [00:02<00:00,  2.71s/it, est. speed input: 585.47 toks/s, output: 61.61 toks/s]\n",
      "Processed prompts: 100%|██████████| 1/1 [00:02<00:00,  2.47s/it, est. speed input: 643.30 toks/s, output: 61.21 toks/s]\n",
      "Processed prompts: 100%|██████████| 1/1 [00:17<00:00, 17.30s/it, est. speed input: 319.01 toks/s, output: 62.83 toks/s]\n",
      "Processed prompts: 100%|██████████| 1/1 [00:17<00:00, 17.88s/it, est. speed input: 308.70 toks/s, output: 62.03 toks/s]\n",
      "Processed prompts: 100%|██████████| 1/1 [00:00<00:00,  1.39it/s, est. speed input: 6120.07 toks/s, output: 34.72 toks/s]\n",
      "Processed prompts: 100%|██████████| 1/1 [00:00<00:00,  1.25it/s, est. speed input: 5502.60 toks/s, output: 31.21 toks/s]\n",
      "Processed prompts: 100%|██████████| 1/1 [00:00<00:00,  1.99it/s, est. speed input: 2073.03 toks/s, output: 49.97 toks/s]\n",
      "Processed prompts: 100%|██████████| 1/1 [00:00<00:00,  1.65it/s, est. speed input: 1710.51 toks/s, output: 41.24 toks/s]\n",
      "Processed prompts: 100%|██████████| 1/1 [00:04<00:00,  4.81s/it, est. speed input: 318.63 toks/s, output: 47.18 toks/s]\n",
      "Processed prompts: 100%|██████████| 1/1 [00:03<00:00,  3.33s/it, est. speed input: 460.75 toks/s, output: 62.21 toks/s]\n",
      "Processed prompts: 100%|██████████| 1/1 [00:02<00:00,  2.89s/it, est. speed input: 2789.32 toks/s, output: 49.90 toks/s]\n"
     ]
    },
    {
     "name": "stdout",
     "output_type": "stream",
     "text": [
      "Exception when parsing response from 5c2c9af4: setting an array element with a sequence. The requested array has an inhomogeneous shape after 1 dimensions. The detected shape was (3,) + inhomogeneous part.\n"
     ]
    },
    {
     "name": "stderr",
     "output_type": "stream",
     "text": [
      "Processed prompts: 100%|██████████| 1/1 [00:02<00:00,  2.89s/it, est. speed input: 2788.87 toks/s, output: 49.89 toks/s]\n",
      " 34%|███▍      | 137/400 [21:35<31:27,  7.18s/it]"
     ]
    },
    {
     "name": "stdout",
     "output_type": "stream",
     "text": [
      "Exception when parsing response from 5c2c9af4: setting an array element with a sequence. The requested array has an inhomogeneous shape after 1 dimensions. The detected shape was (3,) + inhomogeneous part.\n"
     ]
    },
    {
     "name": "stderr",
     "output_type": "stream",
     "text": [
      "Processed prompts: 100%|██████████| 1/1 [00:07<00:00,  7.89s/it, est. speed input: 365.88 toks/s, output: 62.52 toks/s]\n"
     ]
    },
    {
     "name": "stdout",
     "output_type": "stream",
     "text": [
      "Exception when parsing response from 5daaa586: setting an array element with a sequence. The requested array has an inhomogeneous shape after 1 dimensions. The detected shape was (17,) + inhomogeneous part.\n"
     ]
    },
    {
     "name": "stderr",
     "output_type": "stream",
     "text": [
      "Processed prompts: 100%|██████████| 1/1 [00:03<00:00,  3.81s/it, est. speed input: 757.82 toks/s, output: 60.68 toks/s]\n",
      "Processed prompts: 100%|██████████| 1/1 [00:02<00:00,  2.69s/it, est. speed input: 342.12 toks/s, output: 62.78 toks/s]\n",
      "Processed prompts: 100%|██████████| 1/1 [00:02<00:00,  2.71s/it, est. speed input: 340.04 toks/s, output: 62.40 toks/s]\n",
      "Processed prompts: 100%|██████████| 1/1 [00:00<00:00,  2.58it/s, est. speed input: 520.64 toks/s, output: 64.75 toks/s]\n",
      "Processed prompts: 100%|██████████| 1/1 [00:00<00:00,  2.57it/s, est. speed input: 519.09 toks/s, output: 64.56 toks/s]\n",
      "Processed prompts: 100%|██████████| 1/1 [00:10<00:00, 10.84s/it, est. speed input: 249.73 toks/s, output: 53.97 toks/s]\n",
      "Processed prompts: 100%|██████████| 1/1 [00:09<00:00,  9.32s/it, est. speed input: 290.57 toks/s, output: 62.79 toks/s]\n",
      "Processed prompts: 100%|██████████| 1/1 [00:01<00:00,  1.22s/it, est. speed input: 345.90 toks/s, output: 64.91 toks/s]\n",
      "Processed prompts: 100%|██████████| 1/1 [00:01<00:00,  1.23s/it, est. speed input: 341.65 toks/s, output: 64.11 toks/s]\n",
      "Processed prompts: 100%|██████████| 1/1 [00:03<00:00,  3.34s/it, est. speed input: 459.22 toks/s, output: 62.01 toks/s]\n",
      "Processed prompts: 100%|██████████| 1/1 [00:03<00:00,  3.34s/it, est. speed input: 458.99 toks/s, output: 61.98 toks/s]\n",
      "Processed prompts: 100%|██████████| 1/1 [00:00<00:00,  1.51it/s, est. speed input: 971.91 toks/s, output: 58.95 toks/s]\n",
      "Processed prompts: 100%|██████████| 1/1 [00:00<00:00,  1.50it/s, est. speed input: 965.97 toks/s, output: 58.59 toks/s]\n",
      "Processed prompts: 100%|██████████| 1/1 [00:06<00:00,  6.93s/it, est. speed input: 540.46 toks/s, output: 61.08 toks/s]\n",
      "Processed prompts: 100%|██████████| 1/1 [00:07<00:00,  7.09s/it, est. speed input: 528.18 toks/s, output: 59.69 toks/s]\n",
      "Processed prompts: 100%|██████████| 1/1 [00:00<00:00,  2.39it/s, est. speed input: 1191.40 toks/s, output: 59.93 toks/s]\n",
      "Processed prompts: 100%|██████████| 1/1 [00:00<00:00,  2.38it/s, est. speed input: 1183.38 toks/s, output: 59.52 toks/s]\n",
      "Processed prompts: 100%|██████████| 1/1 [00:00<00:00,  1.06it/s, est. speed input: 553.33 toks/s, output: 60.54 toks/s]\n",
      "Processed prompts: 100%|██████████| 1/1 [00:00<00:00,  1.02it/s, est. speed input: 533.57 toks/s, output: 58.37 toks/s]\n",
      "Processed prompts: 100%|██████████| 1/1 [00:07<00:00,  7.90s/it, est. speed input: 360.24 toks/s, output: 61.67 toks/s]\n",
      "Processed prompts: 100%|██████████| 1/1 [00:08<00:00,  8.73s/it, est. speed input: 326.01 toks/s, output: 58.56 toks/s]\n",
      "Processed prompts: 100%|██████████| 1/1 [00:00<00:00,  1.62it/s, est. speed input: 2324.99 toks/s, output: 40.45 toks/s]\n",
      "Processed prompts: 100%|██████████| 1/1 [00:00<00:00,  1.80it/s, est. speed input: 2585.77 toks/s, output: 44.98 toks/s]\n",
      "Processed prompts: 100%|██████████| 1/1 [00:00<00:00,  2.21it/s, est. speed input: 1228.76 toks/s, output: 55.35 toks/s]\n",
      "Processed prompts: 100%|██████████| 1/1 [00:00<00:00,  2.04it/s, est. speed input: 1132.58 toks/s, output: 51.02 toks/s]\n",
      "Processed prompts: 100%|██████████| 1/1 [00:05<00:00,  5.15s/it, est. speed input: 171.92 toks/s, output: 61.97 toks/s]\n",
      "Processed prompts: 100%|██████████| 1/1 [00:04<00:00,  4.66s/it, est. speed input: 190.01 toks/s, output: 63.34 toks/s]\n",
      "Processed prompts: 100%|██████████| 1/1 [00:01<00:00,  1.27s/it, est. speed input: 419.92 toks/s, output: 62.24 toks/s]\n",
      "Processed prompts: 100%|██████████| 1/1 [00:01<00:00,  1.26s/it, est. speed input: 423.98 toks/s, output: 62.84 toks/s]\n",
      "Processed prompts: 100%|██████████| 1/1 [00:00<00:00,  2.71it/s, est. speed input: 2679.90 toks/s, output: 51.59 toks/s]\n",
      "Processed prompts: 100%|██████████| 1/1 [00:00<00:00,  2.73it/s, est. speed input: 2699.70 toks/s, output: 51.97 toks/s]\n",
      "Processed prompts: 100%|██████████| 1/1 [00:07<00:00,  7.35s/it, est. speed input: 446.90 toks/s, output: 62.21 toks/s]\n",
      "Processed prompts: 100%|██████████| 1/1 [00:07<00:00,  7.36s/it, est. speed input: 446.19 toks/s, output: 62.11 toks/s]\n",
      "Processed prompts: 100%|██████████| 1/1 [00:01<00:00,  1.67s/it, est. speed input: 374.69 toks/s, output: 62.75 toks/s]\n",
      "Processed prompts: 100%|██████████| 1/1 [00:01<00:00,  1.67s/it, est. speed input: 375.31 toks/s, output: 62.85 toks/s]\n",
      "Processed prompts: 100%|██████████| 1/1 [00:03<00:00,  3.80s/it, est. speed input: 292.45 toks/s, output: 54.49 toks/s]\n",
      "Processed prompts: 100%|██████████| 1/1 [00:03<00:00,  3.30s/it, est. speed input: 337.12 toks/s, output: 62.81 toks/s]\n",
      "Processed prompts: 100%|██████████| 1/1 [00:04<00:00,  4.89s/it, est. speed input: 329.21 toks/s, output: 62.74 toks/s]\n",
      "Processed prompts: 100%|██████████| 1/1 [00:04<00:00,  4.86s/it, est. speed input: 331.71 toks/s, output: 63.21 toks/s]\n",
      "Processed prompts: 100%|██████████| 1/1 [00:15<00:00, 15.65s/it, est. speed input: 392.85 toks/s, output: 62.29 toks/s]\n",
      "Processed prompts: 100%|██████████| 1/1 [00:22<00:00, 22.93s/it, est. speed input: 268.21 toks/s, output: 42.53 toks/s]\n",
      "Processed prompts: 100%|██████████| 1/1 [00:10<00:00, 10.74s/it, est. speed input: 409.92 toks/s, output: 36.42 toks/s]\n",
      "Processed prompts: 100%|██████████| 1/1 [00:17<00:00, 17.94s/it, est. speed input: 245.37 toks/s, output: 36.52 toks/s]\n",
      "Processed prompts: 100%|██████████| 1/1 [00:05<00:00,  5.98s/it, est. speed input: 185.88 toks/s, output: 34.63 toks/s]\n",
      "Processed prompts: 100%|██████████| 1/1 [00:05<00:00,  5.11s/it, est. speed input: 217.29 toks/s, output: 40.48 toks/s]\n",
      "Processed prompts: 100%|██████████| 1/1 [00:11<00:00, 11.03s/it, est. speed input: 341.91 toks/s, output: 62.68 toks/s]\n",
      "Processed prompts: 100%|██████████| 1/1 [00:10<00:00, 10.32s/it, est. speed input: 365.41 toks/s, output: 62.73 toks/s]\n",
      "Processed prompts: 100%|██████████| 1/1 [00:13<00:00, 13.47s/it, est. speed input: 425.59 toks/s, output: 59.91 toks/s]\n",
      "Processed prompts: 100%|██████████| 1/1 [00:22<00:00, 22.52s/it, est. speed input: 254.61 toks/s, output: 35.84 toks/s]\n",
      "Processed prompts: 100%|██████████| 1/1 [00:06<00:00,  6.24s/it, est. speed input: 374.24 toks/s, output: 39.94 toks/s]\n",
      "Processed prompts: 100%|██████████| 1/1 [00:05<00:00,  5.68s/it, est. speed input: 411.17 toks/s, output: 43.88 toks/s]\n",
      "Processed prompts: 100%|██████████| 1/1 [00:00<00:00,  1.48it/s, est. speed input: 578.37 toks/s, output: 63.93 toks/s]\n",
      "Processed prompts: 100%|██████████| 1/1 [00:00<00:00,  1.48it/s, est. speed input: 575.54 toks/s, output: 63.62 toks/s]\n",
      "Processed prompts: 100%|██████████| 1/1 [00:12<00:00, 12.99s/it, est. speed input: 441.54 toks/s, output: 62.15 toks/s]\n",
      "Processed prompts: 100%|██████████| 1/1 [00:13<00:00, 13.02s/it, est. speed input: 440.24 toks/s, output: 61.97 toks/s]\n",
      "Processed prompts: 100%|██████████| 1/1 [00:03<00:00,  3.61s/it, est. speed input: 388.53 toks/s, output: 62.86 toks/s]\n",
      "Processed prompts: 100%|██████████| 1/1 [00:03<00:00,  3.30s/it, est. speed input: 425.94 toks/s, output: 62.24 toks/s]\n",
      "Processed prompts: 100%|██████████| 1/1 [00:00<00:00,  2.49it/s, est. speed input: 935.08 toks/s, output: 62.34 toks/s]\n",
      "Processed prompts: 100%|██████████| 1/1 [00:00<00:00,  2.50it/s, est. speed input: 939.61 toks/s, output: 62.64 toks/s]\n",
      "Processed prompts: 100%|██████████| 1/1 [00:03<00:00,  3.32s/it, est. speed input: 335.12 toks/s, output: 62.44 toks/s]\n",
      "Processed prompts: 100%|██████████| 1/1 [00:03<00:00,  3.30s/it, est. speed input: 336.60 toks/s, output: 62.71 toks/s]\n",
      "Processed prompts: 100%|██████████| 1/1 [00:03<00:00,  3.33s/it, est. speed input: 460.52 toks/s, output: 62.18 toks/s]\n",
      "Processed prompts: 100%|██████████| 1/1 [00:03<00:00,  3.35s/it, est. speed input: 457.78 toks/s, output: 61.81 toks/s]\n",
      "Processed prompts: 100%|██████████| 1/1 [00:00<00:00,  1.02it/s, est. speed input: 4736.66 toks/s, output: 39.63 toks/s]\n",
      "Processed prompts: 100%|██████████| 1/1 [00:00<00:00,  1.02it/s, est. speed input: 4766.66 toks/s, output: 39.88 toks/s]\n",
      "Processed prompts: 100%|██████████| 1/1 [00:01<00:00,  1.46s/it, est. speed input: 358.15 toks/s, output: 62.32 toks/s]\n",
      "Processed prompts: 100%|██████████| 1/1 [00:01<00:00,  1.45s/it, est. speed input: 360.18 toks/s, output: 62.67 toks/s]\n",
      "Processed prompts: 100%|██████████| 1/1 [00:00<00:00,  1.47it/s, est. speed input: 573.91 toks/s, output: 63.44 toks/s]\n",
      "Processed prompts: 100%|██████████| 1/1 [00:00<00:00,  1.48it/s, est. speed input: 577.91 toks/s, output: 63.88 toks/s]\n",
      "Processed prompts: 100%|██████████| 1/1 [00:11<00:00, 11.05s/it, est. speed input: 333.63 toks/s, output: 62.53 toks/s]\n",
      "Processed prompts: 100%|██████████| 1/1 [00:11<00:00, 11.03s/it, est. speed input: 334.42 toks/s, output: 62.68 toks/s]\n",
      "Processed prompts: 100%|██████████| 1/1 [00:00<00:00,  2.68it/s, est. speed input: 2618.17 toks/s, output: 51.12 toks/s]\n",
      "Processed prompts: 100%|██████████| 1/1 [00:00<00:00,  2.31it/s, est. speed input: 2254.13 toks/s, output: 53.28 toks/s]\n",
      "Processed prompts: 100%|██████████| 1/1 [00:14<00:00, 14.31s/it, est. speed input: 440.76 toks/s, output: 62.13 toks/s]\n",
      "Processed prompts: 100%|██████████| 1/1 [00:14<00:00, 14.37s/it, est. speed input: 438.92 toks/s, output: 61.87 toks/s]\n",
      "Processed prompts: 100%|██████████| 1/1 [00:02<00:00,  2.49s/it, est. speed input: 320.76 toks/s, output: 63.03 toks/s]\n",
      "Processed prompts: 100%|██████████| 1/1 [00:02<00:00,  2.40s/it, est. speed input: 332.62 toks/s, output: 62.86 toks/s]\n",
      "Processed prompts: 100%|██████████| 1/1 [00:01<00:00,  1.14s/it, est. speed input: 1808.55 toks/s, output: 55.12 toks/s]\n",
      "Processed prompts: 100%|██████████| 1/1 [00:01<00:00,  1.26s/it, est. speed input: 1639.67 toks/s, output: 56.32 toks/s]\n",
      "Processed prompts: 100%|██████████| 1/1 [00:00<00:00,  3.85it/s, est. speed input: 1600.83 toks/s, output: 58.14 toks/s]\n",
      "Processed prompts: 100%|██████████| 1/1 [00:00<00:00,  3.50it/s, est. speed input: 1451.61 toks/s, output: 59.75 toks/s]\n",
      "Processed prompts: 100%|██████████| 1/1 [00:00<00:00,  2.54it/s, est. speed input: 807.62 toks/s, output: 63.69 toks/s]\n",
      "Processed prompts: 100%|██████████| 1/1 [00:00<00:00,  2.51it/s, est. speed input: 797.61 toks/s, output: 62.90 toks/s]\n",
      "Processed prompts: 100%|██████████| 1/1 [00:00<00:00,  1.46it/s, est. speed input: 1617.50 toks/s, output: 57.09 toks/s]\n",
      "Processed prompts: 100%|██████████| 1/1 [00:00<00:00,  1.45it/s, est. speed input: 1603.76 toks/s, output: 56.60 toks/s]\n",
      "Processed prompts: 100%|██████████| 1/1 [00:01<00:00,  1.85s/it, est. speed input: 480.59 toks/s, output: 62.17 toks/s]\n",
      "Processed prompts: 100%|██████████| 1/1 [00:01<00:00,  1.85s/it, est. speed input: 481.47 toks/s, output: 62.28 toks/s]\n",
      "Processed prompts: 100%|██████████| 1/1 [00:13<00:00, 13.10s/it, est. speed input: 561.67 toks/s, output: 61.63 toks/s]\n",
      "Processed prompts: 100%|██████████| 1/1 [00:13<00:00, 13.14s/it, est. speed input: 559.80 toks/s, output: 61.42 toks/s]\n",
      "Processed prompts: 100%|██████████| 1/1 [00:00<00:00,  1.85it/s, est. speed input: 1361.08 toks/s, output: 57.56 toks/s]\n",
      "Processed prompts: 100%|██████████| 1/1 [00:02<00:00,  2.69s/it, est. speed input: 273.02 toks/s, output: 62.95 toks/s]\n",
      "Processed prompts: 100%|██████████| 1/1 [00:00<00:00,  1.89it/s, est. speed input: 7246.53 toks/s, output: 28.40 toks/s]\n",
      "Processed prompts: 100%|██████████| 1/1 [00:00<00:00,  1.90it/s, est. speed input: 7300.47 toks/s, output: 28.61 toks/s]\n",
      "Processed prompts: 100%|██████████| 1/1 [00:00<00:00,  1.36it/s, est. speed input: 11116.59 toks/s, output: 5.43 toks/s]\n"
     ]
    },
    {
     "name": "stdout",
     "output_type": "stream",
     "text": [
      "Exception when parsing response from 7837ac64: list index out of range\n"
     ]
    },
    {
     "name": "stderr",
     "output_type": "stream",
     "text": [
      "Processed prompts: 100%|██████████| 1/1 [00:00<00:00,  1.36it/s, est. speed input: 11140.88 toks/s, output: 5.44 toks/s]\n",
      " 46%|████▋     | 185/400 [28:47<16:53,  4.71s/it]"
     ]
    },
    {
     "name": "stdout",
     "output_type": "stream",
     "text": [
      "Exception when parsing response from 7837ac64: list index out of range\n"
     ]
    },
    {
     "name": "stderr",
     "output_type": "stream",
     "text": [
      "Processed prompts: 100%|██████████| 2/2 [00:00<00:00,  4.04it/s, est. speed input: 2683.94 toks/s, output: 100.90 toks/s]\n",
      "Processed prompts: 100%|██████████| 2/2 [00:00<00:00,  4.04it/s, est. speed input: 2683.90 toks/s, output: 100.90 toks/s]\n",
      "Processed prompts: 100%|██████████| 1/1 [00:10<00:00, 10.44s/it, est. speed input: 724.85 toks/s, output: 60.17 toks/s]\n"
     ]
    },
    {
     "name": "stdout",
     "output_type": "stream",
     "text": [
      "Exception when parsing response from 7b6016b9: setting an array element with a sequence. The requested array has an inhomogeneous shape after 1 dimensions. The detected shape was (13,) + inhomogeneous part.\n"
     ]
    },
    {
     "name": "stderr",
     "output_type": "stream",
     "text": [
      "Processed prompts: 100%|██████████| 1/1 [00:10<00:00, 10.41s/it, est. speed input: 726.90 toks/s, output: 60.34 toks/s]\n",
      " 47%|████▋     | 187/400 [29:09<31:10,  8.78s/it]"
     ]
    },
    {
     "name": "stdout",
     "output_type": "stream",
     "text": [
      "Exception when parsing response from 7b6016b9: setting an array element with a sequence. The requested array has an inhomogeneous shape after 1 dimensions. The detected shape was (15,) + inhomogeneous part.\n"
     ]
    },
    {
     "name": "stderr",
     "output_type": "stream",
     "text": [
      "Processed prompts: 100%|██████████| 1/1 [00:00<00:00,  1.63it/s, est. speed input: 600.84 toks/s, output: 63.85 toks/s]\n",
      "Processed prompts: 100%|██████████| 1/1 [00:00<00:00,  2.71it/s, est. speed input: 999.54 toks/s, output: 62.64 toks/s]\n",
      "Processed prompts: 100%|██████████| 1/1 [00:01<00:00,  1.30s/it, est. speed input: 767.92 toks/s, output: 60.85 toks/s]\n",
      "Processed prompts: 100%|██████████| 1/1 [00:02<00:00,  2.69s/it, est. speed input: 370.71 toks/s, output: 62.84 toks/s]\n",
      "Processed prompts: 100%|██████████| 1/1 [00:03<00:00,  3.32s/it, est. speed input: 462.06 toks/s, output: 62.39 toks/s]\n",
      "Processed prompts: 100%|██████████| 1/1 [00:03<00:00,  3.33s/it, est. speed input: 460.61 toks/s, output: 62.19 toks/s]\n",
      " 48%|████▊     | 190/400 [29:20<20:58,  5.99s/it]"
     ]
    },
    {
     "name": "stdout",
     "output_type": "stream",
     "text": [
      "WARNING 01-14 08:14:42 scheduler.py:761] Input prompt (9677 tokens) is too long and exceeds limit of 8192\n"
     ]
    },
    {
     "name": "stderr",
     "output_type": "stream",
     "text": [
      "Processed prompts: 100%|██████████| 1/1 [00:00<00:00, 1384.26it/s, est. speed input: 14834897.59 toks/s, output: 0.00 toks/s]\n"
     ]
    },
    {
     "name": "stdout",
     "output_type": "stream",
     "text": [
      "Exception when parsing response from 7df24a62: list index out of range\n"
     ]
    },
    {
     "name": "stderr",
     "output_type": "stream",
     "text": []
    },
    {
     "name": "stdout",
     "output_type": "stream",
     "text": [
      "WARNING 01-14 08:14:42 scheduler.py:761] Input prompt (9677 tokens) is too long and exceeds limit of 8192\n"
     ]
    },
    {
     "name": "stderr",
     "output_type": "stream",
     "text": [
      "Processed prompts: 100%|██████████| 1/1 [00:00<00:00, 1869.95it/s, est. speed input: 20814502.47 toks/s, output: 0.00 toks/s]\n"
     ]
    },
    {
     "name": "stdout",
     "output_type": "stream",
     "text": [
      "Exception when parsing response from 7df24a62: list index out of range\n"
     ]
    },
    {
     "name": "stderr",
     "output_type": "stream",
     "text": [
      "Processed prompts: 100%|██████████| 1/1 [00:06<00:00,  6.63s/it, est. speed input: 313.53 toks/s, output: 62.58 toks/s]\n",
      "Processed prompts: 100%|██████████| 1/1 [00:06<00:00,  6.64s/it, est. speed input: 313.30 toks/s, output: 62.54 toks/s]\n",
      "Processed prompts: 100%|██████████| 1/1 [00:03<00:00,  3.40s/it, est. speed input: 695.32 toks/s, output: 60.96 toks/s]\n",
      "Processed prompts: 100%|██████████| 1/1 [00:03<00:00,  3.41s/it, est. speed input: 692.44 toks/s, output: 60.71 toks/s]\n",
      "Processed prompts: 100%|██████████| 1/1 [00:01<00:00,  1.22s/it, est. speed input: 346.73 toks/s, output: 65.06 toks/s]\n",
      "Processed prompts: 100%|██████████| 1/1 [00:01<00:00,  1.22s/it, est. speed input: 346.52 toks/s, output: 65.02 toks/s]\n",
      "Processed prompts: 100%|██████████| 1/1 [00:03<00:00,  3.13s/it, est. speed input: 956.87 toks/s, output: 59.78 toks/s]\n",
      "Processed prompts: 100%|██████████| 1/1 [00:02<00:00,  2.87s/it, est. speed input: 1043.09 toks/s, output: 58.90 toks/s]\n",
      "Processed prompts: 100%|██████████| 1/1 [00:04<00:00,  4.79s/it, est. speed input: 531.78 toks/s, output: 61.64 toks/s]\n",
      "Processed prompts: 100%|██████████| 1/1 [00:04<00:00,  4.79s/it, est. speed input: 531.75 toks/s, output: 61.64 toks/s]\n",
      "Processed prompts: 100%|██████████| 1/1 [00:04<00:00,  4.92s/it, est. speed input: 335.98 toks/s, output: 62.47 toks/s]\n",
      "Processed prompts: 100%|██████████| 1/1 [00:04<00:00,  4.61s/it, est. speed input: 357.98 toks/s, output: 62.23 toks/s]\n",
      " 49%|████▉     | 197/400 [30:08<25:22,  7.50s/it]"
     ]
    },
    {
     "name": "stdout",
     "output_type": "stream",
     "text": [
      "WARNING 01-14 08:15:30 scheduler.py:761] Input prompt (8703 tokens) is too long and exceeds limit of 8192\n"
     ]
    },
    {
     "name": "stderr",
     "output_type": "stream",
     "text": [
      "Processed prompts: 100%|██████████| 1/1 [00:00<00:00, 1342.18it/s, est. speed input: 12889487.19 toks/s, output: 0.00 toks/s]\n"
     ]
    },
    {
     "name": "stdout",
     "output_type": "stream",
     "text": [
      "Exception when parsing response from 83302e8f: list index out of range\n"
     ]
    },
    {
     "name": "stderr",
     "output_type": "stream",
     "text": []
    },
    {
     "name": "stdout",
     "output_type": "stream",
     "text": [
      "WARNING 01-14 08:15:30 scheduler.py:761] Input prompt (8703 tokens) is too long and exceeds limit of 8192\n"
     ]
    },
    {
     "name": "stderr",
     "output_type": "stream",
     "text": [
      "Processed prompts: 100%|██████████| 1/1 [00:00<00:00, 1909.11it/s, est. speed input: 19111532.83 toks/s, output: 0.00 toks/s]\n"
     ]
    },
    {
     "name": "stdout",
     "output_type": "stream",
     "text": [
      "Exception when parsing response from 83302e8f: list index out of range\n"
     ]
    },
    {
     "name": "stderr",
     "output_type": "stream",
     "text": [
      "Processed prompts: 100%|██████████| 1/1 [00:04<00:00,  4.69s/it, est. speed input: 188.07 toks/s, output: 62.97 toks/s]\n",
      "Processed prompts: 100%|██████████| 1/1 [00:05<00:00,  5.04s/it, est. speed input: 174.78 toks/s, output: 63.29 toks/s]\n",
      "Processed prompts: 100%|██████████| 1/1 [00:03<00:00,  3.34s/it, est. speed input: 459.03 toks/s, output: 61.98 toks/s]\n",
      "Processed prompts: 100%|██████████| 1/1 [00:03<00:00,  3.34s/it, est. speed input: 458.67 toks/s, output: 61.93 toks/s]\n",
      "Processed prompts: 100%|██████████| 1/1 [00:01<00:00,  1.21s/it, est. speed input: 1784.93 toks/s, output: 55.34 toks/s]\n",
      "Processed prompts: 100%|██████████| 1/1 [00:01<00:00,  1.20s/it, est. speed input: 1802.32 toks/s, output: 55.88 toks/s]\n",
      "Processed prompts: 100%|██████████| 1/1 [00:07<00:00,  7.90s/it, est. speed input: 525.62 toks/s, output: 61.64 toks/s]\n",
      "Processed prompts: 100%|██████████| 1/1 [00:07<00:00,  7.84s/it, est. speed input: 530.05 toks/s, output: 61.65 toks/s]\n",
      "Processed prompts: 100%|██████████| 1/1 [00:05<00:00,  5.93s/it, est. speed input: 324.48 toks/s, output: 62.60 toks/s]\n",
      "Processed prompts: 100%|██████████| 1/1 [00:05<00:00,  5.92s/it, est. speed input: 324.98 toks/s, output: 62.70 toks/s]\n",
      "Processed prompts: 100%|██████████| 1/1 [00:12<00:00, 12.96s/it, est. speed input: 367.32 toks/s, output: 62.26 toks/s]\n",
      "Processed prompts: 100%|██████████| 1/1 [00:12<00:00, 12.31s/it, est. speed input: 386.91 toks/s, output: 62.33 toks/s]\n",
      "Processed prompts: 100%|██████████| 1/1 [00:31<00:00, 31.44s/it, est. speed input: 117.92 toks/s, output: 63.62 toks/s]\n"
     ]
    },
    {
     "name": "stdout",
     "output_type": "stream",
     "text": [
      "Exception when parsing response from 8731374e: setting an array element with a sequence. The requested array has an inhomogeneous shape after 1 dimensions. The detected shape was (125,) + inhomogeneous part.\n"
     ]
    },
    {
     "name": "stderr",
     "output_type": "stream",
     "text": [
      "Processed prompts: 100%|██████████| 1/1 [00:03<00:00,  3.58s/it, est. speed input: 1037.13 toks/s, output: 59.03 toks/s]\n",
      "Processed prompts: 100%|██████████| 1/1 [00:03<00:00,  3.62s/it, est. speed input: 337.57 toks/s, output: 62.76 toks/s]\n",
      "Processed prompts: 100%|██████████| 1/1 [00:03<00:00,  3.31s/it, est. speed input: 368.54 toks/s, output: 62.48 toks/s]\n",
      "Processed prompts: 100%|██████████| 1/1 [00:00<00:00,  3.90it/s, est. speed input: 1398.70 toks/s, output: 58.76 toks/s]\n",
      "Processed prompts: 100%|██████████| 1/1 [00:00<00:00,  3.95it/s, est. speed input: 1417.65 toks/s, output: 59.56 toks/s]\n",
      "Processed prompts: 100%|██████████| 1/1 [00:14<00:00, 14.35s/it, est. speed input: 439.69 toks/s, output: 61.98 toks/s]\n",
      "Processed prompts: 100%|██████████| 1/1 [00:14<00:00, 14.39s/it, est. speed input: 438.46 toks/s, output: 61.80 toks/s]\n",
      "Processed prompts: 100%|██████████| 1/1 [00:04<00:00,  4.11s/it, est. speed input: 773.34 toks/s, output: 60.65 toks/s]\n",
      "Processed prompts: 100%|██████████| 1/1 [00:06<00:00,  6.88s/it, est. speed input: 461.58 toks/s, output: 62.08 toks/s]\n",
      "Processed prompts: 100%|██████████| 1/1 [00:00<00:00,  1.49it/s, est. speed input: 466.57 toks/s, output: 64.10 toks/s]\n",
      "Processed prompts: 100%|██████████| 1/1 [00:00<00:00,  1.49it/s, est. speed input: 466.26 toks/s, output: 64.05 toks/s]\n",
      "Processed prompts: 100%|██████████| 1/1 [00:01<00:00,  1.22s/it, est. speed input: 325.99 toks/s, output: 64.87 toks/s]\n",
      "Processed prompts: 100%|██████████| 1/1 [00:01<00:00,  1.22s/it, est. speed input: 325.98 toks/s, output: 64.87 toks/s]\n",
      "Processed prompts: 100%|██████████| 1/1 [00:03<00:00,  3.32s/it, est. speed input: 334.64 toks/s, output: 62.35 toks/s]\n",
      "Processed prompts: 100%|██████████| 1/1 [00:03<00:00,  3.31s/it, est. speed input: 336.09 toks/s, output: 62.62 toks/s]\n",
      "Processed prompts: 100%|██████████| 1/1 [00:00<00:00,  1.21it/s, est. speed input: 2483.66 toks/s, output: 52.22 toks/s]\n",
      "Processed prompts: 100%|██████████| 1/1 [00:01<00:00,  1.02s/it, est. speed input: 2004.12 toks/s, output: 53.90 toks/s]\n",
      "Processed prompts: 100%|██████████| 1/1 [00:01<00:00,  1.20s/it, est. speed input: 498.08 toks/s, output: 61.11 toks/s]\n",
      "Processed prompts: 100%|██████████| 1/1 [00:01<00:00,  1.18s/it, est. speed input: 505.86 toks/s, output: 62.06 toks/s]\n",
      "Processed prompts: 100%|██████████| 1/1 [00:05<00:00,  5.93s/it, est. speed input: 353.24 toks/s, output: 62.55 toks/s]\n",
      "Processed prompts: 100%|██████████| 1/1 [00:07<00:00,  7.63s/it, est. speed input: 274.47 toks/s, output: 48.61 toks/s]\n",
      "Processed prompts: 100%|██████████| 1/1 [00:05<00:00,  5.07s/it, est. speed input: 734.74 toks/s, output: 34.91 toks/s]\n",
      "Processed prompts: 100%|██████████| 1/1 [00:05<00:00,  5.19s/it, est. speed input: 718.03 toks/s, output: 34.12 toks/s]\n",
      "Processed prompts: 100%|██████████| 1/1 [00:04<00:00,  4.82s/it, est. speed input: 262.70 toks/s, output: 35.04 toks/s]\n",
      "Processed prompts: 100%|██████████| 1/1 [00:04<00:00,  4.83s/it, est. speed input: 262.13 toks/s, output: 34.96 toks/s]\n",
      "Processed prompts: 100%|██████████| 1/1 [00:00<00:00,  1.42it/s, est. speed input: 5275.57 toks/s, output: 21.39 toks/s]\n",
      "Processed prompts: 100%|██████████| 1/1 [00:00<00:00,  1.23it/s, est. speed input: 4545.20 toks/s, output: 23.35 toks/s]\n",
      "Processed prompts: 100%|██████████| 1/1 [00:06<00:00,  6.28s/it, est. speed input: 355.82 toks/s, output: 48.92 toks/s]\n",
      "Processed prompts: 100%|██████████| 1/1 [00:06<00:00,  6.14s/it, est. speed input: 363.98 toks/s, output: 50.04 toks/s]\n",
      "Processed prompts: 100%|██████████| 1/1 [00:08<00:00,  8.31s/it, est. speed input: 307.67 toks/s, output: 62.50 toks/s]\n",
      "Processed prompts: 100%|██████████| 1/1 [00:08<00:00,  8.30s/it, est. speed input: 307.79 toks/s, output: 62.52 toks/s]\n",
      "Processed prompts: 100%|██████████| 1/1 [00:31<00:00, 31.30s/it, est. speed input: 57.29 toks/s, output: 63.90 toks/s]\n",
      "Processed prompts: 100%|██████████| 1/1 [00:31<00:00, 31.31s/it, est. speed input: 57.27 toks/s, output: 63.88 toks/s]\n",
      "Processed prompts: 100%|██████████| 1/1 [00:08<00:00,  8.41s/it, est. speed input: 441.98 toks/s, output: 61.71 toks/s]\n",
      "Processed prompts: 100%|██████████| 1/1 [00:08<00:00,  8.38s/it, est. speed input: 443.59 toks/s, output: 61.94 toks/s]\n",
      "Processed prompts: 100%|██████████| 1/1 [00:02<00:00,  2.66s/it, est. speed input: 183.92 toks/s, output: 63.56 toks/s]\n",
      "Processed prompts: 100%|██████████| 1/1 [00:02<00:00,  2.66s/it, est. speed input: 183.93 toks/s, output: 63.57 toks/s]\n",
      "Processed prompts: 100%|██████████| 1/1 [00:07<00:00,  7.35s/it, est. speed input: 384.55 toks/s, output: 62.16 toks/s]\n",
      "Processed prompts: 100%|██████████| 1/1 [00:07<00:00,  7.39s/it, est. speed input: 382.43 toks/s, output: 61.82 toks/s]\n",
      "Processed prompts: 100%|██████████| 1/1 [00:01<00:00,  1.28s/it, est. speed input: 499.78 toks/s, output: 61.98 toks/s]\n",
      "Processed prompts: 100%|██████████| 1/1 [00:01<00:00,  1.28s/it, est. speed input: 499.46 toks/s, output: 61.94 toks/s]\n",
      "Processed prompts: 100%|██████████| 1/1 [00:03<00:00,  3.36s/it, est. speed input: 456.21 toks/s, output: 61.60 toks/s]\n",
      "Processed prompts: 100%|██████████| 1/1 [00:03<00:00,  3.35s/it, est. speed input: 458.39 toks/s, output: 61.90 toks/s]\n",
      "Processed prompts: 100%|██████████| 1/1 [00:00<00:00,  1.54it/s, est. speed input: 929.80 toks/s, output: 60.13 toks/s]\n",
      "Processed prompts: 100%|██████████| 1/1 [00:00<00:00,  1.53it/s, est. speed input: 926.23 toks/s, output: 59.90 toks/s]\n",
      "Processed prompts: 100%|██████████| 1/1 [00:03<00:00,  3.35s/it, est. speed input: 457.67 toks/s, output: 61.80 toks/s]\n",
      "Processed prompts: 100%|██████████| 1/1 [00:03<00:00,  3.36s/it, est. speed input: 457.00 toks/s, output: 61.71 toks/s]\n",
      "Processed prompts: 100%|██████████| 1/1 [00:00<00:00,  2.49it/s, est. speed input: 792.92 toks/s, output: 62.53 toks/s]\n",
      "Processed prompts: 100%|██████████| 1/1 [00:00<00:00,  2.46it/s, est. speed input: 781.59 toks/s, output: 61.64 toks/s]\n",
      "Processed prompts: 100%|██████████| 1/1 [00:07<00:00,  7.30s/it, est. speed input: 312.85 toks/s, output: 62.62 toks/s]\n",
      "Processed prompts: 100%|██████████| 1/1 [00:07<00:00,  7.36s/it, est. speed input: 310.45 toks/s, output: 62.14 toks/s]\n",
      "Processed prompts: 100%|██████████| 1/1 [00:02<00:00,  2.83s/it, est. speed input: 302.10 toks/s, output: 62.69 toks/s]\n",
      "Processed prompts: 100%|██████████| 1/1 [00:31<00:00, 31.23s/it, est. speed input: 27.31 toks/s, output: 64.04 toks/s]\n",
      " 58%|█████▊    | 231/400 [36:47<45:10, 16.04s/it]"
     ]
    },
    {
     "name": "stdout",
     "output_type": "stream",
     "text": [
      "Exception when parsing response from 963e52fc: setting an array element with a sequence. The requested array has an inhomogeneous shape after 1 dimensions. The detected shape was (200,) + inhomogeneous part.\n"
     ]
    },
    {
     "name": "stderr",
     "output_type": "stream",
     "text": [
      "Processed prompts: 100%|██████████| 1/1 [00:02<00:00,  2.47s/it, est. speed input: 527.81 toks/s, output: 61.26 toks/s]\n",
      "Processed prompts: 100%|██████████| 1/1 [00:02<00:00,  2.48s/it, est. speed input: 525.37 toks/s, output: 60.98 toks/s]\n",
      "Processed prompts: 100%|██████████| 1/1 [00:06<00:00,  6.95s/it, est. speed input: 430.95 toks/s, output: 61.44 toks/s]\n",
      "Processed prompts: 100%|██████████| 1/1 [00:03<00:00,  3.99s/it, est. speed input: 751.64 toks/s, output: 60.48 toks/s]\n",
      "Processed prompts: 100%|██████████| 1/1 [00:06<00:00,  6.78s/it, est. speed input: 526.91 toks/s, output: 61.27 toks/s]\n",
      "Processed prompts: 100%|██████████| 1/1 [00:06<00:00,  6.75s/it, est. speed input: 529.00 toks/s, output: 61.51 toks/s]\n",
      "Processed prompts: 100%|██████████| 1/1 [00:00<00:00,  2.20it/s, est. speed input: 1733.20 toks/s, output: 55.06 toks/s]\n",
      "Processed prompts: 100%|██████████| 1/1 [00:00<00:00,  2.22it/s, est. speed input: 1749.40 toks/s, output: 55.57 toks/s]\n",
      "Processed prompts: 100%|██████████| 1/1 [00:00<00:00,  1.51it/s, est. speed input: 972.59 toks/s, output: 58.99 toks/s]\n",
      "Processed prompts: 100%|██████████| 1/1 [00:00<00:00,  1.48it/s, est. speed input: 955.68 toks/s, output: 57.96 toks/s]\n",
      "Processed prompts: 100%|██████████| 1/1 [00:01<00:00,  1.93s/it, est. speed input: 379.23 toks/s, output: 61.73 toks/s]\n",
      "Processed prompts: 100%|██████████| 1/1 [00:01<00:00,  1.92s/it, est. speed input: 381.72 toks/s, output: 62.14 toks/s]\n",
      "Processed prompts: 100%|██████████| 1/1 [00:01<00:00,  1.41s/it, est. speed input: 1568.72 toks/s, output: 55.90 toks/s]\n",
      "Processed prompts: 100%|██████████| 1/1 [00:02<00:00,  2.16s/it, est. speed input: 1025.38 toks/s, output: 58.74 toks/s]\n",
      "Processed prompts: 100%|██████████| 1/1 [00:00<00:00,  1.17it/s, est. speed input: 504.98 toks/s, output: 64.44 toks/s]\n",
      "Processed prompts: 100%|██████████| 1/1 [00:00<00:00,  1.36it/s, est. speed input: 589.03 toks/s, output: 64.23 toks/s]\n",
      "Processed prompts: 100%|██████████| 1/1 [00:11<00:00, 11.20s/it, est. speed input: 463.14 toks/s, output: 61.70 toks/s]\n",
      "Processed prompts: 100%|██████████| 1/1 [00:12<00:00, 12.39s/it, est. speed input: 418.57 toks/s, output: 61.89 toks/s]\n",
      "Processed prompts: 100%|██████████| 1/1 [00:01<00:00,  1.22s/it, est. speed input: 331.15 toks/s, output: 64.59 toks/s]\n",
      "Processed prompts: 100%|██████████| 1/1 [00:01<00:00,  1.22s/it, est. speed input: 331.75 toks/s, output: 64.71 toks/s]\n",
      "Processed prompts: 100%|██████████| 1/1 [00:00<00:00,  1.75it/s, est. speed input: 3913.07 toks/s, output: 43.77 toks/s]\n",
      "Processed prompts: 100%|██████████| 1/1 [00:00<00:00,  1.75it/s, est. speed input: 3914.65 toks/s, output: 43.79 toks/s]\n",
      "Processed prompts: 100%|██████████| 1/1 [00:08<00:00,  8.33s/it, est. speed input: 389.76 toks/s, output: 62.34 toks/s]\n",
      "Processed prompts: 100%|██████████| 1/1 [00:08<00:00,  8.34s/it, est. speed input: 389.05 toks/s, output: 62.22 toks/s]\n",
      "Processed prompts: 100%|██████████| 1/1 [00:00<00:00,  1.60it/s, est. speed input: 4749.81 toks/s, output: 40.13 toks/s]\n",
      "Processed prompts: 100%|██████████| 1/1 [00:00<00:00,  1.61it/s, est. speed input: 4784.66 toks/s, output: 40.42 toks/s]\n",
      "Processed prompts: 100%|██████████| 1/1 [00:02<00:00,  2.72s/it, est. speed input: 545.09 toks/s, output: 61.38 toks/s]\n",
      "Processed prompts: 100%|██████████| 1/1 [00:03<00:00,  3.04s/it, est. speed input: 488.18 toks/s, output: 61.56 toks/s]\n",
      "Processed prompts: 100%|██████████| 1/1 [00:05<00:00,  5.56s/it, est. speed input: 482.60 toks/s, output: 61.74 toks/s]\n",
      "Processed prompts: 100%|██████████| 1/1 [00:05<00:00,  5.56s/it, est. speed input: 482.01 toks/s, output: 61.67 toks/s]\n",
      "Processed prompts: 100%|██████████| 1/1 [00:00<00:00,  2.71it/s, est. speed input: 4646.55 toks/s, output: 40.73 toks/s]\n",
      "Processed prompts: 100%|██████████| 1/1 [00:00<00:00,  1.61it/s, est. speed input: 2765.13 toks/s, output: 50.10 toks/s]\n",
      "Processed prompts: 100%|██████████| 1/1 [00:01<00:00,  1.71s/it, est. speed input: 346.13 toks/s, output: 62.45 toks/s]\n",
      "Processed prompts: 100%|██████████| 1/1 [00:01<00:00,  1.71s/it, est. speed input: 347.74 toks/s, output: 62.74 toks/s]\n",
      "Processed prompts: 100%|██████████| 1/1 [00:01<00:00,  1.34s/it, est. speed input: 295.02 toks/s, output: 64.98 toks/s]\n",
      "Processed prompts: 100%|██████████| 1/1 [00:01<00:00,  1.34s/it, est. speed input: 295.37 toks/s, output: 65.05 toks/s]\n",
      "Processed prompts: 100%|██████████| 1/1 [00:03<00:00,  3.31s/it, est. speed input: 335.61 toks/s, output: 62.53 toks/s]\n",
      "Processed prompts: 100%|██████████| 1/1 [00:03<00:00,  3.32s/it, est. speed input: 334.76 toks/s, output: 62.37 toks/s]\n",
      "Processed prompts: 100%|██████████| 1/1 [00:02<00:00,  2.74s/it, est. speed input: 504.97 toks/s, output: 61.71 toks/s]\n",
      "Processed prompts: 100%|██████████| 1/1 [00:02<00:00,  2.75s/it, est. speed input: 503.52 toks/s, output: 61.53 toks/s]\n",
      "Processed prompts: 100%|██████████| 1/1 [00:04<00:00,  4.67s/it, est. speed input: 183.42 toks/s, output: 63.14 toks/s]\n",
      "Processed prompts: 100%|██████████| 1/1 [00:05<00:00,  5.05s/it, est. speed input: 169.67 toks/s, output: 63.16 toks/s]\n",
      "Processed prompts: 100%|██████████| 1/1 [00:00<00:00,  1.43it/s, est. speed input: 1709.41 toks/s, output: 56.07 toks/s]\n",
      "Processed prompts: 100%|██████████| 1/1 [00:00<00:00,  1.44it/s, est. speed input: 1711.50 toks/s, output: 56.14 toks/s]\n",
      "Processed prompts: 100%|██████████| 1/1 [00:02<00:00,  2.71s/it, est. speed input: 340.28 toks/s, output: 62.44 toks/s]\n",
      "Processed prompts: 100%|██████████| 1/1 [00:02<00:00,  2.72s/it, est. speed input: 339.32 toks/s, output: 62.26 toks/s]\n",
      " 64%|██████▎   | 254/400 [39:06<12:29,  5.13s/it]"
     ]
    },
    {
     "name": "stdout",
     "output_type": "stream",
     "text": [
      "WARNING 01-14 08:24:28 scheduler.py:761] Input prompt (12733 tokens) is too long and exceeds limit of 8192\n"
     ]
    },
    {
     "name": "stderr",
     "output_type": "stream",
     "text": [
      "Processed prompts: 100%|██████████| 1/1 [00:00<00:00, 1337.04it/s, est. speed input: 18785111.79 toks/s, output: 0.00 toks/s]\n"
     ]
    },
    {
     "name": "stdout",
     "output_type": "stream",
     "text": [
      "Exception when parsing response from a64e4611: list index out of range\n"
     ]
    },
    {
     "name": "stderr",
     "output_type": "stream",
     "text": []
    },
    {
     "name": "stdout",
     "output_type": "stream",
     "text": [
      "WARNING 01-14 08:24:28 scheduler.py:761] Input prompt (12733 tokens) is too long and exceeds limit of 8192\n"
     ]
    },
    {
     "name": "stderr",
     "output_type": "stream",
     "text": [
      "Processed prompts: 100%|██████████| 1/1 [00:00<00:00, 1961.79it/s, est. speed input: 28899390.06 toks/s, output: 0.00 toks/s]\n"
     ]
    },
    {
     "name": "stdout",
     "output_type": "stream",
     "text": [
      "Exception when parsing response from a64e4611: list index out of range\n"
     ]
    },
    {
     "name": "stderr",
     "output_type": "stream",
     "text": [
      "Processed prompts: 100%|██████████| 1/1 [00:02<00:00,  2.71s/it, est. speed input: 380.15 toks/s, output: 62.31 toks/s]\n",
      "Processed prompts: 100%|██████████| 1/1 [00:02<00:00,  2.73s/it, est. speed input: 377.99 toks/s, output: 61.96 toks/s]\n",
      "Processed prompts: 100%|██████████| 1/1 [00:00<00:00,  1.37it/s, est. speed input: 2089.66 toks/s, output: 53.44 toks/s]\n",
      "Processed prompts: 100%|██████████| 1/1 [00:00<00:00,  1.37it/s, est. speed input: 2089.00 toks/s, output: 53.42 toks/s]\n",
      "Processed prompts: 100%|██████████| 1/1 [00:03<00:00,  3.33s/it, est. speed input: 370.30 toks/s, output: 62.17 toks/s]\n",
      "Processed prompts: 100%|██████████| 1/1 [00:03<00:00,  3.32s/it, est. speed input: 371.92 toks/s, output: 62.44 toks/s]\n",
      "Processed prompts: 100%|██████████| 1/1 [00:00<00:00,  3.08it/s, est. speed input: 1542.28 toks/s, output: 58.72 toks/s]\n",
      "Processed prompts: 100%|██████████| 1/1 [00:00<00:00,  3.84it/s, est. speed input: 1923.29 toks/s, output: 57.81 toks/s]\n",
      "Processed prompts: 100%|██████████| 1/1 [00:03<00:00,  3.33s/it, est. speed input: 460.02 toks/s, output: 62.12 toks/s]\n",
      "Processed prompts: 100%|██████████| 1/1 [00:03<00:00,  3.34s/it, est. speed input: 459.26 toks/s, output: 62.01 toks/s]\n",
      "Processed prompts: 100%|██████████| 1/1 [00:00<00:00,  1.12it/s, est. speed input: 470.92 toks/s, output: 64.06 toks/s]\n",
      "Processed prompts: 100%|██████████| 1/1 [00:00<00:00,  1.13it/s, est. speed input: 472.09 toks/s, output: 64.22 toks/s]\n",
      "Processed prompts: 100%|██████████| 1/1 [00:00<00:00,  2.48it/s, est. speed input: 788.74 toks/s, output: 62.20 toks/s]\n",
      "Processed prompts: 100%|██████████| 1/1 [00:00<00:00,  2.48it/s, est. speed input: 788.32 toks/s, output: 62.17 toks/s]\n",
      "Processed prompts: 100%|██████████| 1/1 [00:00<00:00,  2.32it/s, est. speed input: 1407.11 toks/s, output: 58.14 toks/s]\n",
      "Processed prompts: 100%|██████████| 1/1 [00:00<00:00,  2.29it/s, est. speed input: 1391.59 toks/s, output: 57.50 toks/s]\n",
      "Processed prompts: 100%|██████████| 1/1 [00:02<00:00,  2.77s/it, est. speed input: 633.60 toks/s, output: 61.01 toks/s]\n",
      "Processed prompts: 100%|██████████| 1/1 [00:04<00:00,  4.16s/it, est. speed input: 421.79 toks/s, output: 62.25 toks/s]\n",
      "Processed prompts: 100%|██████████| 1/1 [00:10<00:00, 10.60s/it, est. speed input: 440.33 toks/s, output: 61.77 toks/s]\n",
      "Processed prompts: 100%|██████████| 1/1 [00:10<00:00, 10.60s/it, est. speed input: 440.48 toks/s, output: 61.79 toks/s]\n",
      "Processed prompts: 100%|██████████| 1/1 [00:00<00:00,  1.70it/s, est. speed input: 723.13 toks/s, output: 62.95 toks/s]\n",
      "Processed prompts: 100%|██████████| 1/1 [00:00<00:00,  1.71it/s, est. speed input: 728.05 toks/s, output: 63.38 toks/s]\n",
      "Processed prompts: 100%|██████████| 1/1 [00:01<00:00,  1.68s/it, est. speed input: 358.46 toks/s, output: 62.63 toks/s]\n",
      "Processed prompts: 100%|██████████| 1/1 [00:01<00:00,  1.67s/it, est. speed input: 360.04 toks/s, output: 62.90 toks/s]\n",
      "Processed prompts: 100%|██████████| 1/1 [00:03<00:00,  3.28s/it, est. speed input: 303.68 toks/s, output: 63.05 toks/s]\n",
      "Processed prompts: 100%|██████████| 1/1 [00:03<00:00,  3.32s/it, est. speed input: 300.86 toks/s, output: 62.46 toks/s]\n",
      "Processed prompts: 100%|██████████| 1/1 [00:04<00:00,  4.08s/it, est. speed input: 217.91 toks/s, output: 63.48 toks/s]\n"
     ]
    },
    {
     "name": "stdout",
     "output_type": "stream",
     "text": [
      "Exception when parsing response from ac0a08a4: setting an array element with a sequence. The requested array has an inhomogeneous shape after 1 dimensions. The detected shape was (10,) + inhomogeneous part.\n"
     ]
    },
    {
     "name": "stderr",
     "output_type": "stream",
     "text": [
      "Processed prompts: 100%|██████████| 1/1 [00:08<00:00,  8.76s/it, est. speed input: 101.50 toks/s, output: 63.59 toks/s]\n",
      " 67%|██████▋   | 269/400 [40:22<17:24,  7.98s/it]"
     ]
    },
    {
     "name": "stdout",
     "output_type": "stream",
     "text": [
      "Exception when parsing response from ac0a08a4: setting an array element with a sequence. The requested array has an inhomogeneous shape after 1 dimensions. The detected shape was (16,) + inhomogeneous part.\n"
     ]
    },
    {
     "name": "stderr",
     "output_type": "stream",
     "text": [
      "Processed prompts: 100%|██████████| 1/1 [00:07<00:00,  7.35s/it, est. speed input: 447.05 toks/s, output: 62.23 toks/s]\n",
      "Processed prompts: 100%|██████████| 1/1 [00:07<00:00,  7.41s/it, est. speed input: 443.02 toks/s, output: 61.67 toks/s]\n",
      "Processed prompts: 100%|██████████| 1/1 [00:00<00:00,  2.11it/s, est. speed input: 2198.25 toks/s, output: 52.99 toks/s]\n",
      "Processed prompts: 100%|██████████| 1/1 [00:00<00:00,  2.13it/s, est. speed input: 2217.61 toks/s, output: 53.46 toks/s]\n",
      "Processed prompts: 100%|██████████| 1/1 [00:00<00:00,  1.35it/s, est. speed input: 557.41 toks/s, output: 63.74 toks/s]\n",
      "Processed prompts: 100%|██████████| 1/1 [00:00<00:00,  1.35it/s, est. speed input: 557.12 toks/s, output: 63.71 toks/s]\n",
      "Processed prompts: 100%|██████████| 1/1 [00:03<00:00,  3.34s/it, est. speed input: 458.59 toks/s, output: 61.92 toks/s]\n",
      "Processed prompts: 100%|██████████| 1/1 [00:03<00:00,  3.34s/it, est. speed input: 459.06 toks/s, output: 61.99 toks/s]\n",
      "Processed prompts: 100%|██████████| 1/1 [00:00<00:00,  2.10it/s, est. speed input: 2492.53 toks/s, output: 52.58 toks/s]\n",
      "Processed prompts: 100%|██████████| 1/1 [00:00<00:00,  2.07it/s, est. speed input: 2466.76 toks/s, output: 52.04 toks/s]\n",
      "Processed prompts: 100%|██████████| 1/1 [00:31<00:00, 31.75s/it, est. speed input: 36.82 toks/s, output: 62.99 toks/s]\n",
      "Processed prompts: 100%|██████████| 1/1 [00:31<00:00, 31.32s/it, est. speed input: 37.33 toks/s, output: 63.86 toks/s]\n",
      "Processed prompts: 100%|██████████| 1/1 [00:00<00:00,  1.61it/s, est. speed input: 613.32 toks/s, output: 62.78 toks/s]\n",
      "Processed prompts: 100%|██████████| 1/1 [00:00<00:00,  1.61it/s, est. speed input: 614.45 toks/s, output: 62.90 toks/s]\n",
      "Processed prompts: 100%|██████████| 1/1 [00:03<00:00,  3.37s/it, est. speed input: 454.95 toks/s, output: 61.43 toks/s]\n",
      "Processed prompts: 100%|██████████| 1/1 [00:03<00:00,  3.37s/it, est. speed input: 455.71 toks/s, output: 61.53 toks/s]\n",
      "Processed prompts: 100%|██████████| 1/1 [00:08<00:00,  8.80s/it, est. speed input: 306.26 toks/s, output: 62.62 toks/s]\n",
      "Processed prompts: 100%|██████████| 1/1 [00:08<00:00,  8.30s/it, est. speed input: 324.82 toks/s, output: 62.31 toks/s]\n",
      "Processed prompts: 100%|██████████| 1/1 [00:07<00:00,  7.76s/it, est. speed input: 389.67 toks/s, output: 62.77 toks/s]\n",
      "Processed prompts: 100%|██████████| 1/1 [00:07<00:00,  7.81s/it, est. speed input: 386.94 toks/s, output: 62.34 toks/s]\n",
      "Processed prompts: 100%|██████████| 1/1 [00:13<00:00, 13.20s/it, est. speed input: 466.20 toks/s, output: 61.12 toks/s]\n",
      "Processed prompts: 100%|██████████| 1/1 [00:13<00:00, 13.30s/it, est. speed input: 462.74 toks/s, output: 60.67 toks/s]\n",
      "Processed prompts: 100%|██████████| 1/1 [00:05<00:00,  5.25s/it, est. speed input: 393.47 toks/s, output: 60.84 toks/s]\n",
      "Processed prompts: 100%|██████████| 1/1 [00:06<00:00,  6.58s/it, est. speed input: 313.81 toks/s, output: 52.48 toks/s]\n",
      "Processed prompts: 100%|██████████| 1/1 [00:03<00:00,  3.13s/it, est. speed input: 294.11 toks/s, output: 53.97 toks/s]\n",
      "Processed prompts: 100%|██████████| 1/1 [00:03<00:00,  3.09s/it, est. speed input: 298.27 toks/s, output: 54.73 toks/s]\n",
      "Processed prompts: 100%|██████████| 1/1 [00:03<00:00,  3.79s/it, est. speed input: 293.59 toks/s, output: 54.70 toks/s]\n",
      "Processed prompts: 100%|██████████| 1/1 [00:03<00:00,  3.83s/it, est. speed input: 290.07 toks/s, output: 54.04 toks/s]\n",
      "Processed prompts: 100%|██████████| 1/1 [00:06<00:00,  6.45s/it, est. speed input: 353.10 toks/s, output: 54.17 toks/s]\n",
      "Processed prompts: 100%|██████████| 1/1 [00:07<00:00,  7.77s/it, est. speed input: 293.01 toks/s, output: 54.74 toks/s]\n",
      "Processed prompts: 100%|██████████| 1/1 [00:16<00:00, 16.59s/it, est. speed input: 438.18 toks/s, output: 55.70 toks/s]\n"
     ]
    },
    {
     "name": "stdout",
     "output_type": "stream",
     "text": [
      "Exception when parsing response from b775ac94: setting an array element with a sequence. The requested array has an inhomogeneous shape after 1 dimensions. The detected shape was (20,) + inhomogeneous part.\n"
     ]
    },
    {
     "name": "stderr",
     "output_type": "stream",
     "text": [
      "Processed prompts: 100%|██████████| 1/1 [00:15<00:00, 15.03s/it, est. speed input: 483.97 toks/s, output: 61.52 toks/s]\n",
      " 71%|███████▏  | 285/400 [44:09<34:48, 18.16s/it]"
     ]
    },
    {
     "name": "stdout",
     "output_type": "stream",
     "text": [
      "Exception when parsing response from b775ac94: setting an array element with a sequence. The requested array has an inhomogeneous shape after 1 dimensions. The detected shape was (20,) + inhomogeneous part.\n"
     ]
    },
    {
     "name": "stderr",
     "output_type": "stream",
     "text": [
      "Processed prompts: 100%|██████████| 1/1 [00:07<00:00,  7.49s/it, est. speed input: 313.06 toks/s, output: 61.01 toks/s]\n",
      "Processed prompts: 100%|██████████| 1/1 [00:07<00:00,  7.39s/it, est. speed input: 317.31 toks/s, output: 61.84 toks/s]\n",
      "Processed prompts: 100%|██████████| 1/1 [00:08<00:00,  8.59s/it, est. speed input: 554.51 toks/s, output: 60.42 toks/s]\n",
      "Processed prompts: 100%|██████████| 1/1 [00:08<00:00,  8.50s/it, est. speed input: 560.38 toks/s, output: 61.06 toks/s]\n",
      "Processed prompts: 100%|██████████| 1/1 [00:02<00:00,  2.71s/it, est. speed input: 276.79 toks/s, output: 62.45 toks/s]\n",
      "Processed prompts: 100%|██████████| 1/1 [00:02<00:00,  2.64s/it, est. speed input: 283.93 toks/s, output: 62.55 toks/s]\n",
      " 72%|███████▏  | 288/400 [44:46<25:25, 13.62s/it]"
     ]
    },
    {
     "name": "stdout",
     "output_type": "stream",
     "text": [
      "Exception when parsing response from b8cdaf2b: setting an array element with a sequence. The requested array has an inhomogeneous shape after 1 dimensions. The detected shape was (9,) + inhomogeneous part.\n"
     ]
    },
    {
     "name": "stderr",
     "output_type": "stream",
     "text": [
      "Processed prompts: 100%|██████████| 1/1 [00:02<00:00,  2.99s/it, est. speed input: 347.84 toks/s, output: 62.48 toks/s]\n",
      "Processed prompts: 100%|██████████| 1/1 [00:03<00:00,  3.01s/it, est. speed input: 346.02 toks/s, output: 62.16 toks/s]\n",
      "Processed prompts: 100%|██████████| 1/1 [00:00<00:00,  1.67it/s, est. speed input: 2490.22 toks/s, output: 51.98 toks/s]\n",
      "Processed prompts: 100%|██████████| 1/1 [00:00<00:00,  1.39it/s, est. speed input: 2062.90 toks/s, output: 54.18 toks/s]\n",
      "Processed prompts: 100%|██████████| 1/1 [00:00<00:00,  3.43it/s, est. speed input: 6896.40 toks/s, output: 30.99 toks/s]\n",
      "Processed prompts: 100%|██████████| 1/1 [00:00<00:00,  3.41it/s, est. speed input: 6856.56 toks/s, output: 30.81 toks/s]\n",
      "Processed prompts: 100%|██████████| 1/1 [00:01<00:00,  1.77s/it, est. speed input: 557.94 toks/s, output: 61.62 toks/s]\n",
      "Processed prompts: 100%|██████████| 1/1 [00:01<00:00,  1.95s/it, est. speed input: 505.51 toks/s, output: 61.97 toks/s]\n",
      "Processed prompts: 100%|██████████| 1/1 [00:02<00:00,  2.30s/it, est. speed input: 710.16 toks/s, output: 60.52 toks/s]\n",
      "Processed prompts: 100%|██████████| 1/1 [00:02<00:00,  2.29s/it, est. speed input: 713.20 toks/s, output: 60.78 toks/s]\n",
      "Processed prompts: 100%|██████████| 1/1 [00:03<00:00,  3.31s/it, est. speed input: 336.02 toks/s, output: 62.61 toks/s]\n",
      "Processed prompts: 100%|██████████| 1/1 [00:03<00:00,  3.32s/it, est. speed input: 335.15 toks/s, output: 62.45 toks/s]\n",
      "Processed prompts: 100%|██████████| 1/1 [00:01<00:00,  1.64s/it, est. speed input: 332.43 toks/s, output: 62.83 toks/s]\n",
      "Processed prompts: 100%|██████████| 1/1 [00:01<00:00,  1.63s/it, est. speed input: 334.70 toks/s, output: 63.26 toks/s]\n",
      "Processed prompts: 100%|██████████| 1/1 [00:00<00:00,  2.20it/s, est. speed input: 1515.46 toks/s, output: 55.15 toks/s]\n",
      "Processed prompts: 100%|██████████| 1/1 [00:00<00:00,  2.83it/s, est. speed input: 1953.16 toks/s, output: 54.02 toks/s]\n",
      "Processed prompts: 100%|██████████| 1/1 [00:01<00:00,  1.85s/it, est. speed input: 301.14 toks/s, output: 63.25 toks/s]\n",
      "Processed prompts: 100%|██████████| 1/1 [00:02<00:00,  2.02s/it, est. speed input: 276.45 toks/s, output: 63.03 toks/s]\n",
      "Processed prompts: 100%|██████████| 2/2 [00:02<00:00,  1.05s/it, est. speed input: 740.79 toks/s, output: 96.29 toks/s]\n"
     ]
    },
    {
     "name": "stdout",
     "output_type": "stream",
     "text": [
      "Exception when parsing response from bda2d7a6: setting an array element with a sequence. The requested array has an inhomogeneous shape after 1 dimensions. The detected shape was (8,) + inhomogeneous part.\n"
     ]
    },
    {
     "name": "stderr",
     "output_type": "stream",
     "text": [
      "Processed prompts: 100%|██████████| 2/2 [00:02<00:00,  1.03s/it, est. speed input: 751.93 toks/s, output: 97.74 toks/s]\n",
      " 74%|███████▍  | 298/400 [45:22<06:33,  3.86s/it]"
     ]
    },
    {
     "name": "stdout",
     "output_type": "stream",
     "text": [
      "Exception when parsing response from bda2d7a6: setting an array element with a sequence. The requested array has an inhomogeneous shape after 1 dimensions. The detected shape was (8,) + inhomogeneous part.\n"
     ]
    },
    {
     "name": "stderr",
     "output_type": "stream",
     "text": [
      "Processed prompts: 100%|██████████| 1/1 [00:01<00:00,  1.24s/it, est. speed input: 378.95 toks/s, output: 63.56 toks/s]\n",
      "Processed prompts: 100%|██████████| 1/1 [00:01<00:00,  1.25s/it, est. speed input: 377.13 toks/s, output: 63.25 toks/s]\n",
      "Processed prompts: 100%|██████████| 1/1 [00:00<00:00,  2.14it/s, est. speed input: 2006.94 toks/s, output: 53.66 toks/s]\n",
      "Processed prompts: 100%|██████████| 1/1 [00:00<00:00,  2.15it/s, est. speed input: 2019.44 toks/s, output: 53.99 toks/s]\n",
      "Processed prompts: 100%|██████████| 1/1 [00:02<00:00,  2.69s/it, est. speed input: 274.52 toks/s, output: 62.20 toks/s]\n",
      "Processed prompts: 100%|██████████| 1/1 [00:02<00:00,  2.92s/it, est. speed input: 252.49 toks/s, output: 62.69 toks/s]\n",
      "Processed prompts: 100%|██████████| 1/1 [00:04<00:00,  4.78s/it, est. speed input: 450.17 toks/s, output: 61.80 toks/s]\n",
      "Processed prompts: 100%|██████████| 1/1 [00:04<00:00,  4.81s/it, est. speed input: 446.96 toks/s, output: 61.35 toks/s]\n",
      "Processed prompts: 100%|██████████| 1/1 [00:14<00:00, 14.64s/it, est. speed input: 279.26 toks/s, output: 61.98 toks/s]\n",
      "Processed prompts: 100%|██████████| 1/1 [00:19<00:00, 19.21s/it, est. speed input: 212.83 toks/s, output: 56.60 toks/s]\n",
      "Processed prompts: 100%|██████████| 1/1 [00:02<00:00,  2.68s/it, est. speed input: 257.85 toks/s, output: 63.06 toks/s]\n",
      "Processed prompts: 100%|██████████| 1/1 [00:02<00:00,  2.69s/it, est. speed input: 256.83 toks/s, output: 62.81 toks/s]\n",
      "Processed prompts: 100%|██████████| 1/1 [00:09<00:00,  9.77s/it, est. speed input: 380.47 toks/s, output: 53.12 toks/s]\n",
      "Processed prompts: 100%|██████████| 1/1 [00:08<00:00,  8.80s/it, est. speed input: 422.34 toks/s, output: 58.97 toks/s]\n",
      "Processed prompts: 100%|██████████| 1/1 [00:18<00:00, 18.27s/it, est. speed input: 182.87 toks/s, output: 57.53 toks/s]\n",
      "Processed prompts: 100%|██████████| 1/1 [00:17<00:00, 17.02s/it, est. speed input: 196.34 toks/s, output: 62.94 toks/s]\n",
      "Processed prompts: 100%|██████████| 1/1 [00:02<00:00,  2.48s/it, est. speed input: 190.81 toks/s, output: 60.91 toks/s]\n",
      "Processed prompts: 100%|██████████| 1/1 [00:01<00:00,  1.81s/it, est. speed input: 262.23 toks/s, output: 63.75 toks/s]\n",
      "Processed prompts: 100%|██████████| 1/1 [00:00<00:00,  1.24it/s, est. speed input: 2098.59 toks/s, output: 53.24 toks/s]\n",
      "Processed prompts: 100%|██████████| 1/1 [00:01<00:00,  1.08s/it, est. speed input: 1576.72 toks/s, output: 53.02 toks/s]\n",
      "Processed prompts: 100%|██████████| 1/1 [00:00<00:00,  1.39it/s, est. speed input: 478.79 toks/s, output: 51.65 toks/s]\n",
      "Processed prompts: 100%|██████████| 1/1 [00:00<00:00,  1.49it/s, est. speed input: 513.28 toks/s, output: 55.37 toks/s]\n",
      "Processed prompts: 100%|██████████| 1/1 [00:01<00:00,  1.79s/it, est. speed input: 3163.45 toks/s, output: 43.10 toks/s]\n",
      "Processed prompts: 100%|██████████| 1/1 [00:02<00:00,  2.43s/it, est. speed input: 2325.86 toks/s, output: 43.22 toks/s]\n",
      "Processed prompts: 100%|██████████| 1/1 [00:00<00:00,  1.26it/s, est. speed input: 396.32 toks/s, output: 54.45 toks/s]\n",
      "Processed prompts: 100%|██████████| 1/1 [00:00<00:00,  1.27it/s, est. speed input: 397.58 toks/s, output: 54.62 toks/s]\n",
      "Processed prompts: 100%|██████████| 1/1 [00:05<00:00,  5.77s/it, est. speed input: 268.74 toks/s, output: 51.11 toks/s]\n",
      "Processed prompts: 100%|██████████| 1/1 [00:05<00:00,  5.37s/it, est. speed input: 288.65 toks/s, output: 54.90 toks/s]\n",
      "Processed prompts: 100%|██████████| 1/1 [00:08<00:00,  8.63s/it, est. speed input: 192.87 toks/s, output: 55.02 toks/s]\n",
      "Processed prompts: 100%|██████████| 1/1 [00:09<00:00,  9.85s/it, est. speed input: 168.99 toks/s, output: 55.52 toks/s]\n",
      "Processed prompts: 100%|██████████| 1/1 [00:02<00:00,  2.17s/it, est. speed input: 473.52 toks/s, output: 62.12 toks/s]\n",
      "Processed prompts: 100%|██████████| 1/1 [00:02<00:00,  2.17s/it, est. speed input: 475.34 toks/s, output: 62.36 toks/s]\n",
      "Processed prompts: 100%|██████████| 1/1 [00:02<00:00,  2.69s/it, est. speed input: 257.47 toks/s, output: 62.97 toks/s]\n",
      "Processed prompts: 100%|██████████| 1/1 [00:02<00:00,  2.69s/it, est. speed input: 257.36 toks/s, output: 62.94 toks/s]\n",
      "Processed prompts: 100%|██████████| 1/1 [00:00<00:00,  2.14it/s, est. speed input: 2122.18 toks/s, output: 53.75 toks/s]\n",
      "Processed prompts: 100%|██████████| 1/1 [00:00<00:00,  2.16it/s, est. speed input: 2137.80 toks/s, output: 54.15 toks/s]\n",
      "Processed prompts: 100%|██████████| 1/1 [00:02<00:00,  2.70s/it, est. speed input: 341.33 toks/s, output: 62.63 toks/s]\n",
      "Processed prompts: 100%|██████████| 1/1 [00:02<00:00,  2.84s/it, est. speed input: 324.84 toks/s, output: 59.61 toks/s]\n",
      "Processed prompts: 100%|██████████| 1/1 [00:00<00:00,  1.51it/s, est. speed input: 974.35 toks/s, output: 59.10 toks/s]\n",
      "Processed prompts: 100%|██████████| 1/1 [00:00<00:00,  1.50it/s, est. speed input: 968.57 toks/s, output: 58.75 toks/s]\n",
      "Processed prompts: 100%|██████████| 1/1 [00:00<00:00,  1.18it/s, est. speed input: 3931.07 toks/s, output: 43.74 toks/s]\n",
      "Processed prompts: 100%|██████████| 1/1 [00:00<00:00,  1.30it/s, est. speed input: 4340.87 toks/s, output: 40.47 toks/s]\n",
      "Processed prompts: 100%|██████████| 1/1 [00:03<00:00,  3.54s/it, est. speed input: 338.13 toks/s, output: 58.01 toks/s]\n",
      "Processed prompts: 100%|██████████| 1/1 [00:03<00:00,  3.28s/it, est. speed input: 364.40 toks/s, output: 62.51 toks/s]\n",
      "Processed prompts: 100%|██████████| 1/1 [00:00<00:00,  1.46it/s, est. speed input: 1472.62 toks/s, output: 56.92 toks/s]\n",
      "Processed prompts: 100%|██████████| 1/1 [00:00<00:00,  1.46it/s, est. speed input: 1478.47 toks/s, output: 57.14 toks/s]\n",
      "Processed prompts: 100%|██████████| 1/1 [00:00<00:00,  2.50it/s, est. speed input: 649.33 toks/s, output: 62.67 toks/s]\n",
      "Processed prompts: 100%|██████████| 1/1 [00:00<00:00,  2.52it/s, est. speed input: 654.15 toks/s, output: 63.14 toks/s]\n",
      "Processed prompts: 100%|██████████| 1/1 [00:05<00:00,  5.51s/it, est. speed input: 326.92 toks/s, output: 62.63 toks/s]\n",
      "Processed prompts: 100%|██████████| 1/1 [00:05<00:00,  5.50s/it, est. speed input: 327.32 toks/s, output: 62.70 toks/s]\n",
      "Processed prompts: 100%|██████████| 1/1 [00:10<00:00, 10.42s/it, est. speed input: 313.35 toks/s, output: 62.71 toks/s]\n",
      "Processed prompts: 100%|██████████| 1/1 [00:10<00:00, 10.47s/it, est. speed input: 311.59 toks/s, output: 62.36 toks/s]\n",
      "Processed prompts: 100%|██████████| 1/1 [00:00<00:00,  2.98it/s, est. speed input: 4039.99 toks/s, output: 44.85 toks/s]\n",
      "Processed prompts: 100%|██████████| 1/1 [00:00<00:00,  3.68it/s, est. speed input: 4996.17 toks/s, output: 40.68 toks/s]\n",
      "Processed prompts: 100%|██████████| 1/1 [00:00<00:00,  3.63it/s, est. speed input: 2063.24 toks/s, output: 54.77 toks/s]\n",
      "Processed prompts: 100%|██████████| 1/1 [00:00<00:00,  3.62it/s, est. speed input: 2052.06 toks/s, output: 54.48 toks/s]\n",
      "Processed prompts: 100%|██████████| 1/1 [00:01<00:00,  1.23s/it, est. speed input: 343.95 toks/s, output: 64.54 toks/s]\n",
      "Processed prompts: 100%|██████████| 1/1 [00:01<00:00,  1.41s/it, est. speed input: 299.19 toks/s, output: 64.67 toks/s]\n",
      "Processed prompts: 100%|██████████| 1/1 [00:08<00:00,  8.86s/it, est. speed input: 291.26 toks/s, output: 62.18 toks/s]\n",
      "Processed prompts: 100%|██████████| 1/1 [00:08<00:00,  8.83s/it, est. speed input: 292.29 toks/s, output: 62.40 toks/s]\n",
      "Processed prompts: 100%|██████████| 1/1 [00:01<00:00,  1.64s/it, est. speed input: 284.38 toks/s, output: 63.94 toks/s]\n",
      "Processed prompts: 100%|██████████| 1/1 [00:01<00:00,  1.67s/it, est. speed input: 280.58 toks/s, output: 63.08 toks/s]\n",
      "Processed prompts: 100%|██████████| 1/1 [00:03<00:00,  3.35s/it, est. speed input: 458.35 toks/s, output: 61.89 toks/s]\n",
      "Processed prompts: 100%|██████████| 1/1 [00:03<00:00,  3.38s/it, est. speed input: 453.64 toks/s, output: 61.25 toks/s]\n",
      "Processed prompts: 100%|██████████| 1/1 [00:03<00:00,  3.30s/it, est. speed input: 336.91 toks/s, output: 62.77 toks/s]\n",
      "Processed prompts: 100%|██████████| 1/1 [00:03<00:00,  3.32s/it, est. speed input: 334.88 toks/s, output: 62.39 toks/s]\n",
      "Processed prompts: 100%|██████████| 1/1 [00:01<00:00,  1.75s/it, est. speed input: 482.61 toks/s, output: 62.25 toks/s]\n",
      "Processed prompts: 100%|██████████| 1/1 [00:01<00:00,  1.87s/it, est. speed input: 452.91 toks/s, output: 61.64 toks/s]\n",
      "Processed prompts: 100%|██████████| 1/1 [00:03<00:00,  3.34s/it, est. speed input: 459.14 toks/s, output: 62.00 toks/s]\n",
      "Processed prompts: 100%|██████████| 1/1 [00:03<00:00,  3.35s/it, est. speed input: 457.38 toks/s, output: 61.76 toks/s]\n",
      "Processed prompts: 100%|██████████| 2/2 [00:01<00:00,  1.95it/s, est. speed input: 1459.85 toks/s, output: 80.12 toks/s]\n",
      "Processed prompts: 100%|██████████| 2/2 [00:00<00:00,  3.86it/s, est. speed input: 2881.02 toks/s, output: 96.42 toks/s]\n",
      "Processed prompts: 100%|██████████| 1/1 [00:05<00:00,  5.18s/it, est. speed input: 348.84 toks/s, output: 61.65 toks/s]\n",
      "Processed prompts: 100%|██████████| 1/1 [00:05<00:00,  5.12s/it, est. speed input: 352.76 toks/s, output: 62.34 toks/s]\n",
      "Processed prompts: 100%|██████████| 1/1 [00:03<00:00,  3.32s/it, est. speed input: 334.86 toks/s, output: 62.39 toks/s]\n",
      "Processed prompts: 100%|██████████| 1/1 [00:03<00:00,  3.32s/it, est. speed input: 334.63 toks/s, output: 62.35 toks/s]\n",
      "Processed prompts: 100%|██████████| 1/1 [00:00<00:00,  1.64it/s, est. speed input: 552.34 toks/s, output: 63.92 toks/s]\n",
      "Processed prompts: 100%|██████████| 1/1 [00:00<00:00,  1.63it/s, est. speed input: 549.59 toks/s, output: 63.60 toks/s]\n",
      "Processed prompts: 100%|██████████| 2/2 [00:31<00:00, 15.86s/it, est. speed input: 161.31 toks/s, output: 69.59 toks/s]\n"
     ]
    },
    {
     "name": "stdout",
     "output_type": "stream",
     "text": [
      "Exception when parsing response from d5d6de2d: setting an array element with a sequence. The requested array has an inhomogeneous shape after 1 dimensions. The detected shape was (40,) + inhomogeneous part.\n"
     ]
    },
    {
     "name": "stderr",
     "output_type": "stream",
     "text": [
      "Processed prompts: 100%|██████████| 2/2 [00:31<00:00, 15.96s/it, est. speed input: 160.24 toks/s, output: 69.13 toks/s]\n",
      " 84%|████████▍ | 338/400 [51:08<23:16, 22.53s/it]"
     ]
    },
    {
     "name": "stdout",
     "output_type": "stream",
     "text": [
      "Exception when parsing response from d5d6de2d: setting an array element with a sequence. The requested array has an inhomogeneous shape after 1 dimensions. The detected shape was (40,) + inhomogeneous part.\n"
     ]
    },
    {
     "name": "stderr",
     "output_type": "stream",
     "text": [
      "Processed prompts: 100%|██████████| 1/1 [00:00<00:00,  3.99it/s, est. speed input: 1062.56 toks/s, output: 60.14 toks/s]\n",
      "Processed prompts: 100%|██████████| 1/1 [00:00<00:00,  3.60it/s, est. speed input: 957.71 toks/s, output: 61.43 toks/s]\n",
      "Processed prompts: 100%|██████████| 1/1 [00:07<00:00,  7.70s/it, est. speed input: 311.69 toks/s, output: 62.70 toks/s]\n",
      "Processed prompts: 100%|██████████| 1/1 [00:08<00:00,  8.37s/it, est. speed input: 287.00 toks/s, output: 61.08 toks/s]\n",
      "Processed prompts: 100%|██████████| 1/1 [00:03<00:00,  3.34s/it, est. speed input: 459.40 toks/s, output: 62.03 toks/s]\n",
      "Processed prompts: 100%|██████████| 1/1 [00:03<00:00,  3.33s/it, est. speed input: 460.28 toks/s, output: 62.15 toks/s]\n",
      "Processed prompts: 100%|██████████| 1/1 [00:03<00:00,  3.32s/it, est. speed input: 461.76 toks/s, output: 62.35 toks/s]\n",
      "Processed prompts: 100%|██████████| 1/1 [00:03<00:00,  3.45s/it, est. speed input: 443.99 toks/s, output: 59.95 toks/s]\n",
      "Processed prompts: 100%|██████████| 1/1 [00:02<00:00,  2.52s/it, est. speed input: 468.85 toks/s, output: 62.22 toks/s]\n",
      "Processed prompts: 100%|██████████| 1/1 [00:02<00:00,  2.37s/it, est. speed input: 499.82 toks/s, output: 62.11 toks/s]\n",
      "Processed prompts: 100%|██████████| 1/1 [00:02<00:00,  2.12s/it, est. speed input: 310.61 toks/s, output: 62.69 toks/s]\n",
      "Processed prompts: 100%|██████████| 1/1 [00:02<00:00,  2.12s/it, est. speed input: 310.54 toks/s, output: 62.67 toks/s]\n",
      "Processed prompts: 100%|██████████| 1/1 [00:03<00:00,  3.29s/it, est. speed input: 337.58 toks/s, output: 62.90 toks/s]\n",
      "Processed prompts: 100%|██████████| 1/1 [00:03<00:00,  3.31s/it, est. speed input: 336.27 toks/s, output: 62.65 toks/s]\n",
      "Processed prompts: 100%|██████████| 1/1 [00:00<00:00,  4.40it/s, est. speed input: 4994.06 toks/s, output: 39.81 toks/s]\n",
      "Processed prompts: 100%|██████████| 1/1 [00:00<00:00,  4.44it/s, est. speed input: 5043.28 toks/s, output: 40.20 toks/s]\n",
      "Processed prompts: 100%|██████████| 2/2 [00:00<00:00,  4.33it/s, est. speed input: 2090.71 toks/s, output: 108.21 toks/s]\n",
      "Processed prompts: 100%|██████████| 2/2 [00:00<00:00,  4.35it/s, est. speed input: 2102.36 toks/s, output: 108.81 toks/s]\n",
      "Processed prompts: 100%|██████████| 1/1 [00:02<00:00,  2.69s/it, est. speed input: 237.04 toks/s, output: 62.89 toks/s]\n",
      "Processed prompts: 100%|██████████| 1/1 [00:02<00:00,  2.95s/it, est. speed input: 216.26 toks/s, output: 63.49 toks/s]\n",
      "Processed prompts: 100%|██████████| 1/1 [00:27<00:00, 27.65s/it, est. speed input: 233.43 toks/s, output: 62.85 toks/s]\n"
     ]
    },
    {
     "name": "stdout",
     "output_type": "stream",
     "text": [
      "Exception when parsing response from db93a21d: setting an array element with a sequence. The requested array has an inhomogeneous shape after 1 dimensions. The detected shape was (29,) + inhomogeneous part.\n"
     ]
    },
    {
     "name": "stderr",
     "output_type": "stream",
     "text": [
      "Processed prompts: 100%|██████████| 1/1 [00:22<00:00, 22.64s/it, est. speed input: 285.14 toks/s, output: 61.27 toks/s]\n",
      "Processed prompts: 100%|██████████| 1/1 [00:11<00:00, 11.68s/it, est. speed input: 224.10 toks/s, output: 61.74 toks/s]\n",
      "Processed prompts: 100%|██████████| 1/1 [00:11<00:00, 11.75s/it, est. speed input: 222.84 toks/s, output: 62.07 toks/s]\n",
      "Processed prompts: 100%|██████████| 1/1 [00:01<00:00,  1.08s/it, est. speed input: 2167.85 toks/s, output: 53.01 toks/s]\n",
      "Processed prompts: 100%|██████████| 1/1 [00:01<00:00,  1.08s/it, est. speed input: 2169.47 toks/s, output: 53.05 toks/s]\n",
      "Processed prompts: 100%|██████████| 1/1 [00:03<00:00,  3.27s/it, est. speed input: 235.29 toks/s, output: 63.33 toks/s]\n",
      "Processed prompts: 100%|██████████| 1/1 [00:03<00:00,  3.29s/it, est. speed input: 233.69 toks/s, output: 62.90 toks/s]\n",
      "Processed prompts: 100%|██████████| 2/2 [00:04<00:00,  2.06s/it, est. speed input: 805.88 toks/s, output: 66.39 toks/s]\n",
      "Processed prompts: 100%|██████████| 2/2 [00:04<00:00,  2.06s/it, est. speed input: 807.71 toks/s, output: 66.54 toks/s]\n",
      "Processed prompts: 100%|██████████| 1/1 [00:03<00:00,  3.32s/it, est. speed input: 461.88 toks/s, output: 62.37 toks/s]\n",
      "Processed prompts: 100%|██████████| 1/1 [00:03<00:00,  3.34s/it, est. speed input: 459.86 toks/s, output: 62.09 toks/s]\n",
      "Processed prompts: 100%|██████████| 1/1 [00:00<00:00,  2.76it/s, est. speed input: 8084.17 toks/s, output: 24.91 toks/s]\n",
      "Processed prompts: 100%|██████████| 1/1 [00:00<00:00,  2.73it/s, est. speed input: 8006.37 toks/s, output: 24.67 toks/s]\n",
      "Processed prompts: 100%|██████████| 1/1 [00:03<00:00,  3.34s/it, est. speed input: 459.79 toks/s, output: 62.08 toks/s]\n",
      "Processed prompts: 100%|██████████| 1/1 [00:03<00:00,  3.33s/it, est. speed input: 460.98 toks/s, output: 62.25 toks/s]\n",
      "Processed prompts: 100%|██████████| 1/1 [00:01<00:00,  1.70s/it, est. speed input: 349.56 toks/s, output: 63.07 toks/s]\n",
      "Processed prompts: 100%|██████████| 1/1 [00:01<00:00,  1.69s/it, est. speed input: 351.57 toks/s, output: 63.44 toks/s]\n",
      "Processed prompts: 100%|██████████| 1/1 [00:12<00:00, 12.78s/it, est. speed input: 178.31 toks/s, output: 63.14 toks/s]\n",
      "Processed prompts: 100%|██████████| 1/1 [00:12<00:00, 12.11s/it, est. speed input: 188.18 toks/s, output: 63.33 toks/s]\n",
      "Processed prompts: 100%|██████████| 1/1 [00:07<00:00,  7.44s/it, est. speed input: 408.09 toks/s, output: 61.45 toks/s]\n",
      "Processed prompts: 100%|██████████| 1/1 [00:07<00:00,  7.35s/it, est. speed input: 412.93 toks/s, output: 62.18 toks/s]\n",
      "Processed prompts: 100%|██████████| 1/1 [00:01<00:00,  1.44s/it, est. speed input: 758.89 toks/s, output: 60.41 toks/s]\n",
      "Processed prompts: 100%|██████████| 1/1 [00:01<00:00,  1.44s/it, est. speed input: 759.28 toks/s, output: 60.44 toks/s]\n",
      "Processed prompts: 100%|██████████| 1/1 [00:03<00:00,  3.34s/it, est. speed input: 459.44 toks/s, output: 62.04 toks/s]\n",
      "Processed prompts: 100%|██████████| 1/1 [00:03<00:00,  3.35s/it, est. speed input: 458.35 toks/s, output: 61.89 toks/s]\n",
      "Processed prompts: 100%|██████████| 1/1 [00:03<00:00,  3.36s/it, est. speed input: 581.76 toks/s, output: 61.60 toks/s]\n",
      "Processed prompts: 100%|██████████| 1/1 [00:03<00:00,  3.36s/it, est. speed input: 582.40 toks/s, output: 61.67 toks/s]\n",
      "Processed prompts: 100%|██████████| 1/1 [00:03<00:00,  3.33s/it, est. speed input: 460.27 toks/s, output: 62.15 toks/s]\n",
      "Processed prompts: 100%|██████████| 1/1 [00:03<00:00,  3.33s/it, est. speed input: 459.92 toks/s, output: 62.10 toks/s]\n",
      "Processed prompts: 100%|██████████| 1/1 [00:07<00:00,  7.38s/it, est. speed input: 445.85 toks/s, output: 61.68 toks/s]\n",
      "Processed prompts: 100%|██████████| 1/1 [00:07<00:00,  7.34s/it, est. speed input: 448.05 toks/s, output: 61.98 toks/s]\n",
      "Processed prompts: 100%|██████████| 1/1 [00:00<00:00,  1.45it/s, est. speed input: 1509.84 toks/s, output: 56.67 toks/s]\n",
      "Processed prompts: 100%|██████████| 1/1 [00:00<00:00,  2.12it/s, est. speed input: 2212.27 toks/s, output: 53.23 toks/s]\n",
      "Processed prompts: 100%|██████████| 1/1 [00:07<00:00,  7.71s/it, est. speed input: 439.09 toks/s, output: 60.16 toks/s]\n",
      "Processed prompts: 100%|██████████| 1/1 [00:09<00:00,  9.15s/it, est. speed input: 369.67 toks/s, output: 58.53 toks/s]\n",
      "Processed prompts: 100%|██████████| 1/1 [00:09<00:00,  9.75s/it, est. speed input: 356.20 toks/s, output: 59.79 toks/s]\n",
      "Processed prompts: 100%|██████████| 1/1 [00:09<00:00,  9.94s/it, est. speed input: 349.45 toks/s, output: 58.66 toks/s]\n",
      "Processed prompts: 100%|██████████| 1/1 [00:03<00:00,  3.35s/it, est. speed input: 331.37 toks/s, output: 61.74 toks/s]\n",
      "Processed prompts: 100%|██████████| 1/1 [00:03<00:00,  3.36s/it, est. speed input: 330.99 toks/s, output: 61.67 toks/s]\n",
      "Processed prompts: 100%|██████████| 1/1 [00:03<00:00,  3.36s/it, est. speed input: 456.38 toks/s, output: 61.62 toks/s]\n",
      "Processed prompts: 100%|██████████| 1/1 [00:03<00:00,  3.66s/it, est. speed input: 419.13 toks/s, output: 62.06 toks/s]\n",
      "Processed prompts: 100%|██████████| 1/1 [00:09<00:00,  9.69s/it, est. speed input: 302.47 toks/s, output: 60.20 toks/s]\n",
      "Processed prompts: 100%|██████████| 1/1 [00:10<00:00, 10.68s/it, est. speed input: 274.40 toks/s, output: 54.62 toks/s]\n",
      "Processed prompts: 100%|██████████| 2/2 [00:04<00:00,  2.43s/it, est. speed input: 458.17 toks/s, output: 86.70 toks/s]\n",
      "Processed prompts: 100%|██████████| 2/2 [00:05<00:00,  2.78s/it, est. speed input: 400.98 toks/s, output: 79.48 toks/s]\n",
      "Processed prompts: 100%|██████████| 1/1 [00:02<00:00,  2.30s/it, est. speed input: 622.77 toks/s, output: 50.92 toks/s]\n",
      "Processed prompts: 100%|██████████| 1/1 [00:02<00:00,  2.51s/it, est. speed input: 571.41 toks/s, output: 50.71 toks/s]\n",
      "Processed prompts: 100%|██████████| 1/1 [00:00<00:00,  1.78it/s, est. speed input: 413.26 toks/s, output: 55.46 toks/s]\n",
      "Processed prompts: 100%|██████████| 1/1 [00:00<00:00,  1.75it/s, est. speed input: 406.05 toks/s, output: 54.49 toks/s]\n",
      "Processed prompts: 100%|██████████| 1/1 [00:03<00:00,  3.47s/it, est. speed input: 563.66 toks/s, output: 59.68 toks/s]\n",
      "Processed prompts: 100%|██████████| 1/1 [00:03<00:00,  3.52s/it, est. speed input: 555.14 toks/s, output: 58.78 toks/s]\n",
      "Processed prompts: 100%|██████████| 1/1 [00:04<00:00,  4.56s/it, est. speed input: 155.19 toks/s, output: 54.65 toks/s]\n",
      "Processed prompts: 100%|██████████| 1/1 [00:04<00:00,  4.41s/it, est. speed input: 160.29 toks/s, output: 56.45 toks/s]\n",
      "Processed prompts: 100%|██████████| 1/1 [00:08<00:00,  8.83s/it, est. speed input: 143.48 toks/s, output: 54.70 toks/s]\n",
      "Processed prompts: 100%|██████████| 1/1 [00:09<00:00,  9.33s/it, est. speed input: 135.78 toks/s, output: 55.41 toks/s]\n",
      "Processed prompts: 100%|██████████| 1/1 [00:33<00:00, 33.95s/it, est. speed input: 146.36 toks/s, output: 58.91 toks/s]\n"
     ]
    },
    {
     "name": "stdout",
     "output_type": "stream",
     "text": [
      "Exception when parsing response from eb5a1d5d: setting an array element with a sequence. The requested array has an inhomogeneous shape after 1 dimensions. The detected shape was (143,) + inhomogeneous part.\n"
     ]
    },
    {
     "name": "stderr",
     "output_type": "stream",
     "text": [
      "Processed prompts: 100%|██████████| 1/1 [00:32<00:00, 32.83s/it, est. speed input: 151.37 toks/s, output: 60.93 toks/s]\n",
      " 94%|█████████▍| 377/400 [58:16<10:36, 27.67s/it]"
     ]
    },
    {
     "name": "stdout",
     "output_type": "stream",
     "text": [
      "Exception when parsing response from eb5a1d5d: setting an array element with a sequence. The requested array has an inhomogeneous shape after 1 dimensions. The detected shape was (143,) + inhomogeneous part.\n"
     ]
    },
    {
     "name": "stderr",
     "output_type": "stream",
     "text": [
      "Processed prompts: 100%|██████████| 1/1 [00:04<00:00,  4.73s/it, est. speed input: 368.44 toks/s, output: 62.36 toks/s]\n",
      "Processed prompts: 100%|██████████| 1/1 [00:04<00:00,  4.75s/it, est. speed input: 367.44 toks/s, output: 62.19 toks/s]\n",
      "Processed prompts: 100%|██████████| 1/1 [00:10<00:00, 10.69s/it, est. speed input: 300.10 toks/s, output: 61.11 toks/s]\n",
      "Processed prompts: 100%|██████████| 1/1 [00:10<00:00, 10.91s/it, est. speed input: 294.04 toks/s, output: 59.87 toks/s]\n",
      "Processed prompts: 100%|██████████| 1/1 [00:00<00:00,  1.88it/s, est. speed input: 605.81 toks/s, output: 47.78 toks/s]\n",
      "Processed prompts: 100%|██████████| 1/1 [00:00<00:00,  2.42it/s, est. speed input: 769.39 toks/s, output: 60.68 toks/s]\n",
      "Processed prompts: 100%|██████████| 1/1 [00:03<00:00,  3.42s/it, est. speed input: 448.33 toks/s, output: 60.54 toks/s]\n",
      "Processed prompts: 100%|██████████| 1/1 [00:03<00:00,  3.34s/it, est. speed input: 458.80 toks/s, output: 61.95 toks/s]\n",
      "Processed prompts: 100%|██████████| 1/1 [00:08<00:00,  8.00s/it, est. speed input: 311.70 toks/s, output: 51.89 toks/s]\n",
      "Processed prompts: 100%|██████████| 1/1 [00:06<00:00,  6.56s/it, est. speed input: 380.33 toks/s, output: 55.99 toks/s]\n",
      "Processed prompts: 100%|██████████| 1/1 [00:11<00:00, 11.88s/it, est. speed input: 334.79 toks/s, output: 61.20 toks/s]\n",
      "Processed prompts: 100%|██████████| 1/1 [00:11<00:00, 11.23s/it, est. speed input: 354.35 toks/s, output: 58.18 toks/s]\n",
      "Processed prompts: 100%|██████████| 1/1 [00:02<00:00,  2.83s/it, est. speed input: 369.81 toks/s, output: 53.44 toks/s]\n",
      "Processed prompts: 100%|██████████| 1/1 [00:01<00:00,  1.10s/it, est. speed input: 950.22 toks/s, output: 51.83 toks/s]\n",
      "Processed prompts: 100%|██████████| 1/1 [00:01<00:00,  1.71s/it, est. speed input: 298.76 toks/s, output: 50.86 toks/s]\n",
      "Processed prompts: 100%|██████████| 1/1 [00:01<00:00,  1.70s/it, est. speed input: 300.98 toks/s, output: 51.24 toks/s]\n",
      "Processed prompts: 100%|██████████| 1/1 [00:00<00:00,  1.67it/s, est. speed input: 1060.06 toks/s, output: 51.91 toks/s]\n",
      "Processed prompts: 100%|██████████| 1/1 [00:00<00:00,  1.62it/s, est. speed input: 1034.09 toks/s, output: 50.64 toks/s]\n",
      "Processed prompts: 100%|██████████| 1/1 [00:09<00:00,  9.57s/it, est. speed input: 489.09 toks/s, output: 60.94 toks/s]\n",
      "Processed prompts: 100%|██████████| 1/1 [00:10<00:00, 10.09s/it, est. speed input: 463.83 toks/s, output: 61.36 toks/s]\n",
      "Processed prompts: 100%|██████████| 1/1 [00:03<00:00,  3.88s/it, est. speed input: 168.69 toks/s, output: 63.61 toks/s]\n"
     ]
    },
    {
     "name": "stdout",
     "output_type": "stream",
     "text": [
      "Exception when parsing response from f5b8619d: setting an array element with a sequence. The requested array has an inhomogeneous shape after 1 dimensions. The detected shape was (11,) + inhomogeneous part.\n"
     ]
    },
    {
     "name": "stderr",
     "output_type": "stream",
     "text": [
      "Processed prompts: 100%|██████████| 1/1 [00:00<00:00,  1.05it/s, est. speed input: 690.02 toks/s, output: 60.05 toks/s]\n",
      "Processed prompts: 100%|██████████| 1/1 [00:00<00:00,  1.13it/s, est. speed input: 472.72 toks/s, output: 64.31 toks/s]\n",
      "Processed prompts: 100%|██████████| 1/1 [00:00<00:00,  1.13it/s, est. speed input: 474.79 toks/s, output: 64.59 toks/s]\n",
      "Processed prompts: 100%|██████████| 1/1 [00:07<00:00,  7.39s/it, est. speed input: 444.62 toks/s, output: 61.89 toks/s]\n",
      "Processed prompts: 100%|██████████| 1/1 [00:07<00:00,  7.36s/it, est. speed input: 446.19 toks/s, output: 62.11 toks/s]\n",
      "Processed prompts: 100%|██████████| 1/1 [00:00<00:00,  2.81it/s, est. speed input: 5426.07 toks/s, output: 36.72 toks/s]\n",
      "Processed prompts: 100%|██████████| 1/1 [00:00<00:00,  2.81it/s, est. speed input: 5421.88 toks/s, output: 36.69 toks/s]\n",
      "Processed prompts: 100%|██████████| 1/1 [00:03<00:00,  3.35s/it, est. speed input: 457.11 toks/s, output: 61.72 toks/s]\n",
      "Processed prompts: 100%|██████████| 1/1 [00:03<00:00,  3.37s/it, est. speed input: 455.52 toks/s, output: 61.51 toks/s]\n",
      "Processed prompts: 100%|██████████| 1/1 [00:00<00:00,  3.32it/s, est. speed input: 4348.16 toks/s, output: 43.38 toks/s]\n",
      "Processed prompts: 100%|██████████| 1/1 [00:00<00:00,  3.33it/s, est. speed input: 4353.66 toks/s, output: 43.43 toks/s]\n",
      "Processed prompts: 100%|██████████| 1/1 [00:00<00:00,  4.94it/s, est. speed input: 2131.23 toks/s, output: 54.64 toks/s]\n",
      "Processed prompts: 100%|██████████| 1/1 [00:00<00:00,  5.00it/s, est. speed input: 2155.36 toks/s, output: 55.26 toks/s]\n",
      "Processed prompts: 100%|██████████| 1/1 [00:00<00:00,  2.44it/s, est. speed input: 1181.99 toks/s, output: 61.18 toks/s]\n",
      "Processed prompts: 100%|██████████| 1/1 [00:00<00:00,  2.36it/s, est. speed input: 1145.45 toks/s, output: 59.29 toks/s]\n",
      "Processed prompts: 100%|██████████| 1/1 [00:02<00:00,  2.06s/it, est. speed input: 1081.34 toks/s, output: 57.83 toks/s]\n",
      "Processed prompts: 100%|██████████| 1/1 [00:01<00:00,  1.83s/it, est. speed input: 1216.92 toks/s, output: 57.43 toks/s]\n",
      "Processed prompts: 100%|██████████| 1/1 [00:03<00:00,  3.34s/it, est. speed input: 458.83 toks/s, output: 61.95 toks/s]\n",
      "Processed prompts: 100%|██████████| 1/1 [00:03<00:00,  3.35s/it, est. speed input: 457.68 toks/s, output: 61.80 toks/s]\n",
      " 99%|█████████▉| 397/400 [1:00:42<00:12,  4.17s/it]"
     ]
    }
   ],
   "source": [
    "if is_dry_run:\n",
    "    with open('submission.json', 'w') as f:\n",
    "        json.dump(dict(dry_run=True), f)\n",
    "else:\n",
    "    sampling_params = SamplingParams(**cfg.sampling_params)\n",
    "    solutions, texts = inference(data, prompt_creator, sampling_params)\n",
    "    with open('submission.json', 'w') as f:\n",
    "        json.dump(solutions, f)    "
   ]
  },
  {
   "cell_type": "code",
   "execution_count": null,
   "metadata": {
    "trusted": true
   },
   "outputs": [],
   "source": [
    "if not is_dry_run:\n",
    "    number_of_predictions_per_task = analyze_number_of_predictions_per_task(data, texts)\n",
    "    number_of_predictions_per_task"
   ]
  },
  {
   "cell_type": "markdown",
   "metadata": {},
   "source": [
    "## Evaluation"
   ]
  },
  {
   "cell_type": "code",
   "execution_count": null,
   "metadata": {
    "trusted": true
   },
   "outputs": [],
   "source": [
    "ground_truth_path = cfg.dataset_path.replace('challenges.json', 'solutions.json')\n",
    "if os.path.exists(ground_truth_path):\n",
    "    with open(ground_truth_path, 'r') as f:\n",
    "        ground_truth = json.load(f)\n",
    "    ground_truth = {key: ground_truth[key] for key in solutions}\n",
    "    evaluate(ground_truth, solutions)\n",
    "    \n",
    "    with open('texts.json', 'w') as f:\n",
    "        json.dump(texts, f)\n",
    "    with open('number_of_predictions_per_task.json', 'w') as f:\n",
    "        json.dump(number_of_predictions_per_task, f)"
   ]
  },
  {
   "cell_type": "markdown",
   "metadata": {},
   "source": [
    "## TODO"
   ]
  },
  {
   "cell_type": "markdown",
   "metadata": {},
   "source": [
    "- [x] Do I have to apply the chat template before calling the model? Yes\n",
    "- [x] Implement a simple formatter and parser to go from ARC format to text and viceversa\n",
    "- [x] Function to format a sample and to parse the output\n",
    "- [x] Verify that the tokenizer does encode each cell independently. Using the tokenizer vocabulary I have verified that each number appears only once, thus separation between numbers is not necessary.\n",
    "- [x] Make inference in a whole dataset\n",
    "- [x] Evaluate dataset, I would like to see statistics about failed predictions and accuracy\n",
    "- [x] Visualization of the predictions\n",
    "- [x] Add a configuration object\n",
    "- [ ] Add logging\n",
    "- [x] Show a promtp as example\n",
    "- [x] Show the full task as reference\n",
    "- [x] Sampling parameters to configuration\n",
    "- [x] Improve saving of the metrics\n",
    "- [x] First evaluations with a smaller subset\n",
    "- [x] Token length distribution\n",
    "- [x] Dry run for submission, check on previous competitions how it is done. https://www.kaggle.com/discussions/product-feedback/315792\n",
    "- [x] Measure the number of predictions per task\n",
    "- [x] Better metrics\n",
    "- [x] Few shot prompts"
   ]
  }
 ],
 "metadata": {
  "kaggle": {
   "accelerator": "nvidiaTeslaT4",
   "dataSources": [
    {
     "databundleVersionId": 8951125,
     "sourceId": 67357,
     "sourceType": "competition"
    },
    {
     "sourceId": 200567623,
     "sourceType": "kernelVersion"
    },
    {
     "modelId": 1902,
     "modelInstanceId": 3900,
     "sourceId": 5112,
     "sourceType": "modelInstanceVersion"
    },
    {
     "modelId": 39106,
     "modelInstanceId": 28083,
     "sourceId": 33551,
     "sourceType": "modelInstanceVersion"
    },
    {
     "modelId": 90791,
     "modelInstanceId": 65946,
     "sourceId": 78461,
     "sourceType": "modelInstanceVersion"
    },
    {
     "modelId": 91102,
     "modelInstanceId": 68809,
     "sourceId": 81881,
     "sourceType": "modelInstanceVersion"
    }
   ],
   "dockerImageVersionId": 30747,
   "isGpuEnabled": true,
   "isInternetEnabled": false,
   "language": "python",
   "sourceType": "notebook"
  },
  "kernelspec": {
   "display_name": "livecode",
   "language": "python",
   "name": "python3"
  },
  "language_info": {
   "codemirror_mode": {
    "name": "ipython",
    "version": 3
   },
   "file_extension": ".py",
   "mimetype": "text/x-python",
   "name": "python",
   "nbconvert_exporter": "python",
   "pygments_lexer": "ipython3",
   "version": "3.10.15"
  }
 },
 "nbformat": 4,
 "nbformat_minor": 4
}
